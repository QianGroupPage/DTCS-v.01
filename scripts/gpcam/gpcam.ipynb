{
 "cells": [
  {
   "cell_type": "code",
   "execution_count": 6,
   "metadata": {
    "scrolled": true
   },
   "outputs": [],
   "source": [
    "from run import run"
   ]
  },
  {
   "cell_type": "code",
   "execution_count": 7,
   "metadata": {},
   "outputs": [
    {
     "name": "stderr",
     "output_type": "stream",
     "text": [
      "c:\\users\\andrew bogdan\\programs\\work\\venvs\\lbl-crn-venv\\lib\\site-packages\\distributed\\node.py:161: UserWarning: Port 8787 is already in use.\n",
      "Perhaps you already have a cluster running?\n",
      "Hosting the HTTP server on port 63389 instead\n",
      "  f\"Port {expected} is already in use.\\n\"\n"
     ]
    },
    {
     "name": "stdout",
     "output_type": "stream",
     "text": [
      "New data communicated via tell()\n",
      "GP successfully initiated\n",
      "Costs successfully initialized\n",
      "##################################################################################\n",
      "Autonomous Experimenter initialization successfully concluded\n",
      "now train(...) or train_async(...), and then go(...)\n",
      "##################################################################################\n",
      "fvGP training started with  20  data points\n",
      "fvGP hyperparameter tuning in progress. Old hyperparameters:  [1. 1. 1.]  with old log likelihood:  123812476.99930927\n",
      "method:  global\n",
      "fvGP is performing a global differential evolution algorithm to find the optimal hyperparameters.\n",
      "maximum number of iterations:  20\n",
      "termination tolerance:  1e-06\n",
      "bounds:  [[  1.  100. ]\n",
      " [  0.1 100. ]\n",
      " [  0.1 100. ]]\n",
      "differential_evolution step 1: f(x)= 1.86073e+06\n",
      "differential_evolution step 2: f(x)= 1.27389e+06\n",
      "differential_evolution step 3: f(x)= 1.20714e+06\n",
      "differential_evolution step 4: f(x)= 1.20714e+06\n",
      "differential_evolution step 5: f(x)= 1.20714e+06\n",
      "differential_evolution step 6: f(x)= 1.19173e+06\n",
      "differential_evolution step 7: f(x)= 1.15621e+06\n",
      "differential_evolution step 8: f(x)= 1.13552e+06\n",
      "differential_evolution step 9: f(x)= 1.13552e+06\n",
      "differential_evolution step 10: f(x)= 1.13552e+06\n",
      "differential_evolution step 11: f(x)= 1.13552e+06\n",
      "differential_evolution step 12: f(x)= 1.13552e+06\n",
      "differential_evolution step 13: f(x)= 1.1322e+06\n",
      "differential_evolution step 14: f(x)= 1.13152e+06\n",
      "differential_evolution step 15: f(x)= 1.13152e+06\n",
      "differential_evolution step 16: f(x)= 1.13152e+06\n",
      "differential_evolution step 17: f(x)= 1.13152e+06\n",
      "differential_evolution step 18: f(x)= 1.13152e+06\n",
      "differential_evolution step 19: f(x)= 1.13152e+06\n",
      "differential_evolution step 20: f(x)= 1.13111e+06\n",
      "fvGP found hyperparameters  [100.           2.61717468   2.38572108]  with likelihood  1127870.1224857047  via global optimization\n",
      "Date and time:        2021-09-28_18_48_22\n",
      "Tried to kill the client, but it appears there was none.\n",
      "====================================================\n",
      "The autonomous experiment was concluded successfully\n",
      "====================================================\n"
     ]
    }
   ],
   "source": [
    "run()"
   ]
  },
  {
   "cell_type": "code",
   "execution_count": 4,
   "metadata": {},
   "outputs": [
    {
     "ename": "ImportError",
     "evalue": "cannot import name 'global_config' from 'gpcam' (c:\\users\\andrew bogdan\\programs\\work\\venvs\\lbl-crn-venv\\lib\\site-packages\\gpcam\\__init__.py)",
     "output_type": "error",
     "traceback": [
      "\u001b[1;31m-------------------------------------------------------------------\u001b[0m",
      "\u001b[1;31mImportError\u001b[0m                       Traceback (most recent call last)",
      "\u001b[1;32m<ipython-input-4-9d88c5027fc3>\u001b[0m in \u001b[0;36m<module>\u001b[1;34m\u001b[0m\n\u001b[1;32m----> 1\u001b[1;33m \u001b[1;32mfrom\u001b[0m \u001b[0mgpcam\u001b[0m\u001b[1;33m.\u001b[0m\u001b[0mvisualize\u001b[0m \u001b[1;32mimport\u001b[0m \u001b[0mmain\u001b[0m \u001b[1;32mas\u001b[0m \u001b[0mmainv\u001b[0m\u001b[1;33m\u001b[0m\u001b[0m\n\u001b[0m",
      "\u001b[1;32mc:\\users\\andrew bogdan\\programs\\work\\venvs\\lbl-crn-venv\\lib\\site-packages\\gpcam\\visualize.py\u001b[0m in \u001b[0;36m<module>\u001b[1;34m\u001b[0m\n\u001b[0;32m      3\u001b[0m \u001b[1;32mfrom\u001b[0m \u001b[0mtime\u001b[0m \u001b[1;32mimport\u001b[0m \u001b[0mstrftime\u001b[0m\u001b[1;33m\u001b[0m\u001b[0m\n\u001b[0;32m      4\u001b[0m \u001b[1;32mimport\u001b[0m \u001b[0mnumpy\u001b[0m \u001b[1;32mas\u001b[0m \u001b[0mnp\u001b[0m\u001b[1;33m\u001b[0m\u001b[0m\n\u001b[1;32m----> 5\u001b[1;33m \u001b[1;32mfrom\u001b[0m \u001b[0mgpcam\u001b[0m \u001b[1;32mimport\u001b[0m \u001b[0mglobal_config\u001b[0m \u001b[1;32mas\u001b[0m \u001b[0mconf\u001b[0m\u001b[1;33m\u001b[0m\u001b[0m\n\u001b[0m\u001b[0;32m      6\u001b[0m \u001b[1;33m\u001b[0m\u001b[0m\n\u001b[0;32m      7\u001b[0m \u001b[1;32mfrom\u001b[0m \u001b[1;33m.\u001b[0m \u001b[1;32mimport\u001b[0m \u001b[0mmisc\u001b[0m \u001b[1;32mas\u001b[0m \u001b[0msmc\u001b[0m\u001b[1;33m\u001b[0m\u001b[0m\n",
      "\u001b[1;31mImportError\u001b[0m: cannot import name 'global_config' from 'gpcam' (c:\\users\\andrew bogdan\\programs\\work\\venvs\\lbl-crn-venv\\lib\\site-packages\\gpcam\\__init__.py)"
     ]
    }
   ],
   "source": [
    "from gpcam.visualize import main as mainv"
   ]
  },
  {
   "cell_type": "code",
   "execution_count": null,
   "metadata": {},
   "outputs": [],
   "source": []
  }
 ],
 "metadata": {
  "kernelspec": {
   "display_name": "Python 3",
   "language": "python",
   "name": "python3"
  },
  "language_info": {
   "codemirror_mode": {
    "name": "ipython",
    "version": 3
   },
   "file_extension": ".py",
   "mimetype": "text/x-python",
   "name": "python",
   "nbconvert_exporter": "python",
   "pygments_lexer": "ipython3",
   "version": "3.7.0"
  }
 },
 "nbformat": 4,
 "nbformat_minor": 4
}
