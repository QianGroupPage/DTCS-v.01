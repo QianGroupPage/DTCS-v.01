{
 "cells": [
  {
   "cell_type": "code",
   "execution_count": 1,
   "metadata": {},
   "outputs": [],
   "source": [
    "from run import run"
   ]
  },
  {
   "cell_type": "code",
   "execution_count": 2,
   "metadata": {},
   "outputs": [
    {
     "name": "stdout",
     "output_type": "stream",
     "text": [
      "New data communicated via tell()\n",
      "GP successfully initiated\n",
      "Costs successfully initialized\n",
      "##################################################################################\n",
      "Initialization successfully concluded\n",
      "now train(...) or train_async(...), and then go(...)\n",
      "##################################################################################\n",
      "fvGP training started with  20  data points\n",
      "fvGP hyperparameter tuning in progress. Old hyperparameters:  [1. 1. 1.]  with old log likelihood:  144688893.73878735\n",
      "method:  global\n",
      "fvGP is performing a global differential evolution algorithm to find the optimal hyperparameters.\n",
      "maximum number of iterations:  20\n",
      "termination tolerance:  1e-06\n",
      "bounds:  [[  1.  100. ]\n",
      " [  0.1 100. ]\n",
      " [  0.1 100. ]]\n",
      "differential_evolution step 1: f(x)= 2.34454e+06\n",
      "differential_evolution step 2: f(x)= 1.76318e+06\n",
      "differential_evolution step 3: f(x)= 1.76318e+06\n",
      "differential_evolution step 4: f(x)= 1.37258e+06\n",
      "differential_evolution step 5: f(x)= 1.37258e+06\n",
      "differential_evolution step 6: f(x)= 1.37258e+06\n",
      "differential_evolution step 7: f(x)= 1.37258e+06\n",
      "differential_evolution step 8: f(x)= 1.37258e+06\n",
      "differential_evolution step 9: f(x)= 1.16492e+06\n",
      "differential_evolution step 10: f(x)= 1.16492e+06\n",
      "differential_evolution step 11: f(x)= 1.11709e+06\n",
      "differential_evolution step 12: f(x)= 1.11709e+06\n",
      "differential_evolution step 13: f(x)= 1.11141e+06\n",
      "differential_evolution step 14: f(x)= 1.11141e+06\n",
      "differential_evolution step 15: f(x)= 1.1081e+06\n",
      "differential_evolution step 16: f(x)= 1.1081e+06\n",
      "differential_evolution step 17: f(x)= 1.1081e+06\n",
      "differential_evolution step 18: f(x)= 1.10204e+06\n",
      "differential_evolution step 19: f(x)= 1.09274e+06\n",
      "differential_evolution step 20: f(x)= 1.08658e+06\n",
      "fvGP found hyperparameters  [100.          3.2965502   2.6111991]  with likelihood  1084020.4223277154  via global optimization\n",
      "Date and time:        2021-07-06_12_47_01\n",
      "====================================================\n",
      "The autonomous experiment was concluded successfully\n",
      "====================================================\n"
     ]
    }
   ],
   "source": [
    "run()"
   ]
  },
  {
   "cell_type": "code",
   "execution_count": 3,
   "metadata": {},
   "outputs": [
    {
     "ename": "ImportError",
     "evalue": "cannot import name 'global_config' from 'gpcam' (/Users/rithvik/dev/lbl-crn/venv/lib/python3.8/site-packages/gpcam/__init__.py)",
     "output_type": "error",
     "traceback": [
      "\u001b[0;31m---------------------------------------------------------------------------\u001b[0m",
      "\u001b[0;31mImportError\u001b[0m                               Traceback (most recent call last)",
      "\u001b[0;32m<ipython-input-3-9d88c5027fc3>\u001b[0m in \u001b[0;36m<module>\u001b[0;34m\u001b[0m\n\u001b[0;32m----> 1\u001b[0;31m \u001b[0;32mfrom\u001b[0m \u001b[0mgpcam\u001b[0m\u001b[0;34m.\u001b[0m\u001b[0mvisualize\u001b[0m \u001b[0;32mimport\u001b[0m \u001b[0mmain\u001b[0m \u001b[0;32mas\u001b[0m \u001b[0mmainv\u001b[0m\u001b[0;34m\u001b[0m\u001b[0;34m\u001b[0m\u001b[0m\n\u001b[0m",
      "\u001b[0;32m~/dev/lbl-crn/venv/lib/python3.8/site-packages/gpcam/visualize.py\u001b[0m in \u001b[0;36m<module>\u001b[0;34m\u001b[0m\n\u001b[1;32m      3\u001b[0m \u001b[0;32mfrom\u001b[0m \u001b[0mtime\u001b[0m \u001b[0;32mimport\u001b[0m \u001b[0mstrftime\u001b[0m\u001b[0;34m\u001b[0m\u001b[0;34m\u001b[0m\u001b[0m\n\u001b[1;32m      4\u001b[0m \u001b[0;32mimport\u001b[0m \u001b[0mnumpy\u001b[0m \u001b[0;32mas\u001b[0m \u001b[0mnp\u001b[0m\u001b[0;34m\u001b[0m\u001b[0;34m\u001b[0m\u001b[0m\n\u001b[0;32m----> 5\u001b[0;31m \u001b[0;32mfrom\u001b[0m \u001b[0mgpcam\u001b[0m \u001b[0;32mimport\u001b[0m \u001b[0mglobal_config\u001b[0m \u001b[0;32mas\u001b[0m \u001b[0mconf\u001b[0m\u001b[0;34m\u001b[0m\u001b[0;34m\u001b[0m\u001b[0m\n\u001b[0m\u001b[1;32m      6\u001b[0m \u001b[0;34m\u001b[0m\u001b[0m\n\u001b[1;32m      7\u001b[0m \u001b[0;32mfrom\u001b[0m \u001b[0;34m.\u001b[0m \u001b[0;32mimport\u001b[0m \u001b[0mmisc\u001b[0m \u001b[0;32mas\u001b[0m \u001b[0msmc\u001b[0m\u001b[0;34m\u001b[0m\u001b[0;34m\u001b[0m\u001b[0m\n",
      "\u001b[0;31mImportError\u001b[0m: cannot import name 'global_config' from 'gpcam' (/Users/rithvik/dev/lbl-crn/venv/lib/python3.8/site-packages/gpcam/__init__.py)"
     ]
    }
   ],
   "source": [
    "from gpcam.visualize import main as mainv"
   ]
  },
  {
   "cell_type": "code",
   "execution_count": null,
   "metadata": {},
   "outputs": [],
   "source": []
  }
 ],
 "metadata": {
  "kernelspec": {
   "display_name": "Python 3",
   "language": "python",
   "name": "python3"
  },
  "language_info": {
   "codemirror_mode": {
    "name": "ipython",
    "version": 3
   },
   "file_extension": ".py",
   "mimetype": "text/x-python",
   "name": "python",
   "nbconvert_exporter": "python",
   "pygments_lexer": "ipython3",
   "version": "3.8.0"
  }
 },
 "nbformat": 4,
 "nbformat_minor": 4
}
