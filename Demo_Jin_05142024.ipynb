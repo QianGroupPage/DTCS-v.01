{
 "cells": [
  {
   "cell_type": "markdown",
   "id": "5b192e8b-13fc-47ef-96f6-9f62125d88e1",
   "metadata": {},
   "source": [
    "## Part I: Installation"
   ]
  },
  {
   "cell_type": "markdown",
   "id": "f3f0f9b8-680f-4264-9edf-cb9691576e2e",
   "metadata": {},
   "source": [
    "Assuming that you're reading this in a Jupyter Notebook, that means you've already got Python up-and-running. Our project, Digital Twin for Computational Science (DTCS) is a Python package, but it's not yet on the [Python Package Index (PyPi)](https://pypi.org/) or [Anaconda's Package Index](https://anaconda.org/anaconda/repo), so you need to install it manually.\n",
    "\n",
    "**If you want to use DTCS on NERSC JupyterLab** , it's highly recommended to create a seperate conda environment with\n",
    "```\n",
    "module load python\n",
    "conda create --name dtcs-3.11 python=3.11\n",
    "```\n",
    "\n",
    "And then activate it with\n",
    "```\n",
    "conda activate dtcs-3.11\n",
    "```\n",
    "If this worked, you should see `(dtcs-3.11)` before your cursor in your shell. Then, you should install the package, with some additional dependencies.\n",
    "```\n",
    "pip install git+https://github.com/AndrewBogdan/lbl-crn@demo-fixes\n",
    "pip install opencv-python Pillow pygame pymatgen gpcam==7.2.5 fvgp==3.2.7\n",
    "conda install -c anaconda ipykernel\n",
    "```\n",
    "\n",
    "Finally, you need to add a kernel specification to your Jupyter notebook interface.\n",
    "\n",
    "```\n",
    "python -m ipykernel install --user --name dtcs-3.11 --display-name \"DTCS 3.11\"\n",
    "jupyter kernelspec list\n",
    "```\n",
    "\n",
    "You should see `DTCS 3.11` in that list of kernels now, and additionally when you go to open a notebook.\n",
    "\n",
    "**If you want to develop**, you should instead clone the master (default) branch. You can develop from local PC. You're going to want to:\n",
    "- clone it into a directory (and make it a project with your preferred IDE)\n",
    "- install it into your `venv` with `pip install -e .`, in the directory (that's the `.`). The `-e` option means it's an editable copy, so when you edit it you don't have to reinstall.\n",
    "- Get a github token and add it so you can push and pull. If you don't know how to do this, _ask me_ (Andrew), it's painful and complicated and I don't remember how to do it enough to write a guide here, but I've helped so many people do it at this point, so I can get you working in like 15 minutes."
   ]
  },
  {
   "cell_type": "code",
   "execution_count": 1,
   "id": "c42a6c50-0106-48ed-be34-dc52c61259bf",
   "metadata": {
    "tags": []
   },
   "outputs": [
    {
     "name": "stdout",
     "output_type": "stream",
     "text": [
      "Python Version: 3.11\n"
     ]
    }
   ],
   "source": [
    "import sys\n",
    "print(f'Python Version: {sys.version_info.major}.{sys.version_info.minor}')\n",
    "assert sys.version_info.major == 3, 'Use Python 3.11 or above'\n",
    "assert sys.version_info.minor >= 3, 'Use Python 3.11 or above'"
   ]
  },
  {
   "cell_type": "code",
   "execution_count": 2,
   "id": "76bae806-f669-4fc8-b70d-f077ffa08d46",
   "metadata": {
    "tags": []
   },
   "outputs": [
    {
     "name": "stdout",
     "output_type": "stream",
     "text": [
      "DTCS Version: 2024.5.12dev2\n"
     ]
    }
   ],
   "source": [
    "import dtcs\n",
    "print(f'DTCS Version: {dtcs.__version__}')\n",
    "#assert dtcs.__version__ > '2023.12.14', 'Use a dtcs >= 2023.12.14'"
   ]
  },
  {
   "cell_type": "code",
   "execution_count": 3,
   "id": "480bc99e-d726-4abb-b44f-c15547311e77",
   "metadata": {
    "tags": []
   },
   "outputs": [],
   "source": [
    "import fvgp\n",
    "import gpcam\n",
    "\n",
    "assert gpcam.__version__ == '7.2.5', f'Use gpcam version 7.2.5, not {gpcam.__version__}'\n",
    "assert fvgp.__version__ <= '3.2.7', f'Use fvgp version <= 3.2.7, not {fvgp.__version__}'"
   ]
  },
  {
   "cell_type": "code",
   "execution_count": 4,
   "id": "1af3d5ac-6e73-4407-b9fb-2a3ea15e3d07",
   "metadata": {
    "tags": []
   },
   "outputs": [],
   "source": [
    "import warnings\n",
    "warnings.filterwarnings('ignore')"
   ]
  },
  {
   "cell_type": "code",
   "execution_count": 5,
   "id": "d8290199-0374-4ada-b85c-a720f5ef3d3a",
   "metadata": {
    "tags": []
   },
   "outputs": [],
   "source": [
    "from matplotlib import pyplot as plt\n",
    "import numpy as np\n",
    "import pandas as pd"
   ]
  },
  {
   "cell_type": "markdown",
   "id": "6426fab4-7d3e-4c1d-b584-04d1678bfb1f",
   "metadata": {
    "tags": []
   },
   "source": [
    "## Part II: The Bulk CRN"
   ]
  },
  {
   "cell_type": "markdown",
   "id": "9acf1261-3c49-4951-bdeb-187fc6fabeba",
   "metadata": {},
   "source": [
    "The Species Manager let us define species by specifying a name, as well as all 'attributes' of this chemical species. \n",
    "\n",
    "In the context of bulk CRN, we need name (as a string), binding energy location (as a number), color (as a string in matplotlib named color list), and latex (optional). "
   ]
  },
  {
   "cell_type": "code",
   "execution_count": 6,
   "id": "d93d1deb-dd2b-4669-968e-7d04453148d7",
   "metadata": {
    "tags": []
   },
   "outputs": [
    {
     "data": {
      "text/latex": [
       "$$ \\text{Species Manager: } \\color{#808080}{H_2O_g}, \\color{#808080}{O_{2g}}, \\color{#0000ff}{H_2O^*}, \\color{#ff0000}{OH^*}, \\color{#00ffff}{O^*}, \\color{#000000}{OH\\!-\\!H_2O^*}, \\color{#000000}{O\\!-\\!H_2O^*}, \\color{#ff00ff}{H_2O_{multi}^*}, \\color{#ff0000}{OH combined^*}, \\color{#00ffff}{O combined^*}, \\color{#000000}{H_2O_{hb} combined^*}$$"
      ]
     },
     "metadata": {},
     "output_type": "display_data"
    }
   ],
   "source": [
    "import sympy as sym\n",
    "from dtcs.spec.xps import XPSSpeciesManager\n",
    "from dtcs.spec.crn.bulk import CRNSpec, Rxn, RevRxn, Conc, ConcEq, ConcDiffEq, Schedule\n",
    "\n",
    "# The Species Manager lets us define species by specifying a name, as well as the sort of 'signature' of the species we're defining \n",
    "# (in this case, orbital information and binding energies)\n",
    "sm = XPSSpeciesManager()\n",
    "h2o_g = sm.make_species('H2O_g', 535.0, color='gray', latex='H_2O_g')\n",
    "o2_g = sm.make_species('O2_g', 535.0, color='gray', latex='O_{2g}')\n",
    "h2o = sm.make_species('H2O', 532.2, color='blue', latex='H_2O^*')\n",
    "oh = sm.make_species('OH', 0, color='red', latex='OH^*') #530.9\n",
    "o = sm.make_species('O', 0, color='aqua', latex='O^*') #530.0\n",
    "oh_h2o = sm.make_species('OH-H2O_{hb}', 0, color='black', latex='OH\\!-\\!H_2O^*') #531.6\n",
    "o_h2o = sm.make_species('O-H2O_{hb}', 0, color='black', latex='O\\!-\\!H_2O^*') #531.6\n",
    "h2o_multi = sm.make_species('multiH2O', 533.2, color='magenta', latex='H_2O_{multi}^*')\n",
    "\n",
    "# We need to combine the OH in OH and OH-H2O, combine O in O and O-H2O, combine H2O_O and H2O_OH to form H2O_hb\n",
    "oh_combined = sm.make_species('OH_combined', 530.9, color='red', latex='OH combined^*')\n",
    "o_combined = sm.make_species('O_combined', 530.0, color='aqua', latex='O combined^*')\n",
    "h2o_hbond_combined = sm.make_species('H2O_{hb}_combined', 531.6, color='black', latex='H_2O_{hb} combined^*')\n",
    "\n",
    "sm"
   ]
  },
  {
   "cell_type": "markdown",
   "id": "bce92bed-e20f-45ea-a320-8f2b3d4ea8c7",
   "metadata": {},
   "source": [
    "Next, we need to define the connectivity between different chemical species, by using key words such as: `Rxn` for reactions,`RevRxn` for reversible reactions or merging two reactions together,`ConcEq` to specify concentrations,`Conc` to specify initial concentrations.\n",
    "\n",
    "\n",
    "We then call `.simulate` to solve the bulk CRN, which outputs a pandas dataframe of species concentration vs. time evolution. "
   ]
  },
  {
   "cell_type": "code",
   "execution_count": 7,
   "id": "b77a8131-48ad-446e-a103-0e571878200a",
   "metadata": {
    "tags": []
   },
   "outputs": [],
   "source": [
    "crn = CRNSpec(\n",
    "    Rxn(o + h2o_g, o_h2o, k=3.915042),                  # H2O on O* Adsorption with HB (1)\n",
    "    Rxn(oh + h2o_g, oh_h2o, k=1.664002),                # H2O on OH* Adsorption with HB (2)\n",
    "    Rxn(o_h2o, oh + oh, k=6.220646),     # O-H2O react to form 2 OHs (3)\n",
    "    Rxn(oh + oh, o_h2o, k=0.160755),\n",
    "    Rxn(oh_h2o, h2o + oh, k=0.299507),                  # OH-H2O Diffusion (4)\n",
    "    Rxn(o_h2o, h2o + o, k=0.167130),                    # O-H2O Diffusion (5)\n",
    "    Rxn(h2o, h2o_g, k=0.794455),                        # H2O Desorption, (6)\n",
    "    Rxn(h2o_g, h2o, k=0.629363),                        # H2O Adsorption, (7)\n",
    "    Rxn(oh_h2o, oh + h2o_g, k=0.300480),                # H2O on OH* Desorption with HB (8)\n",
    "    Rxn(o_h2o, o + h2o_g, k=0.127713),                  # H2O on O* Desorption with HB (9)\n",
    "    Rxn(oh_h2o + h2o_g, h2o_multi, k=1.267427),         # H2O on OH-H2O* Adsorption (10)\n",
    "    Rxn(h2o_multi, oh_h2o + h2o_g, k=0.394500),         # H2O on OH-H2O* Desorption (11)\n",
    "    \n",
    "                                                                 \n",
    "    ConcEq(oh_combined,oh + oh_h2o),                         \n",
    "    ConcEq(o_combined,o + o_h2o),\n",
    "    ConcEq(h2o_hbond_combined,o_h2o + oh_h2o),\n",
    "    \n",
    "    Conc(h2o_g, 1),                                     \n",
    "    Conc(o, 0.25),\n",
    "    sm,\n",
    "    time=20,\n",
    ")\n",
    "\n",
    "cts = crn.simulate()"
   ]
  },
  {
   "cell_type": "code",
   "execution_count": 8,
   "id": "21e5d63e-a522-4259-80e6-d77076f76ed0",
   "metadata": {
    "tags": []
   },
   "outputs": [
    {
     "data": {
      "text/latex": [
       "$\\frac{d}{d \\mathbf{t}} [\\color{#0000ff}{H_2O^*}] = [\\color{#000000}{OH\\!-\\!H_2O^*}] k_{4} + [\\color{#000000}{O\\!-\\!H_2O^*}] k_{5} - [\\color{#0000ff}{H_2O^*}] k_{6} + [\\color{#808080}{H_2O_g}] k_{7}$"
      ],
      "text/plain": [
       "<IPython.core.display.Latex object>"
      ]
     },
     "metadata": {},
     "output_type": "display_data"
    },
    {
     "data": {
      "text/latex": [
       "$\\frac{d}{d \\mathbf{t}} [\\color{#808080}{H_2O_g}] = - [\\color{#000000}{OH\\!-\\!H_2O^*}] [\\color{#808080}{H_2O_g}] k_{10} + [\\color{#000000}{OH\\!-\\!H_2O^*}] k_{8} + [\\color{#000000}{O\\!-\\!H_2O^*}] k_{9} + [\\color{#0000ff}{H_2O^*}] k_{6} - [\\color{#00ffff}{O^*}] [\\color{#808080}{H_2O_g}] k_{0} - [\\color{#808080}{H_2O_g}] [\\color{#ff0000}{OH^*}] k_{1} - [\\color{#808080}{H_2O_g}] k_{7} + [\\color{#ff00ff}{H_2O_{multi}^*}] k_{11}$"
      ],
      "text/plain": [
       "<IPython.core.display.Latex object>"
      ]
     },
     "metadata": {},
     "output_type": "display_data"
    },
    {
     "data": {
      "text/latex": [
       "$[\\color{#000000}{H_2O_{hb} combined^*}] = [\\color{#000000}{OH\\!-\\!H_2O^*}] + [\\color{#000000}{O\\!-\\!H_2O^*}]$"
      ],
      "text/plain": [
       "<IPython.core.display.Latex object>"
      ]
     },
     "metadata": {},
     "output_type": "display_data"
    },
    {
     "data": {
      "text/latex": [
       "$\\frac{d}{d \\mathbf{t}} [\\color{#00ffff}{O^*}] = [\\color{#000000}{O\\!-\\!H_2O^*}] k_{5} + [\\color{#000000}{O\\!-\\!H_2O^*}] k_{9} - [\\color{#00ffff}{O^*}] [\\color{#808080}{H_2O_g}] k_{0}$"
      ],
      "text/plain": [
       "<IPython.core.display.Latex object>"
      ]
     },
     "metadata": {},
     "output_type": "display_data"
    },
    {
     "data": {
      "text/latex": [
       "$\\frac{d}{d \\mathbf{t}} [\\color{#000000}{O\\!-\\!H_2O^*}] = - [\\color{#000000}{O\\!-\\!H_2O^*}] k_{2} - [\\color{#000000}{O\\!-\\!H_2O^*}] k_{5} - [\\color{#000000}{O\\!-\\!H_2O^*}] k_{9} + [\\color{#00ffff}{O^*}] [\\color{#808080}{H_2O_g}] k_{0} + \\left([\\color{#ff0000}{OH^*}]\\right)^{2} k_{3}$"
      ],
      "text/plain": [
       "<IPython.core.display.Latex object>"
      ]
     },
     "metadata": {},
     "output_type": "display_data"
    },
    {
     "data": {
      "text/latex": [
       "$\\frac{d}{d \\mathbf{t}} [\\color{#ff0000}{OH^*}] = [\\color{#000000}{OH\\!-\\!H_2O^*}] k_{4} + [\\color{#000000}{OH\\!-\\!H_2O^*}] k_{8} + 2 [\\color{#000000}{O\\!-\\!H_2O^*}] k_{2} - [\\color{#808080}{H_2O_g}] [\\color{#ff0000}{OH^*}] k_{1} - 2 \\left([\\color{#ff0000}{OH^*}]\\right)^{2} k_{3}$"
      ],
      "text/plain": [
       "<IPython.core.display.Latex object>"
      ]
     },
     "metadata": {},
     "output_type": "display_data"
    },
    {
     "data": {
      "text/latex": [
       "$\\frac{d}{d \\mathbf{t}} [\\color{#000000}{OH\\!-\\!H_2O^*}] = - [\\color{#000000}{OH\\!-\\!H_2O^*}] [\\color{#808080}{H_2O_g}] k_{10} - [\\color{#000000}{OH\\!-\\!H_2O^*}] k_{4} - [\\color{#000000}{OH\\!-\\!H_2O^*}] k_{8} + [\\color{#808080}{H_2O_g}] [\\color{#ff0000}{OH^*}] k_{1} + [\\color{#ff00ff}{H_2O_{multi}^*}] k_{11}$"
      ],
      "text/plain": [
       "<IPython.core.display.Latex object>"
      ]
     },
     "metadata": {},
     "output_type": "display_data"
    },
    {
     "data": {
      "text/latex": [
       "$[\\color{#ff0000}{OH combined^*}] = [\\color{#000000}{OH\\!-\\!H_2O^*}] + [\\color{#ff0000}{OH^*}]$"
      ],
      "text/plain": [
       "<IPython.core.display.Latex object>"
      ]
     },
     "metadata": {},
     "output_type": "display_data"
    },
    {
     "data": {
      "text/latex": [
       "$[\\color{#00ffff}{O combined^*}] = [\\color{#000000}{O\\!-\\!H_2O^*}] + [\\color{#00ffff}{O^*}]$"
      ],
      "text/plain": [
       "<IPython.core.display.Latex object>"
      ]
     },
     "metadata": {},
     "output_type": "display_data"
    },
    {
     "data": {
      "text/latex": [
       "$\\frac{d}{d \\mathbf{t}} [\\color{#ff00ff}{H_2O_{multi}^*}] = [\\color{#000000}{OH\\!-\\!H_2O^*}] [\\color{#808080}{H_2O_g}] k_{10} - [\\color{#ff00ff}{H_2O_{multi}^*}] k_{11}$"
      ],
      "text/plain": [
       "<IPython.core.display.Latex object>"
      ]
     },
     "metadata": {},
     "output_type": "display_data"
    }
   ],
   "source": [
    "crn.rsys.display_dynamics()"
   ]
  },
  {
   "cell_type": "code",
   "execution_count": 9,
   "id": "0783db0e-9975-42df-9ade-ccbcc487139f",
   "metadata": {
    "tags": []
   },
   "outputs": [
    {
     "data": {
      "text/plain": [
       "Text(0, 0.5, 'Concentration')"
      ]
     },
     "execution_count": 9,
     "metadata": {},
     "output_type": "execute_result"
    },
    {
     "data": {
      "image/png": "[encoded data removed]",
      "text/plain": [
       "<Figure size 640x480 with 1 Axes>"
      ]
     },
     "metadata": {},
     "output_type": "display_data"
    }
   ],
   "source": [
    "cts.plot(species=[h2o, oh_combined, o_combined, h2o_hbond_combined, h2o_multi])\n",
    "\n",
    "plt.xlabel('Time')\n",
    "plt.ylabel('Concentration')\n",
    "\n",
    "#to convert cts to a pandas dataframe, use command >> cts.df"
   ]
  },
  {
   "cell_type": "code",
   "execution_count": 10,
   "id": "ba870278-3565-4bd5-aa6e-d2f11ba0cc41",
   "metadata": {
    "tags": []
   },
   "outputs": [
    {
     "data": {
      "text/plain": [
       "<Axes: title={'center': 'time=20.0'}>"
      ]
     },
     "execution_count": 10,
     "metadata": {},
     "output_type": "execute_result"
    },
    {
     "data": {
      "image/png": "[encoded data removed]",
      "text/plain": [
       "<Figure size 640x480 with 1 Axes>"
      ]
     },
     "metadata": {},
     "output_type": "display_data"
    }
   ],
   "source": [
    "xps = cts.xps_with(species=[h2o, oh_combined, o_combined, h2o_hbond_combined, h2o_multi])\n",
    "xps.plot()\n",
    "\n",
    "#use Shift + Tab to see functionalities"
   ]
  },
  {
   "cell_type": "markdown",
   "id": "acab69f3-6a02-4d79-b249-4c10a889b7ed",
   "metadata": {},
   "source": [
    "## Part III: The Surface CRN"
   ]
  },
  {
   "cell_type": "markdown",
   "id": "0627da7a-c4e7-47a5-9e5b-4a64540a362e",
   "metadata": {},
   "source": [
    "For surface CRN, we need to first generate a 2D map for the chemical species to react on, and we also need another layer of information in species manager, which is the site information."
   ]
  },
  {
   "cell_type": "code",
   "execution_count": 11,
   "id": "5f011e96-2bee-4fce-9ee5-2ef8cc3c7810",
   "metadata": {
    "tags": []
   },
   "outputs": [],
   "source": [
    "from pymatgen.core.surface import SlabGenerator, generate_all_slabs, get_symmetrically_distinct_miller_indices\n",
    "from pymatgen.core import Structure, Lattice\n",
    "from pymatgen.io.vasp.inputs import Poscar\n",
    "import warnings\n",
    "\n",
    "# try: import crystal_toolkit\n",
    "# except ModuleNotFoundError: warnings.warn('Not using crystal toolkit.')\n",
    "\n",
    "# Create a silver lattice\n",
    "lattice = Lattice.cubic(4.086)  # Lattice constant for silver in Angstroms\n",
    "bulk_structure = Structure(lattice, ['Ag'], [[0, 0, 0]])\n",
    "\n",
    "# Use a SlabGenerator to create a N x N slab\n",
    "N = 5\n",
    "\n",
    "slabgen = SlabGenerator(\n",
    "    bulk_structure, \n",
    "    miller_index=(1, 1, 1), \n",
    "    min_slab_size=3,\n",
    "    min_vacuum_size=2,\n",
    "    max_normal_search=True,\n",
    ")\n",
    "slabs = slabgen.get_slabs()\n",
    "st = slabs[0] * (N, N, 1)\n",
    "\n",
    "# Save it as a file, and load it in DTCS\n",
    "\n",
    "poscar_file = r'Ag-111 Temp.POSCAR'\n",
    "_ = st.to(fmt=\"poscar\", filename=poscar_file)\n",
    "# st\n",
    "\n",
    "from dtcs.spec.crn.surface.surface import Surface\n",
    "from dtcs.common.display import color_map, latex_map\n",
    "\n",
    "ag = Surface.from_poscar(\n",
    "    poscar_file, \n",
    "    name='Ag', \n",
    "    color='#e1e1e1',\n",
    ")\n",
    "\n",
    "# Color and add LaTeX to the surface\n",
    "\n",
    "def init_specie(name, color=None, latex=None):\n",
    "    color_map[name] = color\n",
    "    latex_map[name] = latex\n",
    "    \n",
    "init_specie(ag.top, color='silver', latex=r'Ag')\n",
    "init_specie(ag.threefold, color='silver', latex=r'Ag_{3F}')"
   ]
  },
  {
   "cell_type": "code",
   "execution_count": 12,
   "id": "cf2baecd-1849-43f4-90cf-a4f74afa07a3",
   "metadata": {
    "tags": []
   },
   "outputs": [],
   "source": [
    "from dtcs.spec.species import SpeciesManager\n",
    "from dtcs.spec.xps import XPSSurfaceSpecies\n",
    "\n",
    "sm = SpeciesManager(species_cls=XPSSurfaceSpecies)\n",
    "\n",
    "h2o_surf = sm.sp('H2O*', 532.2, site=ag.top, color='blue', latex=r'H_2{O}^*')\n",
    "h2o_multi = sm.sp('H2O_multi', 533.2, site=ag.top, size=3, color='magenta', latex=r'H_2O_{multi}^*')\n",
    "h2o_o_hb = sm.sp('H2O_O_hb', 531.6, site=ag.top, size=2, color='black', latex=r'H_2O–O^*')\n",
    "h2o_oh_hb = sm.sp('H2O_OH_hb', 531.6, site=ag.top, size=2, color='black', latex=r'H_2O–OH^*')\n",
    "\n",
    "o_surf = sm.sp('O*', 530.0, site=ag.top, color='aqua', latex=r'O^*')\n",
    "oh_surf = sm.sp('OH*', 530.9, site=ag.top, color='red', latex=r'OH^*')\n",
    "o_surf_3f = sm.sp('O*3F', 530.0, site=ag.threefold, color='aqua', latex=r'O^*_{3F}')\n",
    "oh_surf_3f = sm.sp('OH*3F', 530.9, site=ag.threefold, color='red', latex=r'OH^*_{3F}')\n",
    "\n",
    "from dtcs.spec.crn.surface.rxn_system import SurfaceRxnSystem\n",
    "from dtcs.spec.crn.surface.core import SurfaceCRNSpec\n",
    "from dtcs.spec.crn.surface.conditions import Coverage\n",
    "from dtcs.spec.crn.surface.reaction import SurfaceRxn, SurfaceRevRxn\n",
    "\n",
    "scrn = SurfaceCRNSpec(\n",
    "    \n",
    "    SurfaceRevRxn([ag.top], [h2o_surf], k=0.629363, k2=0.794455),\n",
    "    SurfaceRevRxn([o_surf_3f,ag.top], [h2o_o_hb,ag.threefold], k=3.915042, k2=0.127713),\n",
    "    SurfaceRevRxn([oh_surf_3f,ag.top], [h2o_oh_hb,ag.threefold], k=1.664002, k2=0.300480),\n",
    "    SurfaceRevRxn([h2o_oh_hb,ag.top], [h2o_multi,ag.top], k=1.267427, k2=0.394500),\n",
    "    \n",
    "    SurfaceRevRxn([h2o_o_hb, ag.threefold], [oh_surf, oh_surf_3f], k=6.220646, k2=0.160755),\n",
    "    \n",
    "    SurfaceRxn([h2o_oh_hb, ag.threefold], [h2o_surf, oh_surf_3f], k=0.299507),\n",
    "    SurfaceRxn([h2o_o_hb, ag.threefold], [h2o_surf, o_surf_3f], k=0.167130),\n",
    "    \n",
    "    SurfaceRevRxn([oh_surf, ag.threefold], [ag.top, oh_surf_3f], k=2.175, k2=0.457),\n",
    "    SurfaceRevRxn([o_surf, ag.threefold], [ag.top, o_surf_3f], k=2.175, k2=0.457),  \n",
    "\n",
    "    SurfaceRxn([ag.threefold, o_surf_3f], [o_surf_3f, ag.threefold], k=1),\n",
    "    SurfaceRxn([ag.threefold, oh_surf_3f], [oh_surf_3f, ag.threefold], k=1),\n",
    "    SurfaceRxn([ag.top, o_surf], [o_surf, ag.top], k=1),\n",
    "    SurfaceRxn([ag.top, oh_surf], [oh_surf, ag.top], k=1),\n",
    "    SurfaceRxn([ag.top, h2o_surf], [h2o_surf, ag.top], k=1),\n",
    "    \n",
    "    Coverage(o_surf_3f, 0.25),\n",
    "    \n",
    "    species=sm,\n",
    "    surface=ag,\n",
    "    time=20,\n",
    "    runs=2,\n",
    ")"
   ]
  },
  {
   "cell_type": "code",
   "execution_count": 13,
   "id": "7dd3956a-642d-4f3b-8c70-7abc3338fb48",
   "metadata": {
    "tags": []
   },
   "outputs": [],
   "source": [
    "scts=scrn.simulate()"
   ]
  },
  {
   "cell_type": "code",
   "execution_count": 14,
   "id": "bf512254-8e73-49dd-a600-c23bd071c9b7",
   "metadata": {
    "tags": []
   },
   "outputs": [
    {
     "data": {
      "image/png": "[encoded data removed]",
      "text/plain": [
       "<Figure size 800x400 with 1 Axes>"
      ]
     },
     "metadata": {},
     "output_type": "display_data"
    }
   ],
   "source": [
    "from matplotlib import pyplot as plt\n",
    "\n",
    "plt.subplots(1, 1, figsize=(8, 4))\n",
    "\n",
    "scts.plot(species=[ag.top, h2o_surf, oh_surf_3f,o_surf_3f, h2o_oh_hb, h2o_multi])"
   ]
  },
  {
   "cell_type": "code",
   "execution_count": 15,
   "id": "4fc9c8c2-8eab-4dcf-a97b-18fea34a2b3c",
   "metadata": {
    "tags": []
   },
   "outputs": [
    {
     "data": {
      "text/plain": [
       "<Axes: title={'center': 'time=19.990000000000002'}>"
      ]
     },
     "execution_count": 15,
     "metadata": {},
     "output_type": "execute_result"
    },
    {
     "data": {
      "image/png": "[encoded data removed]",
      "text/plain": [
       "<Figure size 640x480 with 1 Axes>"
      ]
     },
     "metadata": {},
     "output_type": "display_data"
    }
   ],
   "source": [
    "xps = scts.xps_with(species=[h2o_surf, oh_surf_3f,o_surf_3f, h2o_oh_hb, h2o_multi])\n",
    "xps.plot()"
   ]
  },
  {
   "cell_type": "code",
   "execution_count": 16,
   "id": "3bbae5bb-5690-4874-82d9-db2f10843d87",
   "metadata": {
    "tags": []
   },
   "outputs": [
    {
     "name": "stdout",
     "output_type": "stream",
     "text": [
      "Wrote to output.mp4\n"
     ]
    },
    {
     "data": {
      "text/html": [
       "<video src=\"output.mp4\" controls  >\n",
       "      Your browser does not support the <code>video</code> element.\n",
       "    </video>"
      ],
      "text/plain": [
       "<IPython.core.display.Video object>"
      ]
     },
     "execution_count": 16,
     "metadata": {},
     "output_type": "execute_result"
    }
   ],
   "source": [
    "#note: generating the video is going to take a while (~5 mins for this system)\n",
    "scts.make_video(\n",
    "    frames_per_timestep=4,\n",
    "    timeseries_kwargs=dict(ignore=[ag.top, ag.threefold])\n",
    ")"
   ]
  },
  {
   "cell_type": "markdown",
   "id": "f99f5611-6eb7-4a12-a69e-d7633ccdf338",
   "metadata": {
    "tags": []
   },
   "source": [
    "## Part IV: The Inverse Solver - Basin Hopping (BH)"
   ]
  },
  {
   "cell_type": "markdown",
   "id": "257054b3-07b8-40dc-a67f-03c9be5245e0",
   "metadata": {},
   "source": [
    "The most challenging, yet most impactful problem in chemistry or materials science concerns solving a problem backwards. For example, given an observed phenomena (i.e., spectra), solve for the CRN that can lead to this spectra. Moreover, even if we are lucky to find a match, how do we know that this is the ONLY solution? This is what I call the degeneracy problem. \n",
    "\n",
    "I will walk you through our attempts to address the inverse problem and the degeneracy problem, starting with the lower dimension bulk CRN (already very high in other context, as it contains 12 equations!) then move on higher dimension surface CRN (23 equations!)\n",
    "\n",
    "To do so, we first define the translational rules for the forward reaction and the backward reaction. For reactions involving adsorbing/desorbing H2O molecule (or any other gas phase molecules in a general sense), we will need to take gas phase entropic correction into consideration.\n"
   ]
  },
  {
   "cell_type": "code",
   "execution_count": 24,
   "id": "058fd73c-5fd1-4166-bec3-ffc7a34542e2",
   "metadata": {
    "tags": []
   },
   "outputs": [],
   "source": [
    "import sympy as sym\n",
    "from dtcs.common.const import DG, K, P\n",
    "from sympy.physics import units\n",
    "from dtcs.spec.crn.rxn_abc import DG_TO_RATE\n",
    "from dtcs import config\n",
    "\n",
    "corrG = 0.219 * config.units['energy'] #in unit of eV, the correction term for gas phase H2O\n",
    "#corr = 5 * (P / units.torr) * sym.exp(-0.1 * (DG - corrG) / (units.boltzmann * 298.2320872274144 * units.kelvin))\n",
    "corr = 11.7187 * (P / units.torr) * sym.exp(-0.1 * (DG) / (units.boltzmann * 298.2320872274144 * units.kelvin)) # adsorption\n",
    "desorption = 0.4281 * sym.exp(-0.1 * (DG) / (units.boltzmann * 298.2320872274144 * units.kelvin)) # desorption\n",
    "#11.7187 is the convenient way of rewriting the prefactor (prefactor 5 together with the correction factored out)\n",
    "\n",
    "#FOR IGNORING DEPRECATION WARNINGS\n",
    "\n",
    "import warnings\n",
    "warnings.filterwarnings(\"ignore\", category=DeprecationWarning) "
   ]
  },
  {
   "cell_type": "code",
   "execution_count": 25,
   "id": "e2560783-2581-4644-aa18-d844fbf0ec8a",
   "metadata": {
    "tags": []
   },
   "outputs": [],
   "source": [
    "# Copy over the inverse problem from before and testing it out\n",
    "\n",
    "from dtcs.spec.xps import XPSSpeciesManager\n",
    "from dtcs.spec.crn.bulk import CRNSpec, Rxn, RevRxn, Conc, ConcEq\n",
    "\n",
    "# The Species Manager lets us define species by specifying a name, as well as the sort of 'signature' of the species we're defining \n",
    "# (in this case, orbital information and binding energies)\n",
    "sm = XPSSpeciesManager()\n",
    "h2o_g = sm.make_species('H2O_g', 535.0, color='gray', latex='H_2O_g')\n",
    "o2_g = sm.make_species('O2_g', 535.0, color='gray', latex='O_{2g}')\n",
    "h2o = sm.make_species('H2O', 532.2, color='blue', latex='H_2O^*')\n",
    "oh = sm.make_species('OH', 0, color='red', latex='OH^*') #530.9\n",
    "o = sm.make_species('O', 0, color='aqua', latex='O^*') #530.0\n",
    "oh_h2o = sm.make_species('OH-H2O_{hb}', 0, color='black', latex='OH\\!-\\!H_2O^*') #531.6\n",
    "o_h2o = sm.make_species('O-H2O_{hb}', 0, color='black', latex='O\\!-\\!H_2O^*') #531.6\n",
    "h2o_multi = sm.make_species('multiH2O', 533.2, color='magenta', latex='H_2O_{multi}^*')\n",
    "\n",
    "# We need to combine the OH in OH and OH-H2O, combine O in O and O-H2O, combine H2O_O and H2O_OH to form H2O_hb\n",
    "oh_combined = sm.make_species('OH_combined', 530.9, color='red', latex='OH combined^*')\n",
    "o_combined = sm.make_species('O_combined', 530.0, color='aqua', latex='O combined^*')\n",
    "h2o_hbond_combined = sm.make_species('H2O_{hb}_combined', 531.6, color='black', latex='H_2O_{hb} combined^*')\n",
    "\n",
    "crn = CRNSpec(\n",
    "    RevRxn(o + h2o_g, o_h2o, k=corr, k2=desorption, dg=1),     # H2O on O* Adsorption and Desorption with HB(1)&(9)\n",
    "    RevRxn(oh + h2o_g, oh_h2o, k=corr, k2=desorption, dg=1),   # H2O on OH* Adsorption and Desorption with HB(2)&(8)\n",
    "    RevRxn(o_h2o, oh + oh, k='basic',k2='basic', dg=1),        # Reaction (3)\n",
    "    Rxn(oh_h2o, h2o + oh, k='basic', dg=1),                    # OH-H2O Diffusion (4)\n",
    "    Rxn(o_h2o, h2o + o, k='basic', dg=1),                      # O-H2O Diffusion (5)\n",
    "    RevRxn(h2o_g, h2o, k=corr, k2=desorption, dg=1),           # H2O Adsorption, (6)\n",
    "    RevRxn(oh_h2o + h2o_g, h2o_multi, k=corr, k2=desorption, dg=1),  # H2O on OH-H2O* Adsorption and Desorption (10)&(11) \n",
    "#   RevRxn(o + o, o2_g, k='basic', k2=\"basic\",dg=1.82),       # O2 Adsorption and Desoprtion, since we are not varying oxygen \n",
    "                                                             \n",
    "    ConcEq(oh_combined,oh + oh_h2o),\n",
    "    ConcEq(o_combined,o + o_h2o),\n",
    "    ConcEq(h2o_hbond_combined,o_h2o + oh_h2o),\n",
    "    \n",
    "    Conc(h2o_g, 1),\n",
    "    Conc(o, 0.25),\n",
    "    sm,\n",
    "    time=20\n",
    ")\n"
   ]
  },
  {
   "cell_type": "code",
   "execution_count": 26,
   "id": "faf5b770-d114-44b7-b33a-5bcb4d1ec81a",
   "metadata": {
    "tags": []
   },
   "outputs": [
    {
     "data": {
      "text/plain": [
       "533.2    0.099669\n",
       "532.2    0.256164\n",
       "531.6    0.314287\n",
       "530.9    0.397438\n",
       "530.0    0.050585\n",
       "dtype: float64"
      ]
     },
     "execution_count": 26,
     "metadata": {},
     "output_type": "execute_result"
    }
   ],
   "source": [
    "warnings.filterwarnings(\"ignore\", category=DeprecationWarning) \n",
    "warnings.filterwarnings(\"ignore\", category=FutureWarning) \n",
    "\n",
    "import os\n",
    "import pandas as pd\n",
    "import numpy as np\n",
    "\n",
    "DATA_PATH = r'/global/cfs/cdirs/m3974/paper/DTCS Manuscript Figure 5'\n",
    "\n",
    "BINDING_ENERGIES = [533.2, 532.2, 531.6, 530.9, 530.0]\n",
    "\n",
    "data_filepath = os.path.join(DATA_PATH, 'single_simulated.csv') \n",
    "env = pd.read_csv(data_filepath, index_col=0, header=2).squeeze('columns') \n",
    "\n",
    "goal = {}    # goal values are the peak heights at the specificed binding energy locations\n",
    "\n",
    "samples = np.interp(\n",
    "    x=BINDING_ENERGIES,\n",
    "    xp=env.index,\n",
    "    fp=env.values,\n",
    ")\n",
    "for index, energy in enumerate(BINDING_ENERGIES):\n",
    "    goal[energy] = samples[index]\n",
    "\n",
    "goal = pd.Series(goal)\n",
    "goal"
   ]
  },
  {
   "cell_type": "code",
   "execution_count": 27,
   "id": "6015def1-0c71-4457-9f38-2344f27dcaf2",
   "metadata": {
    "tags": []
   },
   "outputs": [
    {
     "data": {
      "text/plain": [
       "533.2    0.250780\n",
       "532.2    0.644537\n",
       "531.6    0.790782\n",
       "530.9    1.000000\n",
       "530.0    0.127278\n",
       "dtype: float64"
      ]
     },
     "execution_count": 27,
     "metadata": {},
     "output_type": "execute_result"
    }
   ],
   "source": [
    "dsg_bh = crn.fit_gibbs(\n",
    "    sample_at_ev=BINDING_ENERGIES,\n",
    "    num_energies=7,\n",
    "    times=[20],\n",
    "    species_for_xps=[h2o, oh_combined, o_combined, h2o_hbond_combined, h2o_multi]\n",
    ")\n",
    "\n",
    "dsg_bh.set_goal(goal)\n",
    "dsg_bh.goal"
   ]
  },
  {
   "cell_type": "code",
   "execution_count": 28,
   "id": "3aaf7f14-56bc-43c2-b281-b2157f6df05e",
   "metadata": {
    "tags": []
   },
   "outputs": [
    {
     "name": "stdout",
     "output_type": "stream",
     "text": [
      "Simulating #608\n",
      "Row Index #-1104618774151411767\n",
      "Energies: -0.319, -0.579, -0.472, -0.358, 0.905, 0.487, -0.021\n",
      "Current Best: 3.389267293573488e-12\n"
     ]
    }
   ],
   "source": [
    "dsg_bh.optimize_bh()"
   ]
  },
  {
   "cell_type": "markdown",
   "id": "e7e198d7-693e-4690-aecd-54e66093be45",
   "metadata": {},
   "source": [
    "What we are looking for are:\n",
    "```\n",
    "Energies: -0.31, -0.09, -0.47, 0.31, 0.46, 0.16, -0.02\n",
    "```\n",
    "Therefore, we can see that despite the scoring indicating a perfect fit, the answers of using 1 spectra are degenerate. \n",
    "\n",
    "We can store the BH results by:\n",
    "```\n",
    "dsg_bh.df.sort_values(by=['score']).to_csv('bh_1run_results.csv')\n",
    "```\n",
    "However, if we are able to use a series of time varient spectra or isothermal (varying pressure) spectra, we will get much better answer."
   ]
  },
  {
   "cell_type": "code",
   "execution_count": 29,
   "id": "34d86ebd-71fb-45b7-a12f-850d07782025",
   "metadata": {
    "tags": []
   },
   "outputs": [
    {
     "data": {
      "text/plain": [
       "0.1 s   533.2    0.004416\n",
       "        532.2    0.071419\n",
       "        531.6    0.082210\n",
       "        530.9    0.080148\n",
       "        530.0    0.208092\n",
       "0.25 s  533.2    0.010466\n",
       "        532.2    0.138623\n",
       "        531.6    0.154267\n",
       "        530.9    0.179498\n",
       "        530.0    0.171245\n",
       "0.5 s   533.2    0.021738\n",
       "        532.2    0.209311\n",
       "        531.6    0.229529\n",
       "        530.9    0.299381\n",
       "        530.0    0.123152\n",
       "1 s     533.2    0.043989\n",
       "        532.2    0.276787\n",
       "        531.6    0.303051\n",
       "        530.9    0.387392\n",
       "        530.0    0.082839\n",
       "2.5 s   533.2    0.077435\n",
       "        532.2    0.289543\n",
       "        531.6    0.330899\n",
       "        530.9    0.410371\n",
       "        530.0    0.058859\n",
       "10 s    533.2    0.099202\n",
       "        532.2    0.256885\n",
       "        531.6    0.314773\n",
       "        530.9    0.397939\n",
       "        530.0    0.050678\n",
       "dtype: float64"
      ]
     },
     "execution_count": 29,
     "metadata": {},
     "output_type": "execute_result"
    }
   ],
   "source": [
    "DATA_PATH = r'/global/cfs/cdirs/m3974/paper/DTCS Manuscript Figure 5'\n",
    "\n",
    "TIMES = [0.1, 0.25, 0.5, 1, 2.5, 10]\n",
    "BINDING_ENERGIES = [533.2, 532.2, 531.6, 530.9, 530.0]\n",
    "\n",
    "data_filepaths = [os.path.join(DATA_PATH, f'{time}s_simulated.csv') for time in TIMES]\n",
    "envelopes = {f'{time} s': pd.read_csv(data_filepath, index_col=0, header=2).squeeze('columns') \n",
    "             for data_filepath, time in zip(data_filepaths, TIMES)}\n",
    "\n",
    "goal = {}    # goal values are the peak heights at the specificed binding energy locations\n",
    "for conds, env in envelopes.items():\n",
    "    samples = np.interp(\n",
    "        x=BINDING_ENERGIES,\n",
    "        xp=env.index,\n",
    "        fp=env.values,\n",
    "    )\n",
    "    for index, energy in enumerate(BINDING_ENERGIES):\n",
    "        goal[(conds, energy)] = samples[index]\n",
    "    \n",
    "goal = pd.Series(goal)\n",
    "goal"
   ]
  },
  {
   "cell_type": "code",
   "execution_count": 30,
   "id": "4a6636dd-26b8-4994-9e00-74624a6ebd87",
   "metadata": {
    "tags": []
   },
   "outputs": [
    {
     "data": {
      "text/plain": [
       "0.1 s   533.2    0.021221\n",
       "        532.2    0.343207\n",
       "        531.6    0.395064\n",
       "        530.9    0.385154\n",
       "        530.0    1.000000\n",
       "0.25 s  533.2    0.058304\n",
       "        532.2    0.772281\n",
       "        531.6    0.859432\n",
       "        530.9    1.000000\n",
       "        530.0    0.954018\n",
       "0.5 s   533.2    0.072611\n",
       "        532.2    0.699146\n",
       "        531.6    0.766678\n",
       "        530.9    1.000000\n",
       "        530.0    0.411355\n",
       "1 s     533.2    0.113553\n",
       "        532.2    0.714490\n",
       "        531.6    0.782286\n",
       "        530.9    1.000000\n",
       "        530.0    0.213838\n",
       "2.5 s   533.2    0.188696\n",
       "        532.2    0.705564\n",
       "        531.6    0.806342\n",
       "        530.9    1.000000\n",
       "        530.0    0.143428\n",
       "10 s    533.2    0.249289\n",
       "        532.2    0.645538\n",
       "        531.6    0.791008\n",
       "        530.9    1.000000\n",
       "        530.0    0.127351\n",
       "dtype: float64"
      ]
     },
     "execution_count": 30,
     "metadata": {},
     "output_type": "execute_result"
    }
   ],
   "source": [
    "dsg_bh = crn.fit_gibbs(\n",
    "    sample_at_ev=BINDING_ENERGIES,\n",
    "    num_energies=7,\n",
    "    times=TIMES,\n",
    "    pressures=[0.1],\n",
    "    species_for_xps=[h2o, oh_combined, o_combined, h2o_hbond_combined, h2o_multi]\n",
    ")\n",
    "dsg_bh.set_goal(goal)\n",
    "dsg_bh.goal"
   ]
  },
  {
   "cell_type": "code",
   "execution_count": 31,
   "id": "90b8220d-f9f5-46fc-895a-22fa08452d0e",
   "metadata": {
    "tags": []
   },
   "outputs": [
    {
     "name": "stdout",
     "output_type": "stream",
     "text": [
      "Simulating #318\n",
      "Row Index #5924570987429525847\n",
      "Energies: -0.375, 0.122, -0.425, 0.282, 0.325, 0.143, -0.117\n",
      "Current Best: 0.18861499917685545\n"
     ]
    }
   ],
   "source": [
    "dsg_bh.optimize_bh()"
   ]
  },
  {
   "cell_type": "code",
   "execution_count": 32,
   "id": "48b14329-56b1-44ca-96aa-5048129a5ed6",
   "metadata": {
    "tags": []
   },
   "outputs": [
    {
     "data": {
      "text/plain": [
       "1e-06 Torr  533.2    6.205947e-07\n",
       "            532.2    1.437052e-05\n",
       "            531.6    5.050756e-04\n",
       "            530.9    3.038571e-02\n",
       "            530.0    2.213079e-01\n",
       "1e-05 Torr  533.2    6.222116e-06\n",
       "            532.2    1.308089e-04\n",
       "            531.6    1.420383e-03\n",
       "            530.9    3.312868e-02\n",
       "            530.0    2.202382e-01\n",
       "0.005 Torr  533.2    6.851676e-03\n",
       "            532.2    5.915287e-02\n",
       "            531.6    1.704850e-01\n",
       "            530.9    4.080305e-01\n",
       "            530.0    7.654690e-02\n",
       "0.015 Torr  533.2    2.622958e-02\n",
       "            532.2    1.241738e-01\n",
       "            531.6    2.350474e-01\n",
       "            530.9    4.360284e-01\n",
       "            530.0    6.257329e-02\n",
       "0.03 Torr   533.2    5.014265e-02\n",
       "            532.2    1.757560e-01\n",
       "            531.6    2.721185e-01\n",
       "            530.9    4.285000e-01\n",
       "            530.0    5.796494e-02\n",
       "0.1 Torr    533.2    9.966946e-02\n",
       "            532.2    2.561635e-01\n",
       "            531.6    3.142867e-01\n",
       "            530.9    3.974380e-01\n",
       "            530.0    5.058507e-02\n",
       "dtype: float64"
      ]
     },
     "execution_count": 32,
     "metadata": {},
     "output_type": "execute_result"
    }
   ],
   "source": [
    "DATA_PATH = r'/global/cfs/cdirs/m3974/paper/DTCS Manuscript Figure 5'\n",
    "\n",
    "PRESSURES = [1e-6, 1e-5, 0.005, 0.015, 0.03, 1e-1]\n",
    "BINDING_ENERGIES = [533.2, 532.2, 531.6, 530.9, 530.0]\n",
    "\n",
    "data_filepaths = [os.path.join(DATA_PATH, f'{pressure}t_simulated.csv') for pressure in PRESSURES]\n",
    "envelopes = {f'{pressure} Torr': pd.read_csv(data_filepath, index_col=0, header=2).squeeze('columns') \n",
    "             for data_filepath, pressure in zip(data_filepaths, PRESSURES)}\n",
    "\n",
    "goal = {}    # goal values are the peak heights at the specificed binding energy locations\n",
    "for conds, env in envelopes.items():\n",
    "    samples = np.interp(\n",
    "        x=BINDING_ENERGIES,\n",
    "        xp=env.index,\n",
    "        fp=env.values,\n",
    "    )\n",
    "    for index, energy in enumerate(BINDING_ENERGIES):\n",
    "        goal[(conds, energy)] = samples[index]\n",
    "    \n",
    "goal = pd.Series(goal)\n",
    "goal"
   ]
  },
  {
   "cell_type": "code",
   "execution_count": 33,
   "id": "f277c814-5a45-4448-bdb2-5410ad715861",
   "metadata": {
    "tags": []
   },
   "outputs": [
    {
     "data": {
      "text/plain": [
       "1e-06 Torr  533.2    0.000003\n",
       "            532.2    0.000065\n",
       "            531.6    0.002282\n",
       "            530.9    0.137301\n",
       "            530.0    1.000000\n",
       "1e-05 Torr  533.2    0.000028\n",
       "            532.2    0.000594\n",
       "            531.6    0.006449\n",
       "            530.9    0.150422\n",
       "            530.0    1.000000\n",
       "0.005 Torr  533.2    0.016792\n",
       "            532.2    0.144972\n",
       "            531.6    0.417824\n",
       "            530.9    1.000000\n",
       "            530.0    0.187601\n",
       "0.015 Torr  533.2    0.060156\n",
       "            532.2    0.284784\n",
       "            531.6    0.539064\n",
       "            530.9    1.000000\n",
       "            530.0    0.143507\n",
       "0.03 Torr   533.2    0.117019\n",
       "            532.2    0.410166\n",
       "            531.6    0.635049\n",
       "            530.9    1.000000\n",
       "            530.0    0.135274\n",
       "0.1 Torr    533.2    0.250780\n",
       "            532.2    0.644537\n",
       "            531.6    0.790782\n",
       "            530.9    1.000000\n",
       "            530.0    0.127278\n",
       "dtype: float64"
      ]
     },
     "execution_count": 33,
     "metadata": {},
     "output_type": "execute_result"
    }
   ],
   "source": [
    "dsg_bh = crn.fit_gibbs(\n",
    "    sample_at_ev=BINDING_ENERGIES,\n",
    "    num_energies=7,\n",
    "    pressures=[1e-6, 1e-5, 0.005, 0.015, 0.03, 1e-1],\n",
    "    species_for_xps=[h2o, oh_combined, o_combined, h2o_hbond_combined, h2o_multi]\n",
    ")\n",
    "dsg_bh.set_goal(goal)\n",
    "dsg_bh.goal"
   ]
  },
  {
   "cell_type": "code",
   "execution_count": 34,
   "id": "f22aa14a-98cc-4448-af34-bde95b86d4d0",
   "metadata": {
    "tags": []
   },
   "outputs": [
    {
     "name": "stdout",
     "output_type": "stream",
     "text": [
      "Simulating #146\n",
      "Row Index #-2721165226017483896\n",
      "Energies: -0.315, -0.099, -0.518, 0.255, 0.280, 0.164, -0.023\n",
      "Current Best: 0.0012931804013892937\n"
     ]
    }
   ],
   "source": [
    "dsg_bh.optimize_bh()"
   ]
  },
  {
   "cell_type": "markdown",
   "id": "a5f73233-db11-4eae-b093-541a1446774a",
   "metadata": {},
   "source": [
    "What we are looking for are:\n",
    "```\n",
    "Energies: -0.31, -0.09, -0.47, 0.31, 0.46, 0.16, -0.02\n",
    "```"
   ]
  },
  {
   "cell_type": "markdown",
   "id": "282d7602-4dcd-4ac2-8133-be100c0a420c",
   "metadata": {
    "tags": []
   },
   "source": [
    "## Part V: The Inverse Solver - Gaussian Processing (GP)"
   ]
  },
  {
   "cell_type": "code",
   "execution_count": 59,
   "id": "782c4550-dbe0-498f-885b-a79a7cbb8b56",
   "metadata": {
    "tags": []
   },
   "outputs": [],
   "source": [
    "from dtcs.spec.xps import XPSSpeciesManager\n",
    "from dtcs.spec.crn.bulk import CRNSpec, Rxn, RevRxn, Conc, ConcEq\n",
    "\n",
    "# The Species Manager lets us define species by specifying a name, as well as the sort of 'signature' of the species we're defining \n",
    "# (in this case, orbital information and binding energies)\n",
    "sm = XPSSpeciesManager()\n",
    "h2o_g = sm.make_species('H2O_g', 535.0, color='gray', latex='H_2O_g')\n",
    "o2_g = sm.make_species('O2_g', 535.0, color='gray', latex='O_{2g}')\n",
    "h2o = sm.make_species('H2O', 532.2, color='blue', latex='H_2O^*')\n",
    "oh = sm.make_species('OH', 0, color='red', latex='OH^*') #530.9\n",
    "o = sm.make_species('O', 0, color='aqua', latex='O^*') #530.0\n",
    "oh_h2o = sm.make_species('OH-H2O_{hb}', 0, color='black', latex='OH\\!-\\!H_2O^*') #531.6\n",
    "o_h2o = sm.make_species('O-H2O_{hb}', 0, color='black', latex='O\\!-\\!H_2O^*') #531.6\n",
    "h2o_multi = sm.make_species('multiH2O', 533.2, color='magenta', latex='H_2O_{multi}^*')\n",
    "\n",
    "# We need to combine the OH in OH and OH-H2O, combine O in O and O-H2O, combine H2O_O and H2O_OH to form H2O_hb\n",
    "oh_combined = sm.make_species('OH_combined', 530.9, color='red', latex='OH combined^*')\n",
    "o_combined = sm.make_species('O_combined', 530.0, color='aqua', latex='O combined^*')\n",
    "h2o_hbond_combined = sm.make_species('H2O_{hb}_combined', 531.6, color='black', latex='H_2O_{hb} combined^*')\n",
    "\n",
    "crn = CRNSpec(\n",
    "    RevRxn(o + h2o_g, o_h2o, k=corr, k2=desorption, dg=1),     # H2O on O* Adsorption and Desorption with HB(1)&(9)\n",
    "    RevRxn(oh + h2o_g, oh_h2o, k=corr, k2=desorption, dg=1),   # H2O on OH* Adsorption and Desorption with HB(2)&(8)\n",
    "    RevRxn(o_h2o, oh + oh, k='basic',k2='basic', dg=1),        # Reaction (3)\n",
    "    Rxn(oh_h2o, h2o + oh, k='basic', dg=1),                    # OH-H2O Diffusion (4)\n",
    "    Rxn(o_h2o, h2o + o, k='basic', dg=1),                      # O-H2O Diffusion (5)\n",
    "    RevRxn(h2o_g, h2o, k=corr, k2=desorption, dg=1),           # H2O Adsorption, (6)\n",
    "    RevRxn(oh_h2o + h2o_g, h2o_multi, k=corr, k2=desorption, dg=1),  # H2O on OH-H2O* Adsorption and Desorption (10)&(11) \n",
    "#   RevRxn(o + o, o2_g, k='basic', k2=\"basic\",dg=1.82),       # O2 Adsorption and Desoprtion, since we are not varying oxygen \n",
    "                                                             \n",
    "    ConcEq(oh_combined,oh + oh_h2o),\n",
    "    ConcEq(o_combined,o + o_h2o),\n",
    "    ConcEq(h2o_hbond_combined,o_h2o + oh_h2o),\n",
    "    \n",
    "    Conc(h2o_g, 1),\n",
    "    Conc(o, 0.25),\n",
    "    sm,\n",
    "    time=20\n",
    ")"
   ]
  },
  {
   "cell_type": "code",
   "execution_count": 64,
   "id": "09349e8f-6b83-4423-a9a7-398dbb64fc0f",
   "metadata": {
    "tags": []
   },
   "outputs": [
    {
     "data": {
      "text/plain": [
       "533.2    0.099669\n",
       "532.2    0.256164\n",
       "531.6    0.314287\n",
       "530.9    0.397438\n",
       "530.0    0.050585\n",
       "dtype: float64"
      ]
     },
     "execution_count": 64,
     "metadata": {},
     "output_type": "execute_result"
    }
   ],
   "source": [
    "import warnings\n",
    "warnings.filterwarnings(\"ignore\", category=DeprecationWarning) \n",
    "warnings.filterwarnings(\"ignore\", category=FutureWarning) \n",
    "\n",
    "import os\n",
    "import pandas as pd\n",
    "import numpy as np\n",
    "\n",
    "DATA_PATH = r'/global/cfs/cdirs/m3974/paper/DTCS Manuscript Figure 5'\n",
    "\n",
    "BINDING_ENERGIES = [533.2, 532.2, 531.6, 530.9, 530.0]\n",
    "\n",
    "data_filepath = os.path.join(DATA_PATH, 'single_simulated.csv') \n",
    "env = pd.read_csv(data_filepath, index_col=0, header=2).squeeze('columns') \n",
    "\n",
    "goal = {}    # goal values are the peak heights at the specificed binding energy locations\n",
    "\n",
    "samples = np.interp(\n",
    "    x=BINDING_ENERGIES,\n",
    "    xp=env.index,\n",
    "    fp=env.values,\n",
    ")\n",
    "for index, energy in enumerate(BINDING_ENERGIES):\n",
    "    goal[energy] = samples[index]\n",
    "\n",
    "goal = pd.Series(goal)\n",
    "goal"
   ]
  },
  {
   "cell_type": "code",
   "execution_count": 65,
   "id": "a1f8f459-7c1d-4127-bac7-49da19caddf2",
   "metadata": {
    "tags": []
   },
   "outputs": [
    {
     "data": {
      "text/plain": [
       "533.2    0.250780\n",
       "532.2    0.644537\n",
       "531.6    0.790782\n",
       "530.9    1.000000\n",
       "530.0    0.127278\n",
       "dtype: float64"
      ]
     },
     "execution_count": 65,
     "metadata": {},
     "output_type": "execute_result"
    }
   ],
   "source": [
    "dsg_gp = crn.fit_gibbs(\n",
    "    sample_at_ev=BINDING_ENERGIES,\n",
    "    num_energies=7,\n",
    "    times=[20],\n",
    "    species_for_xps=[h2o, oh_combined, o_combined, h2o_hbond_combined, h2o_multi]\n",
    ")\n",
    "\n",
    "dsg_gp.set_goal(goal)\n",
    "dsg_gp.goal"
   ]
  },
  {
   "cell_type": "code",
   "execution_count": 66,
   "id": "adfe8c50-5c46-4406-bc6c-c7ee61664a40",
   "metadata": {
    "tags": []
   },
   "outputs": [],
   "source": [
    "#Now we need an instrumentation function; input is like some dictionary where ['position'] is the energy tuple\n",
    "#We should score the tuple using our normal scoring function and then set the ['value'] to the score and then everything should work\n",
    "\n",
    "def inst_func(argument):\n",
    "\n",
    "    l = len(argument)\n",
    "    \n",
    "    #prefix\n",
    "    if l < 10:\n",
    "        for index in argument:\n",
    "            gibbs = index['position']\n",
    "            score = dsg_gp.score(*gibbs)\n",
    "            index['value'] = score\n",
    "    \n",
    "    #suffix\n",
    "    else:\n",
    "        gibbs = argument[l-1]['position']\n",
    "        score = dsg_gp.score(*gibbs)\n",
    "        argument[l-1]['value'] = score\n",
    "    \n",
    "    return argument"
   ]
  },
  {
   "cell_type": "code",
   "execution_count": 67,
   "id": "6751f734-3f72-4f11-99df-7c8f66c7b3b6",
   "metadata": {
    "tags": []
   },
   "outputs": [
    {
     "name": "stdout",
     "output_type": "stream",
     "text": [
      "Simulating #258\n",
      "Row Index #-95147029434600214\n",
      "Energies: -0.780, -0.402, 0.989, -0.954, -0.669, 0.949, 0.740\n",
      "Current Best: 0.46406141467250517\n",
      "Data received\n",
      "Checking if data is clean ...\n",
      "done\n",
      "Communicating new data to GP\n",
      "New data communicated via tell()\n",
      "fvGP data updated\n",
      "GP data updated\n",
      "++++++++++++++++++++++++++\n",
      "|Training ...            |\n",
      "++++++++++++++++++++++++++\n",
      "    No training in this round but I am trying to update the hyperparameters\n",
      "The Autonomous Experimenter is trying to update the hyperparameters.\n",
      "The autonomous experimenter could not find an instance of asynchronous training. Therefore, no update.\n",
      "hps:  [29219.81722209  1621.15919146  1071.03496739  3791.23918666\n",
      "  4756.24696238  2140.46204166   431.20306664  1306.06325584]\n",
      "++++++++++++++++++++++++++\n",
      "|Training Done           |\n",
      "++++++++++++++++++++++++++\n",
      "\n",
      "\n",
      "\n",
      "==================================\n",
      "==================================\n",
      "iteration:  259\n",
      "Run Time:  74.46701192855835      seconds\n",
      "Number of measurements:  259\n",
      "==================================\n",
      "==================================\n",
      "hps:  [29219.81722209  1621.15919146  1071.03496739  3791.23918666\n",
      "  4756.24696238  2140.46204166   431.20306664  1306.06325584]\n",
      "ask() initiated with hyperparameters: [29219.81722209  1621.15919146  1071.03496739  3791.23918666\n",
      "  4756.24696238  2140.46204166   431.20306664  1306.06325584]\n",
      "optimization method:  global\n",
      "bounds:  None\n",
      "====================================\n",
      "finding acquisition function maxima...\n",
      "optimization method  global\n",
      "tolerance:  0.4216383363005096\n",
      "population size:  20\n",
      "maximum number of iterations:  20\n",
      "bounds: \n",
      "[[-1  1]\n",
      " [-1  1]\n",
      " [-1  1]\n",
      " [-1  1]\n",
      " [-1  1]\n",
      " [-1  1]\n",
      " [-1  1]]\n",
      "cost function parameters:  {}\n",
      "====================================\n"
     ]
    },
    {
     "ename": "KeyboardInterrupt",
     "evalue": "",
     "output_type": "error",
     "traceback": [
      "\u001b[0;31m---------------------------------------------------------------------------\u001b[0m",
      "\u001b[0;31mKeyboardInterrupt\u001b[0m                         Traceback (most recent call last)",
      "Cell \u001b[0;32mIn[67], line 17\u001b[0m\n\u001b[1;32m      7\u001b[0m exp \u001b[38;5;241m=\u001b[39m AutonomousExperimenterGP(\n\u001b[1;32m      8\u001b[0m     parameter_bounds\u001b[38;5;241m=\u001b[39mnp\u001b[38;5;241m.\u001b[39marray([(\u001b[38;5;241m-\u001b[39m\u001b[38;5;241m1\u001b[39m , \u001b[38;5;241m1\u001b[39m)] \u001b[38;5;241m*\u001b[39m \u001b[38;5;241m7\u001b[39m),\n\u001b[1;32m      9\u001b[0m     instrument_func\u001b[38;5;241m=\u001b[39minst_func,\n\u001b[0;32m   (...)\u001b[0m\n\u001b[1;32m     13\u001b[0m     x\u001b[38;5;241m=\u001b[39m[(\u001b[38;5;241m0\u001b[39m, ) \u001b[38;5;241m*\u001b[39m \u001b[38;5;241m7\u001b[39m],\n\u001b[1;32m     14\u001b[0m )\n\u001b[1;32m     16\u001b[0m exp\u001b[38;5;241m.\u001b[39mtrain()\n\u001b[0;32m---> 17\u001b[0m exp\u001b[38;5;241m.\u001b[39mgo(\n\u001b[1;32m     18\u001b[0m     N\u001b[38;5;241m=\u001b[39m\u001b[38;5;241m1000\u001b[39m,\n\u001b[1;32m     19\u001b[0m     acq_func_opt_setting\u001b[38;5;241m=\u001b[39m\u001b[38;5;28;01mlambda\u001b[39;00m _: \u001b[38;5;124m'\u001b[39m\u001b[38;5;124mglobal\u001b[39m\u001b[38;5;124m'\u001b[39m\n\u001b[1;32m     20\u001b[0m )\n",
      "File \u001b[0;32m~/.local/perlmutter/python-3.11/lib/python3.11/site-packages/gpcam/autonomous_experimenter.py:221\u001b[0m, in \u001b[0;36mAutonomousExperimenterGP.go\u001b[0;34m(self, N, breaking_error, retrain_globally_at, retrain_locally_at, retrain_async_at, retrain_callable_at, update_cost_func_at, acq_func_opt_setting, training_opt_callable, training_opt_max_iter, training_opt_pop_size, training_opt_tol, acq_func_opt_max_iter, acq_func_opt_pop_size, acq_func_opt_tol, acq_func_opt_tol_adjust, number_of_suggested_measurements)\u001b[0m\n\u001b[1;32m    219\u001b[0m local_method \u001b[38;5;241m=\u001b[39m acq_func_opt_setting(i)\n\u001b[1;32m    220\u001b[0m \u001b[38;5;28;01mif\u001b[39;00m number_of_suggested_measurements \u001b[38;5;241m>\u001b[39m \u001b[38;5;241m1\u001b[39m: local_method \u001b[38;5;241m=\u001b[39m \u001b[38;5;124m\"\u001b[39m\u001b[38;5;124mhgdl\u001b[39m\u001b[38;5;124m\"\u001b[39m\n\u001b[0;32m--> 221\u001b[0m res \u001b[38;5;241m=\u001b[39m \u001b[38;5;28mself\u001b[39m\u001b[38;5;241m.\u001b[39mgp_optimizer\u001b[38;5;241m.\u001b[39mask(\n\u001b[1;32m    222\u001b[0m         position \u001b[38;5;241m=\u001b[39m current_position,\n\u001b[1;32m    223\u001b[0m         n \u001b[38;5;241m=\u001b[39m number_of_suggested_measurements,\n\u001b[1;32m    224\u001b[0m         acquisition_function \u001b[38;5;241m=\u001b[39m \u001b[38;5;28mself\u001b[39m\u001b[38;5;241m.\u001b[39macq_func,\n\u001b[1;32m    225\u001b[0m         cost_function \u001b[38;5;241m=\u001b[39m \u001b[38;5;28mself\u001b[39m\u001b[38;5;241m.\u001b[39mcost_func,\n\u001b[1;32m    226\u001b[0m         bounds \u001b[38;5;241m=\u001b[39m \u001b[38;5;28;01mNone\u001b[39;00m,\n\u001b[1;32m    227\u001b[0m         method \u001b[38;5;241m=\u001b[39m local_method,\n\u001b[1;32m    228\u001b[0m         pop_size \u001b[38;5;241m=\u001b[39m acq_func_opt_pop_size,\n\u001b[1;32m    229\u001b[0m         max_iter \u001b[38;5;241m=\u001b[39m acq_func_opt_max_iter,\n\u001b[1;32m    230\u001b[0m         tol \u001b[38;5;241m=\u001b[39m acq_func_opt_tol,\n\u001b[1;32m    231\u001b[0m         dask_client \u001b[38;5;241m=\u001b[39m \u001b[38;5;28mself\u001b[39m\u001b[38;5;241m.\u001b[39macq_func_opt_dask_client)\n\u001b[1;32m    232\u001b[0m \u001b[38;5;66;03m#########################\u001b[39;00m\n\u001b[1;32m    233\u001b[0m next_measurement_points \u001b[38;5;241m=\u001b[39m res[\u001b[38;5;124m\"\u001b[39m\u001b[38;5;124mx\u001b[39m\u001b[38;5;124m\"\u001b[39m]\n",
      "File \u001b[0;32m~/.local/perlmutter/python-3.11/lib/python3.11/site-packages/gpcam/gp_optimizer.py:325\u001b[0m, in \u001b[0;36mGPOptimizer.ask\u001b[0;34m(self, position, n, acquisition_function, cost_function, bounds, method, pop_size, max_iter, tol, x0, dask_client)\u001b[0m\n\u001b[1;32m    323\u001b[0m \u001b[38;5;28mprint\u001b[39m(\u001b[38;5;124m\"\u001b[39m\u001b[38;5;124mbounds: \u001b[39m\u001b[38;5;124m\"\u001b[39m,bounds)\n\u001b[1;32m    324\u001b[0m \u001b[38;5;28;01mif\u001b[39;00m bounds \u001b[38;5;129;01mis\u001b[39;00m \u001b[38;5;28;01mNone\u001b[39;00m: bounds \u001b[38;5;241m=\u001b[39m \u001b[38;5;28mself\u001b[39m\u001b[38;5;241m.\u001b[39minput_space_bounds\n\u001b[0;32m--> 325\u001b[0m maxima,func_evals \u001b[38;5;241m=\u001b[39m sm\u001b[38;5;241m.\u001b[39mfind_acquisition_function_maxima(\n\u001b[1;32m    326\u001b[0m         \u001b[38;5;28mself\u001b[39m,\n\u001b[1;32m    327\u001b[0m         acquisition_function,\n\u001b[1;32m    328\u001b[0m         position,n, bounds,\n\u001b[1;32m    329\u001b[0m         optimization_method \u001b[38;5;241m=\u001b[39m method,\n\u001b[1;32m    330\u001b[0m         optimization_pop_size \u001b[38;5;241m=\u001b[39m pop_size,\n\u001b[1;32m    331\u001b[0m         optimization_max_iter \u001b[38;5;241m=\u001b[39m max_iter,\n\u001b[1;32m    332\u001b[0m         optimization_tol \u001b[38;5;241m=\u001b[39m tol,\n\u001b[1;32m    333\u001b[0m         cost_function \u001b[38;5;241m=\u001b[39m cost_function,\n\u001b[1;32m    334\u001b[0m         cost_function_parameters \u001b[38;5;241m=\u001b[39m \u001b[38;5;28mself\u001b[39m\u001b[38;5;241m.\u001b[39mcost_function_parameters,\n\u001b[1;32m    335\u001b[0m         optimization_x0 \u001b[38;5;241m=\u001b[39m x0,\n\u001b[1;32m    336\u001b[0m         dask_client \u001b[38;5;241m=\u001b[39m dask_client)\n\u001b[1;32m    337\u001b[0m \u001b[38;5;28;01mreturn\u001b[39;00m {\u001b[38;5;124m'\u001b[39m\u001b[38;5;124mx\u001b[39m\u001b[38;5;124m'\u001b[39m:np\u001b[38;5;241m.\u001b[39marray(maxima), \u001b[38;5;124m\"\u001b[39m\u001b[38;5;124mf(x)\u001b[39m\u001b[38;5;124m\"\u001b[39m : np\u001b[38;5;241m.\u001b[39marray(func_evals)}\n",
      "File \u001b[0;32m~/.local/perlmutter/python-3.11/lib/python3.11/site-packages/gpcam/surrogate_model.py:99\u001b[0m, in \u001b[0;36mfind_acquisition_function_maxima\u001b[0;34m(gp, acquisition_function, origin, number_of_maxima_sought, optimization_bounds, optimization_method, optimization_pop_size, optimization_max_iter, optimization_tol, optimization_x0, cost_function, cost_function_parameters, dask_client)\u001b[0m\n\u001b[1;32m     96\u001b[0m \u001b[38;5;28mprint\u001b[39m(\u001b[38;5;124m\"\u001b[39m\u001b[38;5;124m====================================\u001b[39m\u001b[38;5;124m\"\u001b[39m)\n\u001b[1;32m     98\u001b[0m \u001b[38;5;28;01mif\u001b[39;00m optimization_method \u001b[38;5;241m==\u001b[39m \u001b[38;5;124m\"\u001b[39m\u001b[38;5;124mglobal\u001b[39m\u001b[38;5;124m\"\u001b[39m:\n\u001b[0;32m---> 99\u001b[0m     opti, func_eval \u001b[38;5;241m=\u001b[39m differential_evolution(\n\u001b[1;32m    100\u001b[0m         evaluate_acquisition_function,\n\u001b[1;32m    101\u001b[0m         optimization_bounds,\n\u001b[1;32m    102\u001b[0m         tol \u001b[38;5;241m=\u001b[39m optimization_tol,\n\u001b[1;32m    103\u001b[0m         popsize \u001b[38;5;241m=\u001b[39m optimization_pop_size,\n\u001b[1;32m    104\u001b[0m         max_iter \u001b[38;5;241m=\u001b[39m optimization_max_iter,\n\u001b[1;32m    105\u001b[0m         origin \u001b[38;5;241m=\u001b[39m origin,\n\u001b[1;32m    106\u001b[0m         gp \u001b[38;5;241m=\u001b[39m gp,\n\u001b[1;32m    107\u001b[0m         acquisition_function \u001b[38;5;241m=\u001b[39m acquisition_function,\n\u001b[1;32m    108\u001b[0m         cost_function \u001b[38;5;241m=\u001b[39m cost_function,\n\u001b[1;32m    109\u001b[0m         cost_function_parameters \u001b[38;5;241m=\u001b[39m cost_function_parameters\n\u001b[1;32m    110\u001b[0m     )\n\u001b[1;32m    111\u001b[0m     opti \u001b[38;5;241m=\u001b[39m np\u001b[38;5;241m.\u001b[39masarray(opti)\n\u001b[1;32m    112\u001b[0m     func_eval \u001b[38;5;241m=\u001b[39m np\u001b[38;5;241m.\u001b[39masarray(func_eval)\n",
      "File \u001b[0;32m~/.local/perlmutter/python-3.11/lib/python3.11/site-packages/gpcam/surrogate_model.py:173\u001b[0m, in \u001b[0;36mdifferential_evolution\u001b[0;34m(ObjectiveFunction, bounds, tol, popsize, max_iter, origin, gp, acquisition_function, cost_function, cost_function_parameters)\u001b[0m\n\u001b[1;32m    169\u001b[0m \u001b[38;5;28;01mdef\u001b[39;00m \u001b[38;5;21mdifferential_evolution\u001b[39m(ObjectiveFunction, bounds, tol, popsize, max_iter \u001b[38;5;241m=\u001b[39m \u001b[38;5;241m100\u001b[39m, \n\u001b[1;32m    170\u001b[0m         origin \u001b[38;5;241m=\u001b[39m \u001b[38;5;28;01mNone\u001b[39;00m, gp \u001b[38;5;241m=\u001b[39m \u001b[38;5;28;01mNone\u001b[39;00m, acquisition_function \u001b[38;5;241m=\u001b[39m \u001b[38;5;28;01mNone\u001b[39;00m, cost_function \u001b[38;5;241m=\u001b[39m \u001b[38;5;28;01mNone\u001b[39;00m, cost_function_parameters \u001b[38;5;241m=\u001b[39m \u001b[38;5;28;01mNone\u001b[39;00m):\n\u001b[1;32m    171\u001b[0m     fun \u001b[38;5;241m=\u001b[39m  partial(ObjectiveFunction, gp \u001b[38;5;241m=\u001b[39m gp, acquisition_function \u001b[38;5;241m=\u001b[39m acquisition_function, origin \u001b[38;5;241m=\u001b[39m origin,\n\u001b[1;32m    172\u001b[0m             cost_function \u001b[38;5;241m=\u001b[39m cost_function, cost_function_parameters \u001b[38;5;241m=\u001b[39m cost_function_parameters)\n\u001b[0;32m--> 173\u001b[0m     res \u001b[38;5;241m=\u001b[39m devo(\n\u001b[1;32m    174\u001b[0m         fun, bounds, tol\u001b[38;5;241m=\u001b[39mtol, disp\u001b[38;5;241m=\u001b[39m\u001b[38;5;28;01mTrue\u001b[39;00m, maxiter\u001b[38;5;241m=\u001b[39mmax_iter, popsize\u001b[38;5;241m=\u001b[39mpopsize, polish\u001b[38;5;241m=\u001b[39m\u001b[38;5;28;01mFalse\u001b[39;00m\n\u001b[1;32m    175\u001b[0m     )\n\u001b[1;32m    176\u001b[0m     \u001b[38;5;28;01mreturn\u001b[39;00m [\u001b[38;5;28mlist\u001b[39m(res[\u001b[38;5;124m\"\u001b[39m\u001b[38;5;124mx\u001b[39m\u001b[38;5;124m\"\u001b[39m])], \u001b[38;5;28mlist\u001b[39m([res[\u001b[38;5;124m\"\u001b[39m\u001b[38;5;124mfun\u001b[39m\u001b[38;5;124m\"\u001b[39m]])\n",
      "File \u001b[0;32m~/.conda/envs/dtcs-3.11/lib/python3.11/site-packages/scipy/optimize/_differentialevolution.py:502\u001b[0m, in \u001b[0;36mdifferential_evolution\u001b[0;34m(func, bounds, args, strategy, maxiter, popsize, tol, mutation, recombination, seed, callback, disp, polish, init, atol, updating, workers, constraints, x0, integrality, vectorized)\u001b[0m\n\u001b[1;32m    485\u001b[0m \u001b[38;5;66;03m# using a context manager means that any created Pool objects are\u001b[39;00m\n\u001b[1;32m    486\u001b[0m \u001b[38;5;66;03m# cleared up.\u001b[39;00m\n\u001b[1;32m    487\u001b[0m \u001b[38;5;28;01mwith\u001b[39;00m DifferentialEvolutionSolver(func, bounds, args\u001b[38;5;241m=\u001b[39margs,\n\u001b[1;32m    488\u001b[0m                                  strategy\u001b[38;5;241m=\u001b[39mstrategy,\n\u001b[1;32m    489\u001b[0m                                  maxiter\u001b[38;5;241m=\u001b[39mmaxiter,\n\u001b[0;32m   (...)\u001b[0m\n\u001b[1;32m    500\u001b[0m                                  integrality\u001b[38;5;241m=\u001b[39mintegrality,\n\u001b[1;32m    501\u001b[0m                                  vectorized\u001b[38;5;241m=\u001b[39mvectorized) \u001b[38;5;28;01mas\u001b[39;00m solver:\n\u001b[0;32m--> 502\u001b[0m     ret \u001b[38;5;241m=\u001b[39m solver\u001b[38;5;241m.\u001b[39msolve()\n\u001b[1;32m    504\u001b[0m \u001b[38;5;28;01mreturn\u001b[39;00m ret\n",
      "File \u001b[0;32m~/.conda/envs/dtcs-3.11/lib/python3.11/site-packages/scipy/optimize/_differentialevolution.py:1164\u001b[0m, in \u001b[0;36mDifferentialEvolutionSolver.solve\u001b[0;34m(self)\u001b[0m\n\u001b[1;32m   1161\u001b[0m \u001b[38;5;28;01mfor\u001b[39;00m nit \u001b[38;5;129;01min\u001b[39;00m \u001b[38;5;28mrange\u001b[39m(\u001b[38;5;241m1\u001b[39m, \u001b[38;5;28mself\u001b[39m\u001b[38;5;241m.\u001b[39mmaxiter \u001b[38;5;241m+\u001b[39m \u001b[38;5;241m1\u001b[39m):\n\u001b[1;32m   1162\u001b[0m     \u001b[38;5;66;03m# evolve the population by a generation\u001b[39;00m\n\u001b[1;32m   1163\u001b[0m     \u001b[38;5;28;01mtry\u001b[39;00m:\n\u001b[0;32m-> 1164\u001b[0m         \u001b[38;5;28mnext\u001b[39m(\u001b[38;5;28mself\u001b[39m)\n\u001b[1;32m   1165\u001b[0m     \u001b[38;5;28;01mexcept\u001b[39;00m \u001b[38;5;167;01mStopIteration\u001b[39;00m:\n\u001b[1;32m   1166\u001b[0m         warning_flag \u001b[38;5;241m=\u001b[39m \u001b[38;5;28;01mTrue\u001b[39;00m\n",
      "File \u001b[0;32m~/.conda/envs/dtcs-3.11/lib/python3.11/site-packages/scipy/optimize/_differentialevolution.py:1578\u001b[0m, in \u001b[0;36mDifferentialEvolutionSolver.__next__\u001b[0;34m(self)\u001b[0m\n\u001b[1;32m   1576\u001b[0m     feasible \u001b[38;5;241m=\u001b[39m \u001b[38;5;28;01mTrue\u001b[39;00m\n\u001b[1;32m   1577\u001b[0m     cv \u001b[38;5;241m=\u001b[39m np\u001b[38;5;241m.\u001b[39matleast_2d([\u001b[38;5;241m0.\u001b[39m])\n\u001b[0;32m-> 1578\u001b[0m     energy \u001b[38;5;241m=\u001b[39m \u001b[38;5;28mself\u001b[39m\u001b[38;5;241m.\u001b[39mfunc(parameters)\n\u001b[1;32m   1579\u001b[0m     \u001b[38;5;28mself\u001b[39m\u001b[38;5;241m.\u001b[39m_nfev \u001b[38;5;241m+\u001b[39m\u001b[38;5;241m=\u001b[39m \u001b[38;5;241m1\u001b[39m\n\u001b[1;32m   1581\u001b[0m \u001b[38;5;66;03m# compare trial and population member\u001b[39;00m\n",
      "File \u001b[0;32m~/.conda/envs/dtcs-3.11/lib/python3.11/site-packages/scipy/_lib/_util.py:441\u001b[0m, in \u001b[0;36m_FunctionWrapper.__call__\u001b[0;34m(self, x)\u001b[0m\n\u001b[1;32m    440\u001b[0m \u001b[38;5;28;01mdef\u001b[39;00m \u001b[38;5;21m__call__\u001b[39m(\u001b[38;5;28mself\u001b[39m, x):\n\u001b[0;32m--> 441\u001b[0m     \u001b[38;5;28;01mreturn\u001b[39;00m \u001b[38;5;28mself\u001b[39m\u001b[38;5;241m.\u001b[39mf(x, \u001b[38;5;241m*\u001b[39m\u001b[38;5;28mself\u001b[39m\u001b[38;5;241m.\u001b[39margs)\n",
      "File \u001b[0;32m~/.local/perlmutter/python-3.11/lib/python3.11/site-packages/gpcam/surrogate_model.py:25\u001b[0m, in \u001b[0;36mevaluate_acquisition_function\u001b[0;34m(x, gp, acquisition_function, origin, cost_function, cost_function_parameters)\u001b[0m\n\u001b[1;32m     23\u001b[0m \u001b[38;5;28;01mif\u001b[39;00m \u001b[38;5;28mcallable\u001b[39m(acquisition_function):\n\u001b[1;32m     24\u001b[0m     \u001b[38;5;28;01mreturn\u001b[39;00m \u001b[38;5;241m-\u001b[39macquisition_function(x,gp)\u001b[38;5;241m/\u001b[39mcost_eval\n\u001b[0;32m---> 25\u001b[0m obj_eval \u001b[38;5;241m=\u001b[39m evaluate_gp_acquisition_function(x, acquisition_function, gp)\n\u001b[1;32m     26\u001b[0m \u001b[38;5;66;03m#if no user defined acquisition function is used\u001b[39;00m\n\u001b[1;32m     27\u001b[0m obj_eval \u001b[38;5;241m=\u001b[39m obj_eval \u001b[38;5;241m/\u001b[39m cost_eval\n",
      "File \u001b[0;32m~/.local/perlmutter/python-3.11/lib/python3.11/site-packages/gpcam/surrogate_model.py:51\u001b[0m, in \u001b[0;36mevaluate_gp_acquisition_function\u001b[0;34m(x, acquisition_function, gp)\u001b[0m\n\u001b[1;32m     48\u001b[0m     \u001b[38;5;28;01mreturn\u001b[39;00m res\n\u001b[1;32m     49\u001b[0m \u001b[38;5;28;01mif\u001b[39;00m acquisition_function \u001b[38;5;241m==\u001b[39m \u001b[38;5;124m\"\u001b[39m\u001b[38;5;124mcovariance\u001b[39m\u001b[38;5;124m\"\u001b[39m:\n\u001b[1;32m     50\u001b[0m     \u001b[38;5;66;03m#x = cast_to_index_set(x,gp.value_positions[-1], mode = 'cartesian product')\u001b[39;00m\n\u001b[0;32m---> 51\u001b[0m     res \u001b[38;5;241m=\u001b[39m gp\u001b[38;5;241m.\u001b[39mposterior_covariance(x)\n\u001b[1;32m     52\u001b[0m     b \u001b[38;5;241m=\u001b[39m res[\u001b[38;5;124m\"\u001b[39m\u001b[38;5;124mS(x)\u001b[39m\u001b[38;5;124m\"\u001b[39m]\n\u001b[1;32m     53\u001b[0m     sgn, logdet \u001b[38;5;241m=\u001b[39m np\u001b[38;5;241m.\u001b[39mlinalg\u001b[38;5;241m.\u001b[39mslogdet(b)\n",
      "File \u001b[0;32m~/.local/perlmutter/python-3.11/lib/python3.11/site-packages/fvgp/gp.py:792\u001b[0m, in \u001b[0;36mGP.posterior_covariance\u001b[0;34m(self, x_iset, variance_only)\u001b[0m\n\u001b[1;32m    790\u001b[0m     \u001b[38;5;28;01mif\u001b[39;00m variance_only \u001b[38;5;129;01mis\u001b[39;00m \u001b[38;5;28;01mFalse\u001b[39;00m:  S \u001b[38;5;241m=\u001b[39m kk \u001b[38;5;241m-\u001b[39m (k\u001b[38;5;241m.\u001b[39mT \u001b[38;5;241m@\u001b[39m \u001b[38;5;28mself\u001b[39m\u001b[38;5;241m.\u001b[39mK_inv \u001b[38;5;241m@\u001b[39m k); v \u001b[38;5;241m=\u001b[39m np\u001b[38;5;241m.\u001b[39marray(np\u001b[38;5;241m.\u001b[39mdiag(S))\n\u001b[1;32m    791\u001b[0m \u001b[38;5;28;01melse\u001b[39;00m:\n\u001b[0;32m--> 792\u001b[0m     k_cov_prod \u001b[38;5;241m=\u001b[39m \u001b[38;5;28mself\u001b[39m\u001b[38;5;241m.\u001b[39msolve(\u001b[38;5;28mself\u001b[39m\u001b[38;5;241m.\u001b[39mprior_covariance,k)\n\u001b[1;32m    793\u001b[0m     S \u001b[38;5;241m=\u001b[39m kk \u001b[38;5;241m-\u001b[39m (k_cov_prod\u001b[38;5;241m.\u001b[39mT \u001b[38;5;241m@\u001b[39m k)\n\u001b[1;32m    794\u001b[0m     v \u001b[38;5;241m=\u001b[39m np\u001b[38;5;241m.\u001b[39marray(np\u001b[38;5;241m.\u001b[39mdiag(S))\n",
      "File \u001b[0;32m~/.local/perlmutter/python-3.11/lib/python3.11/site-packages/fvgp/gp.py:646\u001b[0m, in \u001b[0;36mGP.solve\u001b[0;34m(self, A, b)\u001b[0m\n\u001b[1;32m    644\u001b[0m b \u001b[38;5;241m=\u001b[39m torch\u001b[38;5;241m.\u001b[39mfrom_numpy(b)\n\u001b[1;32m    645\u001b[0m \u001b[38;5;28;01mtry\u001b[39;00m:\n\u001b[0;32m--> 646\u001b[0m     x \u001b[38;5;241m=\u001b[39m torch\u001b[38;5;241m.\u001b[39mlinalg\u001b[38;5;241m.\u001b[39msolve(A,b)\n\u001b[1;32m    647\u001b[0m     \u001b[38;5;28;01mreturn\u001b[39;00m x\u001b[38;5;241m.\u001b[39mnumpy()\n\u001b[1;32m    648\u001b[0m \u001b[38;5;28;01mexcept\u001b[39;00m \u001b[38;5;167;01mException\u001b[39;00m \u001b[38;5;28;01mas\u001b[39;00m e:\n",
      "\u001b[0;31mKeyboardInterrupt\u001b[0m: "
     ]
    },
    {
     "name": "stderr",
     "output_type": "stream",
     "text": [
      "2024-05-14 16:05:34,766 - distributed.nanny - ERROR - Worker process died unexpectedly\n",
      "Process Dask Worker process (from Nanny):\n",
      "Traceback (most recent call last):\n",
      "  File \"/global/homes/j/jinqian/.conda/envs/dtcs-3.11/lib/python3.11/asyncio/runners.py\", line 118, in run\n",
      "    return self._loop.run_until_complete(task)\n",
      "           ^^^^^^^^^^^^^^^^^^^^^^^^^^^^^^^^^^^\n",
      "  File \"/global/homes/j/jinqian/.conda/envs/dtcs-3.11/lib/python3.11/asyncio/base_events.py\", line 654, in run_until_complete\n",
      "    return future.result()\n",
      "           ^^^^^^^^^^^^^^^\n",
      "  File \"/global/homes/j/jinqian/.conda/envs/dtcs-3.11/lib/python3.11/site-packages/distributed/nanny.py\", line 981, in run\n",
      "    await worker.finished()\n",
      "  File \"/global/homes/j/jinqian/.conda/envs/dtcs-3.11/lib/python3.11/site-packages/distributed/core.py\", line 630, in finished\n",
      "    await self._event_finished.wait()\n",
      "  File \"/global/homes/j/jinqian/.conda/envs/dtcs-3.11/lib/python3.11/asyncio/locks.py\", line 213, in wait\n",
      "    await fut\n",
      "asyncio.exceptions.CancelledError\n",
      "\n",
      "During handling of the above exception, another exception occurred:\n",
      "\n",
      "Traceback (most recent call last):\n",
      "  File \"/global/homes/j/jinqian/.conda/envs/dtcs-3.11/lib/python3.11/multiprocessing/process.py\", line 314, in _bootstrap\n",
      "    self.run()\n",
      "  File \"/global/homes/j/jinqian/.conda/envs/dtcs-3.11/lib/python3.11/multiprocessing/process.py\", line 108, in run\n",
      "    self._target(*self._args, **self._kwargs)\n",
      "  File \"/global/homes/j/jinqian/.conda/envs/dtcs-3.11/lib/python3.11/site-packages/distributed/process.py\", line 202, in _run\n",
      "    target(*args, **kwargs)\n",
      "  File \"/global/homes/j/jinqian/.conda/envs/dtcs-3.11/lib/python3.11/site-packages/distributed/nanny.py\", line 1019, in _run\n",
      "    asyncio_run(run(), loop_factory=get_loop_factory())\n",
      "  File \"/global/homes/j/jinqian/.conda/envs/dtcs-3.11/lib/python3.11/site-packages/distributed/compatibility.py\", line 204, in asyncio_run\n",
      "    return runner.run(main)\n",
      "           ^^^^^^^^^^^^^^^^\n",
      "  File \"/global/homes/j/jinqian/.conda/envs/dtcs-3.11/lib/python3.11/asyncio/runners.py\", line 123, in run\n",
      "    raise KeyboardInterrupt()\n",
      "KeyboardInterrupt\n",
      "Process Dask Worker process (from Nanny):\n",
      "2024-05-14 16:05:34,772 - distributed.nanny - ERROR - Worker process died unexpectedly\n",
      "Process Dask Worker process (from Nanny):\n",
      "2024-05-14 16:05:34,773 - distributed.nanny - ERROR - Worker process died unexpectedly\n",
      "2024-05-14 16:05:34,772 - distributed.nanny - ERROR - Worker process died unexpectedly\n",
      "Process Dask Worker process (from Nanny):\n",
      "2024-05-14 16:05:34,773 - distributed.nanny - ERROR - Worker process died unexpectedly\n",
      "2024-05-14 16:05:34,773 - distributed.nanny - ERROR - Worker process died unexpectedly\n",
      "Process Dask Worker process (from Nanny):\n",
      "Process Dask Worker process (from Nanny):\n",
      "2024-05-14 16:05:34,773 - distributed.nanny - ERROR - Worker process died unexpectedly\n",
      "Process Dask Worker process (from Nanny):\n",
      "2024-05-14 16:05:34,773 - distributed.nanny - ERROR - Worker process died unexpectedly\n",
      "Process Dask Worker process (from Nanny):\n",
      "2024-05-14 16:05:34,774 - distributed.nanny - ERROR - Worker process died unexpectedly\n",
      "Process Dask Worker process (from Nanny):\n",
      "2024-05-14 16:05:34,774 - distributed.nanny - ERROR - Worker process died unexpectedly\n",
      "Process Dask Worker process (from Nanny):\n",
      "2024-05-14 16:05:34,774 - distributed.nanny - ERROR - Worker process died unexpectedly\n",
      "Traceback (most recent call last):\n",
      "Process Dask Worker process (from Nanny):\n",
      "Traceback (most recent call last):\n",
      "Process Dask Worker process (from Nanny):\n",
      "  File \"/global/homes/j/jinqian/.conda/envs/dtcs-3.11/lib/python3.11/asyncio/runners.py\", line 118, in run\n",
      "    return self._loop.run_until_complete(task)\n",
      "           ^^^^^^^^^^^^^^^^^^^^^^^^^^^^^^^^^^^\n",
      "  File \"/global/homes/j/jinqian/.conda/envs/dtcs-3.11/lib/python3.11/asyncio/base_events.py\", line 654, in run_until_complete\n",
      "    return future.result()\n",
      "           ^^^^^^^^^^^^^^^\n",
      "  File \"/global/homes/j/jinqian/.conda/envs/dtcs-3.11/lib/python3.11/site-packages/distributed/nanny.py\", line 981, in run\n",
      "    await worker.finished()\n",
      "  File \"/global/homes/j/jinqian/.conda/envs/dtcs-3.11/lib/python3.11/site-packages/distributed/core.py\", line 630, in finished\n",
      "    await self._event_finished.wait()\n",
      "  File \"/global/homes/j/jinqian/.conda/envs/dtcs-3.11/lib/python3.11/asyncio/locks.py\", line 213, in wait\n",
      "    await fut\n",
      "asyncio.exceptions.CancelledError\n",
      "  File \"/global/homes/j/jinqian/.conda/envs/dtcs-3.11/lib/python3.11/asyncio/runners.py\", line 118, in run\n",
      "    return self._loop.run_until_complete(task)\n",
      "           ^^^^^^^^^^^^^^^^^^^^^^^^^^^^^^^^^^^\n",
      "  File \"/global/homes/j/jinqian/.conda/envs/dtcs-3.11/lib/python3.11/asyncio/base_events.py\", line 654, in run_until_complete\n",
      "    return future.result()\n",
      "           ^^^^^^^^^^^^^^^\n",
      "  File \"/global/homes/j/jinqian/.conda/envs/dtcs-3.11/lib/python3.11/site-packages/distributed/nanny.py\", line 981, in run\n",
      "    await worker.finished()\n",
      "  File \"/global/homes/j/jinqian/.conda/envs/dtcs-3.11/lib/python3.11/site-packages/distributed/core.py\", line 630, in finished\n",
      "    await self._event_finished.wait()\n",
      "  File \"/global/homes/j/jinqian/.conda/envs/dtcs-3.11/lib/python3.11/asyncio/locks.py\", line 213, in wait\n",
      "    await fut\n",
      "asyncio.exceptions.CancelledError\n",
      "\n",
      "During handling of the above exception, another exception occurred:\n",
      "\n",
      "Traceback (most recent call last):\n",
      "\n",
      "During handling of the above exception, another exception occurred:\n",
      "\n",
      "Traceback (most recent call last):\n",
      "  File \"/global/homes/j/jinqian/.conda/envs/dtcs-3.11/lib/python3.11/multiprocessing/process.py\", line 314, in _bootstrap\n",
      "    self.run()\n",
      "  File \"/global/homes/j/jinqian/.conda/envs/dtcs-3.11/lib/python3.11/multiprocessing/process.py\", line 108, in run\n",
      "    self._target(*self._args, **self._kwargs)\n",
      "  File \"/global/homes/j/jinqian/.conda/envs/dtcs-3.11/lib/python3.11/site-packages/distributed/process.py\", line 202, in _run\n",
      "    target(*args, **kwargs)\n",
      "  File \"/global/homes/j/jinqian/.conda/envs/dtcs-3.11/lib/python3.11/site-packages/distributed/nanny.py\", line 1019, in _run\n",
      "    asyncio_run(run(), loop_factory=get_loop_factory())\n",
      "  File \"/global/homes/j/jinqian/.conda/envs/dtcs-3.11/lib/python3.11/site-packages/distributed/compatibility.py\", line 204, in asyncio_run\n",
      "    return runner.run(main)\n",
      "           ^^^^^^^^^^^^^^^^\n",
      "  File \"/global/homes/j/jinqian/.conda/envs/dtcs-3.11/lib/python3.11/asyncio/runners.py\", line 123, in run\n",
      "    raise KeyboardInterrupt()\n",
      "KeyboardInterrupt\n",
      "  File \"/global/homes/j/jinqian/.conda/envs/dtcs-3.11/lib/python3.11/multiprocessing/process.py\", line 314, in _bootstrap\n",
      "    self.run()\n",
      "  File \"/global/homes/j/jinqian/.conda/envs/dtcs-3.11/lib/python3.11/multiprocessing/process.py\", line 108, in run\n",
      "    self._target(*self._args, **self._kwargs)\n",
      "  File \"/global/homes/j/jinqian/.conda/envs/dtcs-3.11/lib/python3.11/site-packages/distributed/process.py\", line 202, in _run\n",
      "    target(*args, **kwargs)\n",
      "  File \"/global/homes/j/jinqian/.conda/envs/dtcs-3.11/lib/python3.11/site-packages/distributed/nanny.py\", line 1019, in _run\n",
      "    asyncio_run(run(), loop_factory=get_loop_factory())\n",
      "  File \"/global/homes/j/jinqian/.conda/envs/dtcs-3.11/lib/python3.11/site-packages/distributed/compatibility.py\", line 204, in asyncio_run\n",
      "    return runner.run(main)\n",
      "           ^^^^^^^^^^^^^^^^\n",
      "  File \"/global/homes/j/jinqian/.conda/envs/dtcs-3.11/lib/python3.11/asyncio/runners.py\", line 123, in run\n",
      "    raise KeyboardInterrupt()\n",
      "KeyboardInterrupt\n",
      "2024-05-14 16:05:34,775 - distributed.nanny - ERROR - Worker process died unexpectedly\n",
      "Process Dask Worker process (from Nanny):\n",
      "2024-05-14 16:05:34,775 - distributed.nanny - ERROR - Worker process died unexpectedly\n",
      "2024-05-14 16:05:34,775 - distributed.nanny - ERROR - Worker process died unexpectedly\n",
      "Process Dask Worker process (from Nanny):\n",
      "2024-05-14 16:05:34,775 - distributed.nanny - ERROR - Worker process died unexpectedly\n",
      "Traceback (most recent call last):\n",
      "Process Dask Worker process (from Nanny):\n",
      "Process Dask Worker process (from Nanny):\n",
      "  File \"/global/homes/j/jinqian/.conda/envs/dtcs-3.11/lib/python3.11/asyncio/runners.py\", line 118, in run\n",
      "    return self._loop.run_until_complete(task)\n",
      "           ^^^^^^^^^^^^^^^^^^^^^^^^^^^^^^^^^^^\n",
      "  File \"/global/homes/j/jinqian/.conda/envs/dtcs-3.11/lib/python3.11/asyncio/base_events.py\", line 654, in run_until_complete\n",
      "    return future.result()\n",
      "           ^^^^^^^^^^^^^^^\n",
      "  File \"/global/homes/j/jinqian/.conda/envs/dtcs-3.11/lib/python3.11/site-packages/distributed/nanny.py\", line 981, in run\n",
      "    await worker.finished()\n",
      "  File \"/global/homes/j/jinqian/.conda/envs/dtcs-3.11/lib/python3.11/site-packages/distributed/core.py\", line 630, in finished\n",
      "    await self._event_finished.wait()\n",
      "  File \"/global/homes/j/jinqian/.conda/envs/dtcs-3.11/lib/python3.11/asyncio/locks.py\", line 213, in wait\n",
      "    await fut\n",
      "asyncio.exceptions.CancelledError\n",
      "\n",
      "During handling of the above exception, another exception occurred:\n",
      "\n",
      "Traceback (most recent call last):\n",
      "  File \"/global/homes/j/jinqian/.conda/envs/dtcs-3.11/lib/python3.11/multiprocessing/process.py\", line 314, in _bootstrap\n",
      "    self.run()\n",
      "  File \"/global/homes/j/jinqian/.conda/envs/dtcs-3.11/lib/python3.11/multiprocessing/process.py\", line 108, in run\n",
      "    self._target(*self._args, **self._kwargs)\n",
      "  File \"/global/homes/j/jinqian/.conda/envs/dtcs-3.11/lib/python3.11/site-packages/distributed/process.py\", line 202, in _run\n",
      "    target(*args, **kwargs)\n",
      "  File \"/global/homes/j/jinqian/.conda/envs/dtcs-3.11/lib/python3.11/site-packages/distributed/nanny.py\", line 1019, in _run\n",
      "    asyncio_run(run(), loop_factory=get_loop_factory())\n",
      "  File \"/global/homes/j/jinqian/.conda/envs/dtcs-3.11/lib/python3.11/site-packages/distributed/compatibility.py\", line 204, in asyncio_run\n",
      "    return runner.run(main)\n",
      "           ^^^^^^^^^^^^^^^^\n",
      "  File \"/global/homes/j/jinqian/.conda/envs/dtcs-3.11/lib/python3.11/asyncio/runners.py\", line 123, in run\n",
      "    raise KeyboardInterrupt()\n",
      "KeyboardInterrupt\n",
      "Traceback (most recent call last):\n",
      "Traceback (most recent call last):\n",
      "Traceback (most recent call last):\n",
      "Traceback (most recent call last):\n",
      "  File \"/global/homes/j/jinqian/.conda/envs/dtcs-3.11/lib/python3.11/asyncio/runners.py\", line 118, in run\n",
      "    return self._loop.run_until_complete(task)\n",
      "           ^^^^^^^^^^^^^^^^^^^^^^^^^^^^^^^^^^^\n",
      "  File \"/global/homes/j/jinqian/.conda/envs/dtcs-3.11/lib/python3.11/asyncio/base_events.py\", line 654, in run_until_complete\n",
      "    return future.result()\n",
      "           ^^^^^^^^^^^^^^^\n",
      "  File \"/global/homes/j/jinqian/.conda/envs/dtcs-3.11/lib/python3.11/site-packages/distributed/nanny.py\", line 981, in run\n",
      "    await worker.finished()\n",
      "  File \"/global/homes/j/jinqian/.conda/envs/dtcs-3.11/lib/python3.11/asyncio/runners.py\", line 118, in run\n",
      "    return self._loop.run_until_complete(task)\n",
      "           ^^^^^^^^^^^^^^^^^^^^^^^^^^^^^^^^^^^\n",
      "  File \"/global/homes/j/jinqian/.conda/envs/dtcs-3.11/lib/python3.11/site-packages/distributed/core.py\", line 630, in finished\n",
      "    await self._event_finished.wait()\n",
      "  File \"/global/homes/j/jinqian/.conda/envs/dtcs-3.11/lib/python3.11/asyncio/base_events.py\", line 654, in run_until_complete\n",
      "    return future.result()\n",
      "           ^^^^^^^^^^^^^^^\n",
      "  File \"/global/homes/j/jinqian/.conda/envs/dtcs-3.11/lib/python3.11/asyncio/locks.py\", line 213, in wait\n",
      "    await fut\n",
      "  File \"/global/homes/j/jinqian/.conda/envs/dtcs-3.11/lib/python3.11/site-packages/distributed/nanny.py\", line 981, in run\n",
      "    await worker.finished()\n",
      "  File \"/global/homes/j/jinqian/.conda/envs/dtcs-3.11/lib/python3.11/site-packages/distributed/core.py\", line 630, in finished\n",
      "    await self._event_finished.wait()\n",
      "  File \"/global/homes/j/jinqian/.conda/envs/dtcs-3.11/lib/python3.11/asyncio/locks.py\", line 213, in wait\n",
      "    await fut\n",
      "asyncio.exceptions.CancelledError\n",
      "asyncio.exceptions.CancelledError\n",
      "  File \"/global/homes/j/jinqian/.conda/envs/dtcs-3.11/lib/python3.11/asyncio/runners.py\", line 118, in run\n",
      "    return self._loop.run_until_complete(task)\n",
      "           ^^^^^^^^^^^^^^^^^^^^^^^^^^^^^^^^^^^\n",
      "  File \"/global/homes/j/jinqian/.conda/envs/dtcs-3.11/lib/python3.11/asyncio/base_events.py\", line 654, in run_until_complete\n",
      "    return future.result()\n",
      "           ^^^^^^^^^^^^^^^\n",
      "  File \"/global/homes/j/jinqian/.conda/envs/dtcs-3.11/lib/python3.11/site-packages/distributed/nanny.py\", line 981, in run\n",
      "    await worker.finished()\n",
      "  File \"/global/homes/j/jinqian/.conda/envs/dtcs-3.11/lib/python3.11/site-packages/distributed/core.py\", line 630, in finished\n",
      "    await self._event_finished.wait()\n",
      "  File \"/global/homes/j/jinqian/.conda/envs/dtcs-3.11/lib/python3.11/asyncio/locks.py\", line 213, in wait\n",
      "    await fut\n",
      "asyncio.exceptions.CancelledError\n",
      "\n",
      "During handling of the above exception, another exception occurred:\n",
      "\n",
      "\n",
      "During handling of the above exception, another exception occurred:\n",
      "\n",
      "Traceback (most recent call last):\n",
      "Traceback (most recent call last):\n",
      "\n",
      "During handling of the above exception, another exception occurred:\n",
      "\n",
      "Traceback (most recent call last):\n",
      "Traceback (most recent call last):\n",
      "  File \"/global/homes/j/jinqian/.conda/envs/dtcs-3.11/lib/python3.11/asyncio/runners.py\", line 118, in run\n",
      "    return self._loop.run_until_complete(task)\n",
      "           ^^^^^^^^^^^^^^^^^^^^^^^^^^^^^^^^^^^\n",
      "  File \"/global/homes/j/jinqian/.conda/envs/dtcs-3.11/lib/python3.11/asyncio/base_events.py\", line 654, in run_until_complete\n",
      "    return future.result()\n",
      "           ^^^^^^^^^^^^^^^\n",
      "  File \"/global/homes/j/jinqian/.conda/envs/dtcs-3.11/lib/python3.11/site-packages/distributed/nanny.py\", line 981, in run\n",
      "    await worker.finished()\n",
      "  File \"/global/homes/j/jinqian/.conda/envs/dtcs-3.11/lib/python3.11/site-packages/distributed/core.py\", line 630, in finished\n",
      "    await self._event_finished.wait()\n",
      "  File \"/global/homes/j/jinqian/.conda/envs/dtcs-3.11/lib/python3.11/asyncio/locks.py\", line 213, in wait\n",
      "    await fut\n",
      "asyncio.exceptions.CancelledError\n",
      "  File \"/global/homes/j/jinqian/.conda/envs/dtcs-3.11/lib/python3.11/multiprocessing/process.py\", line 314, in _bootstrap\n",
      "    self.run()\n",
      "\n",
      "During handling of the above exception, another exception occurred:\n",
      "\n",
      "  File \"/global/homes/j/jinqian/.conda/envs/dtcs-3.11/lib/python3.11/multiprocessing/process.py\", line 314, in _bootstrap\n",
      "    self.run()\n",
      "  File \"/global/homes/j/jinqian/.conda/envs/dtcs-3.11/lib/python3.11/multiprocessing/process.py\", line 108, in run\n",
      "    self._target(*self._args, **self._kwargs)\n",
      "  File \"/global/homes/j/jinqian/.conda/envs/dtcs-3.11/lib/python3.11/multiprocessing/process.py\", line 314, in _bootstrap\n",
      "    self.run()\n",
      "Traceback (most recent call last):\n",
      "  File \"/global/homes/j/jinqian/.conda/envs/dtcs-3.11/lib/python3.11/multiprocessing/process.py\", line 108, in run\n",
      "    self._target(*self._args, **self._kwargs)\n",
      "  File \"/global/homes/j/jinqian/.conda/envs/dtcs-3.11/lib/python3.11/site-packages/distributed/process.py\", line 202, in _run\n",
      "    target(*args, **kwargs)\n",
      "  File \"/global/homes/j/jinqian/.conda/envs/dtcs-3.11/lib/python3.11/multiprocessing/process.py\", line 108, in run\n",
      "    self._target(*self._args, **self._kwargs)\n",
      "  File \"/global/homes/j/jinqian/.conda/envs/dtcs-3.11/lib/python3.11/site-packages/distributed/process.py\", line 202, in _run\n",
      "    target(*args, **kwargs)\n",
      "  File \"/global/homes/j/jinqian/.conda/envs/dtcs-3.11/lib/python3.11/site-packages/distributed/nanny.py\", line 1019, in _run\n",
      "    asyncio_run(run(), loop_factory=get_loop_factory())\n",
      "  File \"/global/homes/j/jinqian/.conda/envs/dtcs-3.11/lib/python3.11/site-packages/distributed/process.py\", line 202, in _run\n",
      "    target(*args, **kwargs)\n",
      "  File \"/global/homes/j/jinqian/.conda/envs/dtcs-3.11/lib/python3.11/site-packages/distributed/nanny.py\", line 1019, in _run\n",
      "    asyncio_run(run(), loop_factory=get_loop_factory())\n",
      "  File \"/global/homes/j/jinqian/.conda/envs/dtcs-3.11/lib/python3.11/site-packages/distributed/compatibility.py\", line 204, in asyncio_run\n",
      "    return runner.run(main)\n",
      "           ^^^^^^^^^^^^^^^^\n",
      "  File \"/global/homes/j/jinqian/.conda/envs/dtcs-3.11/lib/python3.11/site-packages/distributed/nanny.py\", line 1019, in _run\n",
      "    asyncio_run(run(), loop_factory=get_loop_factory())\n",
      "  File \"/global/homes/j/jinqian/.conda/envs/dtcs-3.11/lib/python3.11/asyncio/runners.py\", line 118, in run\n",
      "    return self._loop.run_until_complete(task)\n",
      "           ^^^^^^^^^^^^^^^^^^^^^^^^^^^^^^^^^^^\n",
      "  File \"/global/homes/j/jinqian/.conda/envs/dtcs-3.11/lib/python3.11/site-packages/distributed/compatibility.py\", line 204, in asyncio_run\n",
      "    return runner.run(main)\n",
      "           ^^^^^^^^^^^^^^^^\n",
      "  File \"/global/homes/j/jinqian/.conda/envs/dtcs-3.11/lib/python3.11/asyncio/runners.py\", line 123, in run\n",
      "    raise KeyboardInterrupt()\n",
      "  File \"/global/homes/j/jinqian/.conda/envs/dtcs-3.11/lib/python3.11/site-packages/distributed/compatibility.py\", line 204, in asyncio_run\n",
      "    return runner.run(main)\n",
      "           ^^^^^^^^^^^^^^^^\n",
      "  File \"/global/homes/j/jinqian/.conda/envs/dtcs-3.11/lib/python3.11/asyncio/runners.py\", line 123, in run\n",
      "    raise KeyboardInterrupt()\n",
      "  File \"/global/homes/j/jinqian/.conda/envs/dtcs-3.11/lib/python3.11/asyncio/base_events.py\", line 654, in run_until_complete\n",
      "    return future.result()\n",
      "           ^^^^^^^^^^^^^^^\n",
      "  File \"/global/homes/j/jinqian/.conda/envs/dtcs-3.11/lib/python3.11/asyncio/runners.py\", line 123, in run\n",
      "    raise KeyboardInterrupt()\n",
      "KeyboardInterrupt\n",
      "  File \"/global/homes/j/jinqian/.conda/envs/dtcs-3.11/lib/python3.11/site-packages/distributed/nanny.py\", line 981, in run\n",
      "    await worker.finished()\n",
      "KeyboardInterrupt\n",
      "KeyboardInterrupt\n",
      "  File \"/global/homes/j/jinqian/.conda/envs/dtcs-3.11/lib/python3.11/site-packages/distributed/core.py\", line 630, in finished\n",
      "    await self._event_finished.wait()\n",
      "  File \"/global/homes/j/jinqian/.conda/envs/dtcs-3.11/lib/python3.11/asyncio/locks.py\", line 213, in wait\n",
      "    await fut\n",
      "asyncio.exceptions.CancelledError\n",
      "\n",
      "During handling of the above exception, another exception occurred:\n",
      "\n",
      "Traceback (most recent call last):\n",
      "  File \"/global/homes/j/jinqian/.conda/envs/dtcs-3.11/lib/python3.11/multiprocessing/process.py\", line 314, in _bootstrap\n",
      "    self.run()\n",
      "  File \"/global/homes/j/jinqian/.conda/envs/dtcs-3.11/lib/python3.11/multiprocessing/process.py\", line 108, in run\n",
      "    self._target(*self._args, **self._kwargs)\n",
      "  File \"/global/homes/j/jinqian/.conda/envs/dtcs-3.11/lib/python3.11/site-packages/distributed/process.py\", line 202, in _run\n",
      "    target(*args, **kwargs)\n",
      "  File \"/global/homes/j/jinqian/.conda/envs/dtcs-3.11/lib/python3.11/site-packages/distributed/nanny.py\", line 1019, in _run\n",
      "    asyncio_run(run(), loop_factory=get_loop_factory())\n",
      "  File \"/global/homes/j/jinqian/.conda/envs/dtcs-3.11/lib/python3.11/site-packages/distributed/compatibility.py\", line 204, in asyncio_run\n",
      "    return runner.run(main)\n",
      "           ^^^^^^^^^^^^^^^^\n",
      "  File \"/global/homes/j/jinqian/.conda/envs/dtcs-3.11/lib/python3.11/asyncio/runners.py\", line 123, in run\n",
      "    raise KeyboardInterrupt()\n",
      "Traceback (most recent call last):\n",
      "KeyboardInterrupt\n",
      "  File \"/global/homes/j/jinqian/.conda/envs/dtcs-3.11/lib/python3.11/multiprocessing/process.py\", line 314, in _bootstrap\n",
      "    self.run()\n",
      "  File \"/global/homes/j/jinqian/.conda/envs/dtcs-3.11/lib/python3.11/multiprocessing/process.py\", line 108, in run\n",
      "    self._target(*self._args, **self._kwargs)\n",
      "  File \"/global/homes/j/jinqian/.conda/envs/dtcs-3.11/lib/python3.11/site-packages/distributed/process.py\", line 202, in _run\n",
      "    target(*args, **kwargs)\n",
      "  File \"/global/homes/j/jinqian/.conda/envs/dtcs-3.11/lib/python3.11/site-packages/distributed/nanny.py\", line 1019, in _run\n",
      "    asyncio_run(run(), loop_factory=get_loop_factory())\n",
      "  File \"/global/homes/j/jinqian/.conda/envs/dtcs-3.11/lib/python3.11/site-packages/distributed/compatibility.py\", line 204, in asyncio_run\n",
      "    return runner.run(main)\n",
      "           ^^^^^^^^^^^^^^^^\n",
      "  File \"/global/homes/j/jinqian/.conda/envs/dtcs-3.11/lib/python3.11/asyncio/runners.py\", line 123, in run\n",
      "    raise KeyboardInterrupt()\n",
      "KeyboardInterrupt\n",
      "  File \"/global/homes/j/jinqian/.conda/envs/dtcs-3.11/lib/python3.11/asyncio/runners.py\", line 118, in run\n",
      "    return self._loop.run_until_complete(task)\n",
      "           ^^^^^^^^^^^^^^^^^^^^^^^^^^^^^^^^^^^\n",
      "  File \"/global/homes/j/jinqian/.conda/envs/dtcs-3.11/lib/python3.11/asyncio/base_events.py\", line 654, in run_until_complete\n",
      "    return future.result()\n",
      "           ^^^^^^^^^^^^^^^\n",
      "  File \"/global/homes/j/jinqian/.conda/envs/dtcs-3.11/lib/python3.11/site-packages/distributed/nanny.py\", line 981, in run\n",
      "    await worker.finished()\n",
      "  File \"/global/homes/j/jinqian/.conda/envs/dtcs-3.11/lib/python3.11/site-packages/distributed/core.py\", line 630, in finished\n",
      "    await self._event_finished.wait()\n",
      "  File \"/global/homes/j/jinqian/.conda/envs/dtcs-3.11/lib/python3.11/asyncio/locks.py\", line 213, in wait\n",
      "    await fut\n",
      "asyncio.exceptions.CancelledError\n",
      "\n",
      "During handling of the above exception, another exception occurred:\n",
      "\n",
      "Traceback (most recent call last):\n",
      "Traceback (most recent call last):\n",
      "Traceback (most recent call last):\n",
      "Traceback (most recent call last):\n",
      "  File \"/global/homes/j/jinqian/.conda/envs/dtcs-3.11/lib/python3.11/multiprocessing/process.py\", line 314, in _bootstrap\n",
      "    self.run()\n",
      "Traceback (most recent call last):\n",
      "  File \"/global/homes/j/jinqian/.conda/envs/dtcs-3.11/lib/python3.11/multiprocessing/process.py\", line 108, in run\n",
      "    self._target(*self._args, **self._kwargs)\n",
      "  File \"/global/homes/j/jinqian/.conda/envs/dtcs-3.11/lib/python3.11/site-packages/distributed/process.py\", line 202, in _run\n",
      "    target(*args, **kwargs)\n",
      "  File \"/global/homes/j/jinqian/.conda/envs/dtcs-3.11/lib/python3.11/site-packages/distributed/nanny.py\", line 1019, in _run\n",
      "    asyncio_run(run(), loop_factory=get_loop_factory())\n",
      "  File \"/global/homes/j/jinqian/.conda/envs/dtcs-3.11/lib/python3.11/site-packages/distributed/compatibility.py\", line 204, in asyncio_run\n",
      "    return runner.run(main)\n",
      "           ^^^^^^^^^^^^^^^^\n",
      "  File \"/global/homes/j/jinqian/.conda/envs/dtcs-3.11/lib/python3.11/asyncio/runners.py\", line 123, in run\n",
      "    raise KeyboardInterrupt()\n",
      "  File \"/global/homes/j/jinqian/.conda/envs/dtcs-3.11/lib/python3.11/asyncio/runners.py\", line 118, in run\n",
      "    return self._loop.run_until_complete(task)\n",
      "           ^^^^^^^^^^^^^^^^^^^^^^^^^^^^^^^^^^^\n",
      "KeyboardInterrupt\n",
      "  File \"/global/homes/j/jinqian/.conda/envs/dtcs-3.11/lib/python3.11/asyncio/base_events.py\", line 654, in run_until_complete\n",
      "    return future.result()\n",
      "           ^^^^^^^^^^^^^^^\n",
      "  File \"/global/homes/j/jinqian/.conda/envs/dtcs-3.11/lib/python3.11/site-packages/distributed/nanny.py\", line 981, in run\n",
      "    await worker.finished()\n",
      "  File \"/global/homes/j/jinqian/.conda/envs/dtcs-3.11/lib/python3.11/site-packages/distributed/core.py\", line 630, in finished\n",
      "    await self._event_finished.wait()\n",
      "  File \"/global/homes/j/jinqian/.conda/envs/dtcs-3.11/lib/python3.11/asyncio/locks.py\", line 213, in wait\n",
      "    await fut\n",
      "asyncio.exceptions.CancelledError\n",
      "  File \"/global/homes/j/jinqian/.conda/envs/dtcs-3.11/lib/python3.11/asyncio/runners.py\", line 118, in run\n",
      "    return self._loop.run_until_complete(task)\n",
      "           ^^^^^^^^^^^^^^^^^^^^^^^^^^^^^^^^^^^\n",
      "  File \"/global/homes/j/jinqian/.conda/envs/dtcs-3.11/lib/python3.11/asyncio/base_events.py\", line 654, in run_until_complete\n",
      "    return future.result()\n",
      "           ^^^^^^^^^^^^^^^\n",
      "  File \"/global/homes/j/jinqian/.conda/envs/dtcs-3.11/lib/python3.11/site-packages/distributed/nanny.py\", line 981, in run\n",
      "    await worker.finished()\n",
      "  File \"/global/homes/j/jinqian/.conda/envs/dtcs-3.11/lib/python3.11/asyncio/runners.py\", line 118, in run\n",
      "    return self._loop.run_until_complete(task)\n",
      "           ^^^^^^^^^^^^^^^^^^^^^^^^^^^^^^^^^^^\n",
      "  File \"/global/homes/j/jinqian/.conda/envs/dtcs-3.11/lib/python3.11/site-packages/distributed/core.py\", line 630, in finished\n",
      "    await self._event_finished.wait()\n",
      "  File \"/global/homes/j/jinqian/.conda/envs/dtcs-3.11/lib/python3.11/asyncio/locks.py\", line 213, in wait\n",
      "    await fut\n",
      "  File \"/global/homes/j/jinqian/.conda/envs/dtcs-3.11/lib/python3.11/asyncio/base_events.py\", line 654, in run_until_complete\n",
      "    return future.result()\n",
      "           ^^^^^^^^^^^^^^^\n",
      "  File \"/global/homes/j/jinqian/.conda/envs/dtcs-3.11/lib/python3.11/site-packages/distributed/nanny.py\", line 981, in run\n",
      "    await worker.finished()\n",
      "  File \"/global/homes/j/jinqian/.conda/envs/dtcs-3.11/lib/python3.11/site-packages/distributed/core.py\", line 630, in finished\n",
      "    await self._event_finished.wait()\n",
      "  File \"/global/homes/j/jinqian/.conda/envs/dtcs-3.11/lib/python3.11/asyncio/locks.py\", line 213, in wait\n",
      "    await fut\n",
      "asyncio.exceptions.CancelledError\n",
      "asyncio.exceptions.CancelledError\n",
      "\n",
      "During handling of the above exception, another exception occurred:\n",
      "\n",
      "Traceback (most recent call last):\n",
      "  File \"/global/homes/j/jinqian/.conda/envs/dtcs-3.11/lib/python3.11/asyncio/runners.py\", line 118, in run\n",
      "    return self._loop.run_until_complete(task)\n",
      "           ^^^^^^^^^^^^^^^^^^^^^^^^^^^^^^^^^^^\n",
      "  File \"/global/homes/j/jinqian/.conda/envs/dtcs-3.11/lib/python3.11/asyncio/base_events.py\", line 654, in run_until_complete\n",
      "    return future.result()\n",
      "           ^^^^^^^^^^^^^^^\n",
      "  File \"/global/homes/j/jinqian/.conda/envs/dtcs-3.11/lib/python3.11/site-packages/distributed/nanny.py\", line 981, in run\n",
      "    await worker.finished()\n",
      "  File \"/global/homes/j/jinqian/.conda/envs/dtcs-3.11/lib/python3.11/site-packages/distributed/core.py\", line 630, in finished\n",
      "    await self._event_finished.wait()\n",
      "  File \"/global/homes/j/jinqian/.conda/envs/dtcs-3.11/lib/python3.11/asyncio/locks.py\", line 213, in wait\n",
      "    await fut\n",
      "\n",
      "During handling of the above exception, another exception occurred:\n",
      "\n",
      "asyncio.exceptions.CancelledError\n",
      "Traceback (most recent call last):\n",
      "\n",
      "During handling of the above exception, another exception occurred:\n",
      "\n",
      "Traceback (most recent call last):\n",
      "  File \"/global/homes/j/jinqian/.conda/envs/dtcs-3.11/lib/python3.11/multiprocessing/process.py\", line 314, in _bootstrap\n",
      "    self.run()\n",
      "  File \"/global/homes/j/jinqian/.conda/envs/dtcs-3.11/lib/python3.11/multiprocessing/process.py\", line 108, in run\n",
      "    self._target(*self._args, **self._kwargs)\n",
      "  File \"/global/homes/j/jinqian/.conda/envs/dtcs-3.11/lib/python3.11/site-packages/distributed/process.py\", line 202, in _run\n",
      "    target(*args, **kwargs)\n",
      "  File \"/global/homes/j/jinqian/.conda/envs/dtcs-3.11/lib/python3.11/site-packages/distributed/nanny.py\", line 1019, in _run\n",
      "    asyncio_run(run(), loop_factory=get_loop_factory())\n",
      "  File \"/global/homes/j/jinqian/.conda/envs/dtcs-3.11/lib/python3.11/site-packages/distributed/compatibility.py\", line 204, in asyncio_run\n",
      "    return runner.run(main)\n",
      "           ^^^^^^^^^^^^^^^^\n",
      "\n",
      "During handling of the above exception, another exception occurred:\n",
      "\n",
      "  File \"/global/homes/j/jinqian/.conda/envs/dtcs-3.11/lib/python3.11/asyncio/runners.py\", line 123, in run\n",
      "    raise KeyboardInterrupt()\n",
      "Traceback (most recent call last):\n",
      "KeyboardInterrupt\n",
      "Traceback (most recent call last):\n",
      "  File \"/global/homes/j/jinqian/.conda/envs/dtcs-3.11/lib/python3.11/multiprocessing/process.py\", line 314, in _bootstrap\n",
      "    self.run()\n",
      "  File \"/global/homes/j/jinqian/.conda/envs/dtcs-3.11/lib/python3.11/multiprocessing/process.py\", line 108, in run\n",
      "    self._target(*self._args, **self._kwargs)\n",
      "  File \"/global/homes/j/jinqian/.conda/envs/dtcs-3.11/lib/python3.11/multiprocessing/process.py\", line 314, in _bootstrap\n",
      "    self.run()\n",
      "  File \"/global/homes/j/jinqian/.conda/envs/dtcs-3.11/lib/python3.11/site-packages/distributed/process.py\", line 202, in _run\n",
      "    target(*args, **kwargs)\n",
      "  File \"/global/homes/j/jinqian/.conda/envs/dtcs-3.11/lib/python3.11/multiprocessing/process.py\", line 108, in run\n",
      "    self._target(*self._args, **self._kwargs)\n",
      "  File \"/global/homes/j/jinqian/.conda/envs/dtcs-3.11/lib/python3.11/site-packages/distributed/nanny.py\", line 1019, in _run\n",
      "    asyncio_run(run(), loop_factory=get_loop_factory())\n",
      "  File \"/global/homes/j/jinqian/.conda/envs/dtcs-3.11/lib/python3.11/site-packages/distributed/process.py\", line 202, in _run\n",
      "    target(*args, **kwargs)\n",
      "  File \"/global/homes/j/jinqian/.conda/envs/dtcs-3.11/lib/python3.11/site-packages/distributed/compatibility.py\", line 204, in asyncio_run\n",
      "    return runner.run(main)\n",
      "           ^^^^^^^^^^^^^^^^\n",
      "  File \"/global/homes/j/jinqian/.conda/envs/dtcs-3.11/lib/python3.11/site-packages/distributed/nanny.py\", line 1019, in _run\n",
      "    asyncio_run(run(), loop_factory=get_loop_factory())\n",
      "  File \"/global/homes/j/jinqian/.conda/envs/dtcs-3.11/lib/python3.11/asyncio/runners.py\", line 123, in run\n",
      "    raise KeyboardInterrupt()\n",
      "  File \"/global/homes/j/jinqian/.conda/envs/dtcs-3.11/lib/python3.11/site-packages/distributed/compatibility.py\", line 204, in asyncio_run\n",
      "    return runner.run(main)\n",
      "           ^^^^^^^^^^^^^^^^\n",
      "  File \"/global/homes/j/jinqian/.conda/envs/dtcs-3.11/lib/python3.11/asyncio/runners.py\", line 123, in run\n",
      "    raise KeyboardInterrupt()\n",
      "KeyboardInterrupt\n",
      "KeyboardInterrupt\n",
      "  File \"/global/homes/j/jinqian/.conda/envs/dtcs-3.11/lib/python3.11/multiprocessing/process.py\", line 314, in _bootstrap\n",
      "    self.run()\n",
      "  File \"/global/homes/j/jinqian/.conda/envs/dtcs-3.11/lib/python3.11/multiprocessing/process.py\", line 108, in run\n",
      "    self._target(*self._args, **self._kwargs)\n",
      "  File \"/global/homes/j/jinqian/.conda/envs/dtcs-3.11/lib/python3.11/site-packages/distributed/process.py\", line 202, in _run\n",
      "    target(*args, **kwargs)\n",
      "  File \"/global/homes/j/jinqian/.conda/envs/dtcs-3.11/lib/python3.11/site-packages/distributed/nanny.py\", line 1019, in _run\n",
      "    asyncio_run(run(), loop_factory=get_loop_factory())\n",
      "  File \"/global/homes/j/jinqian/.conda/envs/dtcs-3.11/lib/python3.11/site-packages/distributed/compatibility.py\", line 204, in asyncio_run\n",
      "    return runner.run(main)\n",
      "           ^^^^^^^^^^^^^^^^\n",
      "Traceback (most recent call last):\n",
      "  File \"/global/homes/j/jinqian/.conda/envs/dtcs-3.11/lib/python3.11/asyncio/runners.py\", line 123, in run\n",
      "    raise KeyboardInterrupt()\n",
      "KeyboardInterrupt\n",
      "  File \"/global/homes/j/jinqian/.conda/envs/dtcs-3.11/lib/python3.11/asyncio/runners.py\", line 118, in run\n",
      "    return self._loop.run_until_complete(task)\n",
      "           ^^^^^^^^^^^^^^^^^^^^^^^^^^^^^^^^^^^\n",
      "  File \"/global/homes/j/jinqian/.conda/envs/dtcs-3.11/lib/python3.11/asyncio/base_events.py\", line 654, in run_until_complete\n",
      "    return future.result()\n",
      "           ^^^^^^^^^^^^^^^\n",
      "  File \"/global/homes/j/jinqian/.conda/envs/dtcs-3.11/lib/python3.11/site-packages/distributed/nanny.py\", line 981, in run\n",
      "    await worker.finished()\n",
      "  File \"/global/homes/j/jinqian/.conda/envs/dtcs-3.11/lib/python3.11/site-packages/distributed/core.py\", line 630, in finished\n",
      "    await self._event_finished.wait()\n",
      "  File \"/global/homes/j/jinqian/.conda/envs/dtcs-3.11/lib/python3.11/asyncio/locks.py\", line 213, in wait\n",
      "    await fut\n",
      "asyncio.exceptions.CancelledError\n",
      "\n",
      "During handling of the above exception, another exception occurred:\n",
      "\n",
      "Traceback (most recent call last):\n",
      "  File \"/global/homes/j/jinqian/.conda/envs/dtcs-3.11/lib/python3.11/asyncio/runners.py\", line 118, in run\n",
      "    return self._loop.run_until_complete(task)\n",
      "           ^^^^^^^^^^^^^^^^^^^^^^^^^^^^^^^^^^^\n",
      "  File \"/global/homes/j/jinqian/.conda/envs/dtcs-3.11/lib/python3.11/asyncio/base_events.py\", line 654, in run_until_complete\n",
      "    return future.result()\n",
      "           ^^^^^^^^^^^^^^^\n",
      "  File \"/global/homes/j/jinqian/.conda/envs/dtcs-3.11/lib/python3.11/site-packages/distributed/nanny.py\", line 981, in run\n",
      "    await worker.finished()\n",
      "  File \"/global/homes/j/jinqian/.conda/envs/dtcs-3.11/lib/python3.11/site-packages/distributed/core.py\", line 630, in finished\n",
      "    await self._event_finished.wait()\n",
      "  File \"/global/homes/j/jinqian/.conda/envs/dtcs-3.11/lib/python3.11/asyncio/locks.py\", line 213, in wait\n",
      "    await fut\n",
      "asyncio.exceptions.CancelledError\n",
      "  File \"/global/homes/j/jinqian/.conda/envs/dtcs-3.11/lib/python3.11/multiprocessing/process.py\", line 314, in _bootstrap\n",
      "    self.run()\n",
      "  File \"/global/homes/j/jinqian/.conda/envs/dtcs-3.11/lib/python3.11/multiprocessing/process.py\", line 108, in run\n",
      "    self._target(*self._args, **self._kwargs)\n",
      "  File \"/global/homes/j/jinqian/.conda/envs/dtcs-3.11/lib/python3.11/site-packages/distributed/process.py\", line 202, in _run\n",
      "    target(*args, **kwargs)\n",
      "  File \"/global/homes/j/jinqian/.conda/envs/dtcs-3.11/lib/python3.11/site-packages/distributed/nanny.py\", line 1019, in _run\n",
      "    asyncio_run(run(), loop_factory=get_loop_factory())\n",
      "  File \"/global/homes/j/jinqian/.conda/envs/dtcs-3.11/lib/python3.11/site-packages/distributed/compatibility.py\", line 204, in asyncio_run\n",
      "    return runner.run(main)\n",
      "           ^^^^^^^^^^^^^^^^\n",
      "  File \"/global/homes/j/jinqian/.conda/envs/dtcs-3.11/lib/python3.11/asyncio/runners.py\", line 123, in run\n",
      "    raise KeyboardInterrupt()\n",
      "KeyboardInterrupt\n",
      "\n",
      "During handling of the above exception, another exception occurred:\n",
      "\n",
      "Traceback (most recent call last):\n",
      "  File \"/global/homes/j/jinqian/.conda/envs/dtcs-3.11/lib/python3.11/multiprocessing/process.py\", line 314, in _bootstrap\n",
      "    self.run()\n",
      "  File \"/global/homes/j/jinqian/.conda/envs/dtcs-3.11/lib/python3.11/multiprocessing/process.py\", line 108, in run\n",
      "    self._target(*self._args, **self._kwargs)\n",
      "  File \"/global/homes/j/jinqian/.conda/envs/dtcs-3.11/lib/python3.11/site-packages/distributed/process.py\", line 202, in _run\n",
      "    target(*args, **kwargs)\n",
      "  File \"/global/homes/j/jinqian/.conda/envs/dtcs-3.11/lib/python3.11/site-packages/distributed/nanny.py\", line 1019, in _run\n",
      "    asyncio_run(run(), loop_factory=get_loop_factory())\n",
      "  File \"/global/homes/j/jinqian/.conda/envs/dtcs-3.11/lib/python3.11/site-packages/distributed/compatibility.py\", line 204, in asyncio_run\n",
      "    return runner.run(main)\n",
      "           ^^^^^^^^^^^^^^^^\n",
      "  File \"/global/homes/j/jinqian/.conda/envs/dtcs-3.11/lib/python3.11/asyncio/runners.py\", line 123, in run\n",
      "    raise KeyboardInterrupt()\n",
      "KeyboardInterrupt\n"
     ]
    }
   ],
   "source": [
    "#Autonomous experimentation\n",
    "\n",
    "from gpcam.autonomous_experimenter import AutonomousExperimenterGP\n",
    "\n",
    "hpbounds = [[0.01, 1e5]] + [[0.001, 5000], ] * 7\n",
    "\n",
    "exp = AutonomousExperimenterGP(\n",
    "    parameter_bounds=np.array([(-1 , 1)] * 7),\n",
    "    instrument_func=inst_func,\n",
    "    hyperparameters=np.ones(8),\n",
    "    hyperparameter_bounds=hpbounds,\n",
    "    acq_func='covariance',\n",
    "    x=[(0, ) * 7],\n",
    ")\n",
    "\n",
    "exp.train()\n",
    "exp.go(\n",
    "    N=1000,\n",
    "    acq_func_opt_setting=lambda _: 'global'\n",
    ")"
   ]
  },
  {
   "cell_type": "code",
   "execution_count": null,
   "id": "d6cf6cf0-0719-402d-95a6-b281d4772040",
   "metadata": {},
   "outputs": [],
   "source": []
  }
 ],
 "metadata": {
  "kernelspec": {
   "display_name": "DTCS 3.11",
   "language": "python",
   "name": "dtcs-3.11"
  },
  "language_info": {
   "codemirror_mode": {
    "name": "ipython",
    "version": 3
   },
   "file_extension": ".py",
   "mimetype": "text/x-python",
   "name": "python",
   "nbconvert_exporter": "python",
   "pygments_lexer": "ipython3",
   "version": "3.11.9"
  }
 },
 "nbformat": 4,
 "nbformat_minor": 5
}
