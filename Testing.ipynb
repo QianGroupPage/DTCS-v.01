{
 "cells": [
  {
   "cell_type": "markdown",
   "metadata": {},
   "source": [
    "### Examples & Tests"
   ]
  },
  {
   "cell_type": "code",
   "execution_count": 10,
   "metadata": {},
   "outputs": [],
   "source": [
    "from crn_sym import *\n",
    "from solution import *\n",
    "from species import *\n",
    "import matplotlib.pyplot as plt"
   ]
  },
  {
   "cell_type": "code",
   "execution_count": 11,
   "metadata": {},
   "outputs": [],
   "source": [
    "sm = SpeciesManager()\n",
    "\n",
    "x1 = sm.sp('X #1', Orbital('1s', 544), 0, {0: 10})\n",
    "x2 = sm.sp('X #2', Orbital('1s', 532), 0, {0: 5})\n",
    "\n",
    "rsys = RxnSystem(\n",
    "    Rxn(x1 + x2, 2 * x2, 1.5),\n",
    "    Rxn(x1, 2 * x1, 1),\n",
    "    Rxn(x2, 1, 1),\n",
    "    \n",
    "    ConcEq(x1, 2),\n",
    "    ConcEq(x2, 1),\n",
    "    sm\n",
    ")\n",
    "\n",
    "tmax = 45"
   ]
  },
  {
   "cell_type": "code",
   "execution_count": 12,
   "metadata": {},
   "outputs": [
    {
     "name": "stdout",
     "output_type": "stream",
     "text": [
      "[(0, [5, 10])]\n"
     ]
    },
    {
     "data": {
      "text/plain": [
       "{'t': array([0., 0.]),\n",
       " 'states': {},\n",
       " 'substances': {X #2: Species(name=X #2, orbitals=[Orbital(name=1s, binding_energy=532)]),\n",
       "  X #1: Species(name=X #1, orbitals=[Orbital(name=1s, binding_energy=544)])}}"
      ]
     },
     "execution_count": 12,
     "metadata": {},
     "output_type": "execute_result"
    }
   ],
   "source": [
    "solution = solve(rsys, time=tmax)\n",
    "\n",
    "solution.plot_gaussian()\n",
    "\n",
    "solution.__dict__"
   ]
  },
  {
   "cell_type": "code",
   "execution_count": null,
   "metadata": {},
   "outputs": [],
   "source": []
  },
  {
   "cell_type": "code",
   "execution_count": null,
   "metadata": {},
   "outputs": [],
   "source": []
  }
 ],
 "metadata": {
  "kernelspec": {
   "display_name": "Python 3",
   "language": "python",
   "name": "python3"
  },
  "language_info": {
   "codemirror_mode": {
    "name": "ipython",
    "version": 3
   },
   "file_extension": ".py",
   "mimetype": "text/x-python",
   "name": "python",
   "nbconvert_exporter": "python",
   "pygments_lexer": "ipython3",
   "version": "3.7.0"
  }
 },
 "nbformat": 4,
 "nbformat_minor": 2
}
