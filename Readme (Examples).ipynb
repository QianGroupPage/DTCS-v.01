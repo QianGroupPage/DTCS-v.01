{
 "cells": [
  {
   "cell_type": "markdown",
   "metadata": {},
   "source": [
    "# CRNSim (Unified Version) Examples"
   ]
  },
  {
   "cell_type": "code",
   "execution_count": 3,
   "metadata": {},
   "outputs": [],
   "source": [
    "from crn_sym import *\n",
    "from solution import *\n",
    "from species import *"
   ]
  },
  {
   "cell_type": "markdown",
   "metadata": {},
   "source": [
    "### Stuff to think about\n",
    "- Should we make unit tests?"
   ]
  },
  {
   "cell_type": "code",
   "execution_count": 4,
   "metadata": {},
   "outputs": [],
   "source": [
    "sm = SpeciesManager()\n",
    "\n",
    "x1 = sm.sp('X #1', Orbital('1s', 544))\n",
    "x2 = sm.sp('X #2', Orbital('1s', 532))"
   ]
  },
  {
   "cell_type": "code",
   "execution_count": 8,
   "metadata": {},
   "outputs": [
    {
     "name": "stdout",
     "output_type": "stream",
     "text": [
      "[(0, [0, 0])]\n"
     ]
    }
   ],
   "source": [
    "rsys = RxnSystem(\n",
    "    Rxn(x1 + x2, 2 * x2, 1.5),\n",
    "    Rxn(x1, 2 * x1, 1),\n",
    "    Rxn(x2, 1, 1),\n",
    "    \n",
    "    Conc(x1, 2),\n",
    "    Conc(x2, 1),\n",
    "    sm\n",
    ")\n",
    "\n",
    "solution = solve(rsys, time=45)"
   ]
  },
  {
   "cell_type": "code",
   "execution_count": 10,
   "metadata": {},
   "outputs": [],
   "source": [
    "solution.final_state()\n",
    "solution.basic_plot()\n",
    "solution.plot_gaussian()"
   ]
  },
  {
   "cell_type": "code",
   "execution_count": null,
   "metadata": {},
   "outputs": [],
   "source": []
  }
 ],
 "metadata": {
  "kernelspec": {
   "display_name": "Python 3",
   "language": "python",
   "name": "python3"
  },
  "language_info": {
   "codemirror_mode": {
    "name": "ipython",
    "version": 3
   },
   "file_extension": ".py",
   "mimetype": "text/x-python",
   "name": "python",
   "nbconvert_exporter": "python",
   "pygments_lexer": "ipython3",
   "version": "3.7.4"
  }
 },
 "nbformat": 4,
 "nbformat_minor": 2
}
