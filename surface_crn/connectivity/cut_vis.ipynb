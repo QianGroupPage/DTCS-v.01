{
 "cells": [
  {
   "cell_type": "code",
   "execution_count": 68,
   "metadata": {},
   "outputs": [],
   "source": [
    "from ase.visualize import view\n",
    "import ase\n",
    "from ase.build import fcc111, bcc111\n",
    "import numpy as np\n",
    "import cv2"
   ]
  },
  {
   "cell_type": "code",
   "execution_count": 205,
   "metadata": {},
   "outputs": [
    {
     "name": "stdout",
     "output_type": "stream",
     "text": [
      "Atoms(symbols='Al320', pbc=[True, True, False], cell=[[22.91025971044414, 0.0, 0.0], [11.45512985522207, 19.84086691654374, 0.0], [0.0, 0.0, 0.0]], tags=...)\n"
     ]
    }
   ],
   "source": [
    "slabA = fcc111('Al', size=(8,8,5))\n",
    "slabB = bcc111('Fe', size=(8,8,5))\n",
    "print(slabA)\n",
    "\n",
    "view(slabA)\n",
    "view(slabB)"
   ]
  },
  {
   "cell_type": "code",
   "execution_count": 212,
   "metadata": {},
   "outputs": [
    {
     "name": "stdout",
     "output_type": "stream",
     "text": [
      "atoms (512, 3)\n",
      "[1 1 1] [0.57735027 0.57735027 0.57735027]\n",
      "dists (512,)\n",
      "maxd 1.0\n"
     ]
    },
    {
     "data": {
      "text/plain": [
       "array([[0.5, 1.5, 0.5, 1.5, 0.5, 1.5, 0.5, 1.5],\n",
       "       [1.5, 0.5, 1.5, 0.5, 1.5, 0.5, 1.5, 0.5],\n",
       "       [0.5, 1.5, 0.5, 1.5, 0.5, 1.5, 0.5, 1.5],\n",
       "       [1.5, 0.5, 1.5, 0.5, 1.5, 0.5, 1.5, 0.5],\n",
       "       [0.5, 1.5, 0.5, 1.5, 0.5, 1.5, 0.5, 1.5],\n",
       "       [1.5, 0.5, 1.5, 0.5, 1.5, 0.5, 1.5, 0.5],\n",
       "       [0.5, 1.5, 0.5, 1.5, 0.5, 1.5, 0.5, 1.5],\n",
       "       [1.5, 0.5, 1.5, 0.5, 1.5, 0.5, 1.5, 0.5]])"
      ]
     },
     "execution_count": 212,
     "metadata": {},
     "output_type": "execute_result"
    }
   ],
   "source": [
    "xlen, ylen, zlen = 8,8,8\n",
    "unit = np.array([1,1,1])\n",
    "\n",
    "\n",
    "\n",
    "atoms = np.zeros((xlen * ylen * zlen, 3))\n",
    "\n",
    "for x in range(xlen):\n",
    "    for y in range(ylen):\n",
    "        for z in range(zlen):\n",
    "            i = x + y*xlen + z*xlen*ylen\n",
    "            atoms[i] = [x, y, z]\n",
    "print('atoms', atoms.shape)\n",
    "\n",
    "unit_norm = unit / np.linalg.norm(unit)\n",
    "print(unit, unit_norm)\n",
    "\n",
    "dists = atoms @ unit \n",
    "dists -= np.sum(dists) / xlen/ylen/zlen\n",
    "print('dists', dists.shape)\n",
    "projs = atoms - np.outer(dists, unit_norm)\n",
    "\n",
    "ordered_dists = np.sort(dists)\n",
    "maxd = np.max(np.abs(ordered_dists[:-1] - ordered_dists[1:]))\n",
    "print('maxd', maxd)\n",
    "\n",
    "# print(dists)\n",
    "mod_dists = dists % (maxd*2)\n",
    "pruned_dists = []\n",
    "pruned_projs = []\n",
    "pruned_atoms = []\n",
    "def pcopy(i, proj):\n",
    "    for pruned_proj in pruned_projs:\n",
    "        if np.sum(np.abs(proj - pruned_proj)) < 0.0001:\n",
    "            return\n",
    "    pruned_dists.append(mod_dists[i])\n",
    "    pruned_projs.append(proj)\n",
    "    pruned_atoms.append(atoms[i])\n",
    "\n",
    "for i, p in enumerate(projs):\n",
    "    pcopy(i, p)\n",
    "\n",
    "pruned_dists = np.array(pruned_dists)\n",
    "pruned_projs = np.array(pruned_projs)\n",
    "pruned_atoms = np.array(pruned_atoms, dtype=int)\n",
    "\n",
    "\n",
    "grid = np.zeros((np.max(pruned_atoms[:, 0])+1, np.max(pruned_atoms[:, 1])+1))\n",
    "for i, a in enumerate(pruned_atoms):\n",
    "    x, y, _ = a.astype(int)\n",
    "    img[x, y] = pruned_dists[i]"
   ]
  },
  {
   "cell_type": "code",
   "execution_count": 215,
   "metadata": {},
   "outputs": [],
   "source": [
    "img = np.zeros((400, 400, 3))\n",
    "cv2.imshow('img', img)"
   ]
  },
  {
   "cell_type": "code",
   "execution_count": 209,
   "metadata": {},
   "outputs": [
    {
     "name": "stdout",
     "output_type": "stream",
     "text": [
      "(3, 3) (3, 512)\n"
     ]
    }
   ],
   "source": [
    "a = np.array([[x, x, x] for x in range(3)])\n",
    "print(a.shape, atoms.T.shape)\n",
    "view(ase.Atoms('N3', positions=atoms[:3].T))\n",
    "view(ase.Atoms('N3', positions=a))\n"
   ]
  },
  {
   "cell_type": "code",
   "execution_count": null,
   "metadata": {},
   "outputs": [],
   "source": []
  },
  {
   "cell_type": "code",
   "execution_count": null,
   "metadata": {},
   "outputs": [],
   "source": []
  }
 ],
 "metadata": {
  "kernelspec": {
   "display_name": "Python 3",
   "language": "python",
   "name": "python3"
  },
  "language_info": {
   "codemirror_mode": {
    "name": "ipython",
    "version": 3
   },
   "file_extension": ".py",
   "mimetype": "text/x-python",
   "name": "python",
   "nbconvert_exporter": "python",
   "pygments_lexer": "ipython3",
   "version": "3.6.9"
  }
 },
 "nbformat": 4,
 "nbformat_minor": 4
}
