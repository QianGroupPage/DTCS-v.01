{
 "cells": [
  {
   "cell_type": "code",
   "execution_count": 19,
   "metadata": {},
   "outputs": [],
   "source": [
    "from ase.visualize import view\n",
    "import ase\n",
    "from ase.build import fcc111, bcc111\n",
    "import numpy as np\n",
    "import cv2\n",
    "\n",
    "import matplotlib as mpl\n",
    "import matplotlib.pyplot as plt\n",
    "from matplotlib import cm"
   ]
  },
  {
   "cell_type": "code",
   "execution_count": 15,
   "metadata": {},
   "outputs": [
    {
     "name": "stdout",
     "output_type": "stream",
     "text": [
      "Atoms(symbols='Al18', pbc=[True, True, False], cell=[[8.591347391416553, 0.0, 0.0], [4.295673695708277, 7.440325093703902, 0.0], [0.0, 0.0, 0.0]], tags=...)\n"
     ]
    }
   ],
   "source": [
    "slabA = fcc111('Al', size=(3,3,2))\n",
    "slabB = bcc111('Fe', size=(3,3,2))\n",
    "print(slabA)\n",
    "\n",
    "view(slabA)\n",
    "view(slabB)"
   ]
  },
  {
   "cell_type": "code",
   "execution_count": 17,
   "metadata": {},
   "outputs": [
    {
     "ename": "AttributeError",
     "evalue": "'Atoms' object has no attribute 'sites'",
     "output_type": "error",
     "traceback": [
      "\u001b[0;31m---------------------------------------------------------------------------\u001b[0m",
      "\u001b[0;31mAttributeError\u001b[0m                            Traceback (most recent call last)",
      "\u001b[0;32m<ipython-input-17-b1dcc116981c>\u001b[0m in \u001b[0;36m<module>\u001b[0;34m\u001b[0m\n\u001b[0;32m----> 1\u001b[0;31m \u001b[0mslabA\u001b[0m\u001b[0;34m.\u001b[0m\u001b[0msites\u001b[0m\u001b[0;34m\u001b[0m\u001b[0;34m\u001b[0m\u001b[0m\n\u001b[0m",
      "\u001b[0;31mAttributeError\u001b[0m: 'Atoms' object has no attribute 'sites'"
     ]
    }
   ],
   "source": [
    "slabA.sites"
   ]
  },
  {
   "cell_type": "code",
   "execution_count": 14,
   "metadata": {},
   "outputs": [
    {
     "data": {
      "text/plain": [
       "array([[-1.08788763e-18,  2.34334519e+00,  0.00000000e+00],\n",
       "       [ 4.05879292e+00,  2.34334519e+00,  0.00000000e+00],\n",
       "       [ 8.11758585e+00,  2.34334519e+00,  0.00000000e+00],\n",
       "       [ 2.02939646e+00,  5.85836297e+00,  0.00000000e+00],\n",
       "       [ 6.08818939e+00,  5.85836297e+00,  0.00000000e+00],\n",
       "       [ 1.01469823e+01,  5.85836297e+00,  0.00000000e+00],\n",
       "       [ 4.05879292e+00,  9.37338075e+00,  0.00000000e+00],\n",
       "       [ 8.11758585e+00,  9.37338075e+00,  0.00000000e+00],\n",
       "       [ 1.21763788e+01,  9.37338075e+00,  0.00000000e+00],\n",
       "       [ 0.00000000e+00,  0.00000000e+00,  8.28497636e-01],\n",
       "       [ 4.05879292e+00,  0.00000000e+00,  8.28497636e-01],\n",
       "       [ 8.11758585e+00,  0.00000000e+00,  8.28497636e-01],\n",
       "       [ 2.02939646e+00,  3.51501778e+00,  8.28497636e-01],\n",
       "       [ 6.08818939e+00,  3.51501778e+00,  8.28497636e-01],\n",
       "       [ 1.01469823e+01,  3.51501778e+00,  8.28497636e-01],\n",
       "       [ 4.05879292e+00,  7.03003556e+00,  8.28497636e-01],\n",
       "       [ 8.11758585e+00,  7.03003556e+00,  8.28497636e-01],\n",
       "       [ 1.21763788e+01,  7.03003556e+00,  8.28497636e-01]])"
      ]
     },
     "execution_count": 14,
     "metadata": {},
     "output_type": "execute_result"
    }
   ],
   "source": [
    "slabB.get_positions()"
   ]
  },
  {
   "cell_type": "code",
   "execution_count": 30,
   "metadata": {},
   "outputs": [
    {
     "data": {
      "image/png": "[encoded data removed]",
      "text/plain": [
       "<Figure size 432x288 with 1 Axes>"
      ]
     },
     "metadata": {
      "needs_background": "light"
     },
     "output_type": "display_data"
    },
    {
     "data": {
      "text/plain": [
       "(1.0, 0.1158089393383511, 0.0, 1.0)"
      ]
     },
     "execution_count": 30,
     "metadata": {},
     "output_type": "execute_result"
    }
   ],
   "source": [
    "gradient = np.linspace(0, 1, 256)\n",
    "gradient = np.vstack((gradient, gradient))\n",
    "\n",
    "\n",
    "plt.imshow(gradient, aspect='auto', cmap=plt.get_cmap('hsv'))\n",
    "\n",
    "plt.show()\n",
    "plt.get_cmap('hsv')(5)"
   ]
  },
  {
   "cell_type": "code",
   "execution_count": 212,
   "metadata": {},
   "outputs": [
    {
     "name": "stdout",
     "output_type": "stream",
     "text": [
      "atoms (512, 3)\n",
      "[1 1 1] [0.57735027 0.57735027 0.57735027]\n",
      "dists (512,)\n",
      "maxd 1.0\n"
     ]
    },
    {
     "data": {
      "text/plain": [
       "array([[0.5, 1.5, 0.5, 1.5, 0.5, 1.5, 0.5, 1.5],\n",
       "       [1.5, 0.5, 1.5, 0.5, 1.5, 0.5, 1.5, 0.5],\n",
       "       [0.5, 1.5, 0.5, 1.5, 0.5, 1.5, 0.5, 1.5],\n",
       "       [1.5, 0.5, 1.5, 0.5, 1.5, 0.5, 1.5, 0.5],\n",
       "       [0.5, 1.5, 0.5, 1.5, 0.5, 1.5, 0.5, 1.5],\n",
       "       [1.5, 0.5, 1.5, 0.5, 1.5, 0.5, 1.5, 0.5],\n",
       "       [0.5, 1.5, 0.5, 1.5, 0.5, 1.5, 0.5, 1.5],\n",
       "       [1.5, 0.5, 1.5, 0.5, 1.5, 0.5, 1.5, 0.5]])"
      ]
     },
     "execution_count": 212,
     "metadata": {},
     "output_type": "execute_result"
    }
   ],
   "source": [
    "xlen, ylen, zlen = 8,8,8\n",
    "unit = np.array([1,1,1])\n",
    "\n",
    "\n",
    "\n",
    "atoms = np.zeros((xlen * ylen * zlen, 3))\n",
    "\n",
    "for x in range(xlen):\n",
    "    for y in range(ylen):\n",
    "        for z in range(zlen):\n",
    "            i = x + y*xlen + z*xlen*ylen\n",
    "            atoms[i] = [x, y, z]\n",
    "print('atoms', atoms.shape)\n",
    "\n",
    "unit_norm = unit / np.linalg.norm(unit)\n",
    "print(unit, unit_norm)\n",
    "\n",
    "dists = atoms @ unit \n",
    "dists -= np.sum(dists) / xlen/ylen/zlen\n",
    "print('dists', dists.shape)\n",
    "projs = atoms - np.outer(dists, unit_norm)\n",
    "\n",
    "ordered_dists = np.sort(dists)\n",
    "maxd = np.max(np.abs(ordered_dists[:-1] - ordered_dists[1:]))\n",
    "print('maxd', maxd)\n",
    "\n",
    "# print(dists)\n",
    "mod_dists = dists % (maxd*2)\n",
    "pruned_dists = []\n",
    "pruned_projs = []\n",
    "pruned_atoms = []\n",
    "def pcopy(i, proj):\n",
    "    for pruned_proj in pruned_projs:\n",
    "        if np.sum(np.abs(proj - pruned_proj)) < 0.0001:\n",
    "            return\n",
    "    pruned_dists.append(mod_dists[i])\n",
    "    pruned_projs.append(proj)\n",
    "    pruned_atoms.append(atoms[i])\n",
    "\n",
    "for i, p in enumerate(projs):\n",
    "    pcopy(i, p)\n",
    "\n",
    "pruned_dists = np.array(pruned_dists)\n",
    "pruned_projs = np.array(pruned_projs)\n",
    "pruned_atoms = np.array(pruned_atoms, dtype=int)\n",
    "\n",
    "\n",
    "grid = np.zeros((np.max(pruned_atoms[:, 0])+1, np.max(pruned_atoms[:, 1])+1))\n",
    "for i, a in enumerate(pruned_atoms):\n",
    "    x, y, _ = a.astype(int)\n",
    "    img[x, y] = pruned_dists[i]"
   ]
  },
  {
   "cell_type": "code",
   "execution_count": 215,
   "metadata": {},
   "outputs": [],
   "source": [
    "img = np.zeros((400, 400, 3))\n",
    "cv2.imshow('img', img)"
   ]
  },
  {
   "cell_type": "code",
   "execution_count": 209,
   "metadata": {},
   "outputs": [
    {
     "name": "stdout",
     "output_type": "stream",
     "text": [
      "(3, 3) (3, 512)\n"
     ]
    }
   ],
   "source": [
    "a = np.array([[x, x, x] for x in range(3)])\n",
    "print(a.shape, atoms.T.shape)\n",
    "view(ase.Atoms('N3', positions=atoms[:3].T))\n",
    "view(ase.Atoms('N3', positions=a))\n"
   ]
  },
  {
   "cell_type": "code",
   "execution_count": null,
   "metadata": {},
   "outputs": [],
   "source": []
  },
  {
   "cell_type": "code",
   "execution_count": null,
   "metadata": {},
   "outputs": [],
   "source": []
  }
 ],
 "metadata": {
  "kernelspec": {
   "display_name": "Python 3",
   "language": "python",
   "name": "python3"
  },
  "language_info": {
   "codemirror_mode": {
    "name": "ipython",
    "version": 3
   },
   "file_extension": ".py",
   "mimetype": "text/x-python",
   "name": "python",
   "nbconvert_exporter": "python",
   "pygments_lexer": "ipython3",
   "version": "3.6.9"
  }
 },
 "nbformat": 4,
 "nbformat_minor": 4
}
