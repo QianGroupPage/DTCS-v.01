{
 "cells": [
  {
   "cell_type": "code",
   "execution_count": 1,
   "metadata": {},
   "outputs": [],
   "source": [
    "from lblcrn.homogenous_crn.solution import *\n",
    "from lblcrn.homogenous_crn.sym import *\n",
    "from lblcrn.homogenous_crn.xps import *\n",
    "import matplotlib.pyplot as plt"
   ]
  },
  {
   "cell_type": "code",
   "execution_count": 2,
   "metadata": {},
   "outputs": [],
   "source": [
    "sm = SpeciesManager()\n",
    "\n",
    "#[535.0 , 532.2 , 530.9 , 530.0 , 531.6 ,  531.6 ,  533.2, 535.0]\n",
    "#[y1, x2, x3, x4, x53, x54, x6, x7]\n",
    "nhg3 = sm.sp('nhg3', Orbital('1s', 535.0), {0:100})\n",
    "nh3 = sm.sp('nh3', Orbital('1s', 532.2), {0:0})\n",
    "nh2 = sm.sp('nh2', Orbital('1s', 530.9), {0:0})\n",
    "n1 = sm.sp('n1', Orbital('1s', 530.0), {0:0})\n",
    "h1 = sm.sp('h1', Orbital('1s', 531.6), {0:0})\n",
    "nh1 = sm.sp('nh1', Orbital('1s', 531.6), {0:0})\n",
    "n2 = sm.sp('n2', Orbital('1s', 533.2), {0:0})\n",
    "h2 = sm.sp('h2', Orbital('1s', 535.0), {0:0})\n",
    "\n",
    "rsys = RxnSystem(\n",
    "    RevRxn(nhg3, nh3, 2.19e3, 1.01e8),\n",
    "    RevRxn(nh3, nh2 + h1, 1.12e7, 2.46e6),\n",
    "    RevRxn(nh2, nh1 + h1, 8.87e11, 1.38e9),\n",
    "    RevRxn(nh1, n1 + h1, 5.53e6, 8.29e6),\n",
    "    RevRxn(n1 + n1, n2, 4.42e5, 2.17),\n",
    "    RevRxn(h1 + h1, h2, 2.51e6, 2.17),\n",
    "    sm\n",
    ")"
   ]
  },
  {
   "cell_type": "code",
   "execution_count": null,
   "metadata": {},
   "outputs": [],
   "source": [
    "s = solve(rsys, time=0.02)"
   ]
  },
  {
   "cell_type": "code",
   "execution_count": null,
   "metadata": {},
   "outputs": [],
   "source": []
  }
 ],
 "metadata": {
  "kernelspec": {
   "display_name": "Python 3",
   "language": "python",
   "name": "python3"
  },
  "language_info": {
   "codemirror_mode": {
    "name": "ipython",
    "version": 3
   },
   "file_extension": ".py",
   "mimetype": "text/x-python",
   "name": "python",
   "nbconvert_exporter": "python",
   "pygments_lexer": "ipython3",
   "version": "3.8.0"
  }
 },
 "nbformat": 4,
 "nbformat_minor": 2
}
