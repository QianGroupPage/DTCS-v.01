{
  "cells": [
    {
      "cell_type": "code",
      "execution_count": null,
      "metadata": {
        "collapsed": false
      },
      "outputs": [],
      "source": [
        "%matplotlib inline"
      ]
    },
    {
      "cell_type": "markdown",
      "metadata": {},
      "source": [
        "\nPredator Prey Bulk CRN Time Series\n"
      ]
    },
    {
      "cell_type": "code",
      "execution_count": null,
      "metadata": {
        "collapsed": false
      },
      "outputs": [],
      "source": [
        "from lblcrn.crn_sym import *\nfrom lblcrn.experiments.simulate import simulate\nfrom lblcrn.experiments.xps_io import read_exp\n\nsm = SpeciesManager()\nx1 = sm.sp('x')\nx2 = sm.sp('y')\n\nrsys = RxnSystem(\n    Rxn(x1 + x2, 2 * x2, 1.5),\n    Rxn(x1, 2 * x1, 1),\n    Rxn(x2, None, 1),\n    Conc(x1, 2),\n    Conc(x2, 1),\n    sm\n)\n\n_, ts = simulate(rsys, time=40, max_step=1e-2)\nts.plot()"
      ]
    }
  ],
  "metadata": {
    "kernelspec": {
      "display_name": "Python 3",
      "language": "python",
      "name": "python3"
    },
    "language_info": {
      "codemirror_mode": {
        "name": "ipython",
        "version": 3
      },
      "file_extension": ".py",
      "mimetype": "text/x-python",
      "name": "python",
      "nbconvert_exporter": "python",
      "pygments_lexer": "ipython3",
      "version": "3.8.0"
    }
  },
  "nbformat": 4,
  "nbformat_minor": 0
}