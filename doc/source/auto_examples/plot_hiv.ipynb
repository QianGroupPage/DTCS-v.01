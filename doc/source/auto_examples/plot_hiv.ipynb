{
  "cells": [
    {
      "cell_type": "code",
      "execution_count": null,
      "metadata": {
        "collapsed": false
      },
      "outputs": [],
      "source": [
        "%matplotlib inline"
      ]
    },
    {
      "cell_type": "markdown",
      "metadata": {},
      "source": [
        "\nHIV Bulk CRN Time Series\n"
      ]
    },
    {
      "cell_type": "code",
      "execution_count": null,
      "metadata": {
        "collapsed": false
      },
      "outputs": [],
      "source": [
        "from lblcrn.crn_sym import *\nfrom lblcrn.experiments.simulate import simulate\nfrom lblcrn.experiments.xps_io import read_exp\n\nsm = SpeciesManager()\nv = sm.sp('virus')\nh = sm.sp('healthy')\ninf = sm.sp('infected')\n\nrsys = RxnSystem(\n    sm,\n    Rxn(h + v, inf , 2e-7), \n    Rxn(inf, None, 0.5),\n    Rxn(h, None, 0.2),\n    Rxn(v, None, 5),\n    Rxn(None, h, 1e5),\n    Rxn(inf, v + inf, 100),\n    \n    Conc(h, 1000000),\n    Conc(v, 100),\n)\n\nxps, ts = simulate(rsys, 45, max_step=0.01)\n\nts.plot()\n\nimport matplotlib.pyplot as plt\n\nplt.yscale(\"log\")\nplt.xlim(0,40)"
      ]
    }
  ],
  "metadata": {
    "kernelspec": {
      "display_name": "Python 3",
      "language": "python",
      "name": "python3"
    },
    "language_info": {
      "codemirror_mode": {
        "name": "ipython",
        "version": 3
      },
      "file_extension": ".py",
      "mimetype": "text/x-python",
      "name": "python",
      "nbconvert_exporter": "python",
      "pygments_lexer": "ipython3",
      "version": "3.8.0"
    }
  },
  "nbformat": 4,
  "nbformat_minor": 0
}