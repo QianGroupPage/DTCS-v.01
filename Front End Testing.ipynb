{
 "cells": [
  {
   "cell_type": "code",
   "execution_count": 4,
   "metadata": {},
   "outputs": [],
   "source": [
    "from crn_sym import *\n",
    "\n",
    "import sympy as sym"
   ]
  },
  {
   "cell_type": "code",
   "execution_count": 5,
   "metadata": {},
   "outputs": [
    {
     "data": {
      "text/latex": [
       "$\\displaystyle t$"
      ],
      "text/plain": [
       "t"
      ]
     },
     "execution_count": 5,
     "metadata": {},
     "output_type": "execute_result"
    }
   ],
   "source": [
    "# Testing species\n",
    "x, y, z, v, w = species(\"x y z v w\")\n",
    "\n",
    "# Testing time\n",
    "T"
   ]
  },
  {
   "cell_type": "code",
   "execution_count": 6,
   "metadata": {},
   "outputs": [
    {
     "name": "stdout",
     "output_type": "stream",
     "text": [
      "term: [v]' = ... + 1\n",
      "[w] = t*x\n",
      "[v]' = t**2*x \n",
      "\n",
      "Term(species=v, expression=1)\n",
      "ConcEq(species=w, expression=t*x)\n",
      "ConcDiffEq(species=v, expression=t**2*x) \n",
      "\n",
      "{v}\n",
      "{w, x}\n",
      "{v, x}\n"
     ]
    }
   ],
   "source": [
    "# Testing Term, ConcEq, ConcDiffEq\n",
    "\n",
    "t = Term(v, 1)\n",
    "ce = ConcEq(w, T * x)\n",
    "cde = ConcDiffEq(v, T**2 * x)\n",
    "\n",
    "print(t)\n",
    "print(ce)\n",
    "print(cde, '\\n')\n",
    "\n",
    "print(repr(t))\n",
    "print(repr(ce))\n",
    "print(repr(cde), '\\n')\n",
    "\n",
    "print(t.get_species())\n",
    "print(ce.get_species())\n",
    "print(cde.get_species())"
   ]
  },
  {
   "cell_type": "code",
   "execution_count": 7,
   "metadata": {},
   "outputs": [
    {
     "name": "stdout",
     "output_type": "stream",
     "text": [
      "x + y + z → 2*z @ k=0.125\n",
      "x ↔ 2*y @ k1=400.3, k2=0.00023 \n",
      "\n",
      "Rxn(reactants=x + y + z, products=2*z, k=0.125)\n",
      "Revrxn(reactants=x, products=2*y, k1=400.3, k2=0.00023) \n",
      "\n",
      "{x, y, z}\n",
      "{x, y} \n",
      "\n",
      "[Term(species=x, expression=-0.125*x*y*z), Term(species=y, expression=-0.125*x*y*z), Term(species=z, expression=0.125*x*y*z)]\n",
      "[Term(species=x, expression=-400.3*x), Term(species=y, expression=800.6*x), Term(species=x, expression=0.00023*y**2), Term(species=y, expression=-0.00046*y**2)] \n",
      "\n",
      "(Rxn(reactants=x, products=2*y, k=400.3), Rxn(reactants=2*y, products=x, k=0.00023))\n"
     ]
    }
   ],
   "source": [
    "# Testing Rxn, RevRxn\n",
    "r = Rxn(x + y + z, 2*z, k=0.125)\n",
    "rr = RevRxn(x, 2*y, k1=400.3, k2=0.00023)\n",
    "\n",
    "print(r)\n",
    "print(rr, '\\n')\n",
    "\n",
    "print(repr(r))\n",
    "print(repr(rr), '\\n')\n",
    "\n",
    "print(r.get_species())\n",
    "print(rr.get_species(), '\\n')\n",
    "\n",
    "print(r.to_terms())\n",
    "print(rr.to_terms(), '\\n')\n",
    "\n",
    "print(rr.to_rxns())"
   ]
  },
  {
   "cell_type": "code",
   "execution_count": 8,
   "metadata": {},
   "outputs": [
    {
     "name": "stdout",
     "output_type": "stream",
     "text": [
      "[x] (@ t=0) = 0.4\n",
      "schedule: [y]:\n",
      "@t = 0 add 4\n",
      "@t = 70 add 10\n",
      "@t = 110 add -2\n",
      "schedule: [z]:\n",
      "@t = 0 add 0\n",
      "@t = 50 add 10\n",
      "@t = 90 add -9 \n",
      "\n",
      "Conc(species=x, concentration=0.4)\n",
      "Schedule(species=y, schedule={0: 4, 70: 10, 110: -2})\n",
      "Schedule(species=z, schedule={50: 10, 90: -9, 0: 0}) \n",
      "\n"
     ]
    }
   ],
   "source": [
    "# Testing Schedule, Conc\n",
    "c = Conc(x, 0.4)\n",
    "s1 = Schedule(y, {0: 4, 70: 10, 110: -2})\n",
    "s2 = Schedule(z, [(50, 10), (40, -9)])\n",
    "\n",
    "print(c)\n",
    "print(s1)\n",
    "print(s2, '\\n')\n",
    "\n",
    "print(repr(c))\n",
    "print(repr(s1))\n",
    "print(repr(s2), '\\n')"
   ]
  },
  {
   "cell_type": "code",
   "execution_count": 9,
   "metadata": {
    "scrolled": true
   },
   "outputs": [
    {
     "name": "stdout",
     "output_type": "stream",
     "text": [
      "rxn system with components:\n",
      "x + y + z → 2*z @ k=0.125\n",
      "0 → z @ k=0.0013\n",
      "x → 0 @ k=0.125\n",
      "x ↔ 2*y @ k1=400.3, k2=0.00023\n",
      "4*v ↔ w @ k1=4.2, k2=0.23809523809523808\n",
      "term: [v]' = ... + 1\n",
      "term: [y]' = ... + -z\n",
      "[x] (@ t=0) = 0.4\n",
      "schedule: [y]:\n",
      "@t = 0 add 4\n",
      "@t = 70 add 10\n",
      "@t = 110 add -2\n",
      "schedule: [z]:\n",
      "@t = 0 add 0\n",
      "@t = 50 add 10\n",
      "@t = 90 add -9\n",
      "[w] = t*x\n",
      "[v]' = t**2*x \n",
      "\n",
      "RxnSystem(components=[Rxn(reactants=x + y + z, products=2*z, k=0.125), Rxn(reactants=0, products=z, k=0.0013), Rxn(reactants=x, products=0, k=0.125), Revrxn(reactants=x, products=2*y, k1=400.3, k2=0.00023), Revrxn(reactants=4*v, products=w, k1=4.2, k2=0.23809523809523808), Term(species=v, expression=1), Term(species=y, expression=-z), Conc(species=x, concentration=0.4), Schedule(species=y, schedule={0: 4, 70: 10, 110: -2}), Schedule(species=z, schedule={50: 10, 90: -9, 0: 0}), ConcEq(species=w, expression=t*x), ConcDiffEq(species=v, expression=t**2*x)]) \n",
      "\n",
      "[t**2*x, -0.125*x*y*z - 400.425*x + 0.00023*y**2, 4.2*v**4 - 0.238095238095238*w, 0.125*x*y*z + 0.0013, -0.125*x*y*z + 800.6*x - 0.00046*y**2 - z] \n",
      "\n",
      "{v: 0, x: 1, w: 2, z: 3, y: 4}\n",
      "[v, x, w, z, y]\n"
     ]
    }
   ],
   "source": [
    "# Testing RxnSystem\n",
    "rxns = RxnSystem(\n",
    "    Rxn(x + y + z, 2*z, k=0.125),\n",
    "    Rxn(0, z, k=0.0013),\n",
    "    Rxn(x, None, 0.125),\n",
    "    RevRxn(x, 2*y, k1=400.3, k2=0.00023),\n",
    "    RevRxn(4*v, w, k1=4.2),\n",
    "\n",
    "    Term(v, 1),\n",
    "    Term(y, -1 * z),\n",
    "\n",
    "    Conc(x, 0.4),\n",
    "    Schedule(y, {0: 4, 70: 10, 110: -2}),\n",
    "    Schedule(z, [(50, 10), (40, -9)]),\n",
    "    ConcEq(w, T * x),\n",
    "    ConcDiffEq(v, T**2 * x)\n",
    ")\n",
    "\n",
    "print(rxns, '\\n')\n",
    "print(repr(rxns), '\\n')\n",
    "print(rxns.get_ode_expressions(), '\\n')\n",
    "print(rxns.species_index)\n",
    "print(rxns.get_species())"
   ]
  },
  {
   "cell_type": "code",
   "execution_count": 11,
   "metadata": {},
   "outputs": [
    {
     "name": "stdout",
     "output_type": "stream",
     "text": [
      "[False, False, False, False, False]\n"
     ]
    },
    {
     "ename": "AttributeError",
     "evalue": "'BooleanFalse' object has no attribute 'lhs'",
     "output_type": "error",
     "traceback": [
      "\u001b[0;31m---------------------------------------------------------------------------\u001b[0m",
      "\u001b[0;31mAttributeError\u001b[0m                            Traceback (most recent call last)",
      "\u001b[0;32m<ipython-input-11-78e2a3b0f024>\u001b[0m in \u001b[0;36m<module>\u001b[0;34m\u001b[0m\n\u001b[1;32m      4\u001b[0m \u001b[0mprint\u001b[0m\u001b[0;34m(\u001b[0m\u001b[0meqs\u001b[0m\u001b[0;34m)\u001b[0m\u001b[0;34m\u001b[0m\u001b[0;34m\u001b[0m\u001b[0m\n\u001b[1;32m      5\u001b[0m \u001b[0;34m\u001b[0m\u001b[0m\n\u001b[0;32m----> 6\u001b[0;31m \u001b[0mprocess_sympy_eqs\u001b[0m\u001b[0;34m(\u001b[0m\u001b[0meqs\u001b[0m\u001b[0;34m)\u001b[0m\u001b[0;34m\u001b[0m\u001b[0;34m\u001b[0m\u001b[0m\n\u001b[0m",
      "\u001b[0;32m~/Desktop/lbl-crn/crn_sym.py\u001b[0m in \u001b[0;36mprocess_sympy_eqs\u001b[0;34m(eqs)\u001b[0m\n\u001b[1;32m    421\u001b[0m \u001b[0;34m\u001b[0m\u001b[0m\n\u001b[1;32m    422\u001b[0m     \u001b[0;32mfor\u001b[0m \u001b[0meq\u001b[0m \u001b[0;32min\u001b[0m \u001b[0meqs\u001b[0m\u001b[0;34m:\u001b[0m\u001b[0;34m\u001b[0m\u001b[0;34m\u001b[0m\u001b[0m\n\u001b[0;32m--> 423\u001b[0;31m         \u001b[0;32mif\u001b[0m \u001b[0mis_function\u001b[0m\u001b[0;34m(\u001b[0m\u001b[0meq\u001b[0m\u001b[0;34m)\u001b[0m\u001b[0;34m:\u001b[0m\u001b[0;34m\u001b[0m\u001b[0;34m\u001b[0m\u001b[0m\n\u001b[0m\u001b[1;32m    424\u001b[0m             \u001b[0;31m# free_symbols in sympy/core/basic returns a set.\u001b[0m\u001b[0;34m\u001b[0m\u001b[0;34m\u001b[0m\u001b[0;34m\u001b[0m\u001b[0m\n\u001b[1;32m    425\u001b[0m             \u001b[0msymbols\u001b[0m \u001b[0;34m=\u001b[0m \u001b[0mlist\u001b[0m\u001b[0;34m(\u001b[0m\u001b[0meq\u001b[0m\u001b[0;34m.\u001b[0m\u001b[0mrhs\u001b[0m\u001b[0;34m.\u001b[0m\u001b[0mfree_symbols\u001b[0m\u001b[0;34m)\u001b[0m\u001b[0;34m\u001b[0m\u001b[0;34m\u001b[0m\u001b[0m\n",
      "\u001b[0;32m~/Desktop/lbl-crn/crn_sym.py\u001b[0m in \u001b[0;36mis_function\u001b[0;34m(eq)\u001b[0m\n\u001b[1;32m    472\u001b[0m \u001b[0;31m###### Criteria for separating Sympy equations. ######\u001b[0m\u001b[0;34m\u001b[0m\u001b[0;34m\u001b[0m\u001b[0;34m\u001b[0m\u001b[0m\n\u001b[1;32m    473\u001b[0m \u001b[0;32mdef\u001b[0m \u001b[0mis_function\u001b[0m\u001b[0;34m(\u001b[0m\u001b[0meq\u001b[0m\u001b[0;34m)\u001b[0m\u001b[0;34m:\u001b[0m\u001b[0;34m\u001b[0m\u001b[0;34m\u001b[0m\u001b[0m\n\u001b[0;32m--> 474\u001b[0;31m     \u001b[0;32mreturn\u001b[0m \u001b[0mexpr_is_one_symbol\u001b[0m\u001b[0;34m(\u001b[0m\u001b[0meq\u001b[0m\u001b[0;34m.\u001b[0m\u001b[0mlhs\u001b[0m\u001b[0;34m)\u001b[0m \u001b[0;32mand\u001b[0m \u001b[0;32mnot\u001b[0m \u001b[0mis_schedule\u001b[0m\u001b[0;34m(\u001b[0m\u001b[0meq\u001b[0m\u001b[0;34m)\u001b[0m\u001b[0;34m\u001b[0m\u001b[0;34m\u001b[0m\u001b[0m\n\u001b[0m\u001b[1;32m    475\u001b[0m \u001b[0;34m\u001b[0m\u001b[0m\n\u001b[1;32m    476\u001b[0m \u001b[0;34m\u001b[0m\u001b[0m\n",
      "\u001b[0;31mAttributeError\u001b[0m: 'BooleanFalse' object has no attribute 'lhs'"
     ]
    }
   ],
   "source": [
    "species = rxns.get_species()\n",
    "odes = rxns.get_ode_expressions()\n",
    "eqs = [sym.Eq(pair) for pair in zip(species, odes)]\n",
    "print(eqs)\n",
    "\n",
    "process_sympy_eqs(eqs)"
   ]
  },
  {
   "cell_type": "code",
   "execution_count": null,
   "metadata": {},
   "outputs": [],
   "source": []
  }
 ],
 "metadata": {
  "kernelspec": {
   "display_name": "Python 3",
   "language": "python",
   "name": "python3"
  },
  "language_info": {
   "codemirror_mode": {
    "name": "ipython",
    "version": 3
   },
   "file_extension": ".py",
   "mimetype": "text/x-python",
   "name": "python",
   "nbconvert_exporter": "python",
   "pygments_lexer": "ipython3",
   "version": "3.7.4"
  }
 },
 "nbformat": 4,
 "nbformat_minor": 2
}
