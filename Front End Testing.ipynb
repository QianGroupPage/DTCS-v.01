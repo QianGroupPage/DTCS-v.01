{
 "cells": [
  {
   "cell_type": "code",
   "execution_count": null,
   "metadata": {},
   "outputs": [],
   "source": [
    "from crn_sym import *\n",
    "\n",
    "import sympy as sym"
   ]
  },
  {
   "cell_type": "code",
   "execution_count": null,
   "metadata": {},
   "outputs": [],
   "source": [
    "# Testing species\n",
    "x, y, z, v, w = species(\"x y z v w\")\n",
    "\n",
    "# Testing time\n",
    "T"
   ]
  },
  {
   "cell_type": "code",
   "execution_count": null,
   "metadata": {},
   "outputs": [],
   "source": [
    "# Testing Term, ConcEq, ConcDiffEq\n",
    "\n",
    "t = Term(v, 1)\n",
    "ce = ConcEq(w, T * x)\n",
    "cde = ConcDiffEq(v, T**2 * x)\n",
    "\n",
    "print(t)\n",
    "print(ce)\n",
    "print(cde, '\\n')\n",
    "\n",
    "print(repr(t))\n",
    "print(repr(ce))\n",
    "print(repr(cde), '\\n')\n",
    "\n",
    "print(t.get_species())\n",
    "print(ce.get_species())\n",
    "print(cde.get_species())"
   ]
  },
  {
   "cell_type": "code",
   "execution_count": null,
   "metadata": {},
   "outputs": [],
   "source": [
    "# Testing Rxn, RevRxn\n",
    "r = Rxn(x + y + z, 2*z, k=0.125)\n",
    "rr = RevRxn(x, 2*y, k1=400.3, k2=0.00023)\n",
    "\n",
    "print(r)\n",
    "print(rr, '\\n')\n",
    "\n",
    "print(repr(r))\n",
    "print(repr(rr), '\\n')\n",
    "\n",
    "print(r.get_species())\n",
    "print(rr.get_species(), '\\n')\n",
    "\n",
    "print(r.to_terms())\n",
    "print(rr.to_terms(), '\\n')\n",
    "\n",
    "print(rr.to_rxns())"
   ]
  },
  {
   "cell_type": "code",
   "execution_count": null,
   "metadata": {},
   "outputs": [],
   "source": [
    "# Testing Schedule, Conc\n",
    "c = Conc(x, 0.4)\n",
    "s1 = Schedule(y, {0: 4, 70: 10, 110: -2})\n",
    "s2 = Schedule(z, [(50, 10), (40, -9)])\n",
    "\n",
    "print(c)\n",
    "print(s1)\n",
    "print(s2, '\\n')\n",
    "\n",
    "print(repr(c))\n",
    "print(repr(s1))\n",
    "print(repr(s2), '\\n')"
   ]
  },
  {
   "cell_type": "code",
   "execution_count": null,
   "metadata": {
    "scrolled": true
   },
   "outputs": [],
   "source": [
    "# Testing RxnSystem\n",
    "rxns = RxnSystem(\n",
    "    Rxn(x + y + z, 2*z, k=0.125),\n",
    "    Rxn(0, z, k=0.0013),\n",
    "    Rxn(x, None, 0.125),\n",
    "    RevRxn(x, 2*y, k1=400.3, k2=0.00023),\n",
    "    RevRxn(4*v, w, k1=4.2),\n",
    "\n",
    "    Term(v, 1),\n",
    "    Term(y, -1 * z),\n",
    "\n",
    "    Conc(x, 0.4),\n",
    "    Schedule(y, {0: 4, 70: 10, 110: -2}),\n",
    "    Schedule(z, [(50, 10), (40, -9)]),\n",
    "    ConcEq(w, T * x),\n",
    "    ConcDiffEq(v, T**2 * x)\n",
    ")\n",
    "\n",
    "print(rxns, '\\n')\n",
    "print(repr(rxns), '\\n')\n",
    "print(rxns.get_ode_expressions(), '\\n')\n",
    "print(rxns.species_index)\n",
    "print(rxns.get_species())"
   ]
  },
  {
   "cell_type": "code",
   "execution_count": null,
   "metadata": {},
   "outputs": [],
   "source": [
    "species = rxns.get_species()\n",
    "odes = rxns.get_ode_expressions()\n",
    "eqs = [sym.Eq(pair[0], pair[1]) for pair in zip(species, odes)]\n",
    "print(eqs)\n",
    "\n",
    "process_sympy_eqs(eqs)"
   ]
  }
 ],
 "metadata": {
  "kernelspec": {
   "display_name": "Python 3",
   "language": "python",
   "name": "python3"
  },
  "language_info": {
   "codemirror_mode": {
    "name": "ipython",
    "version": 3
   },
   "file_extension": ".py",
   "mimetype": "text/x-python",
   "name": "python",
   "nbconvert_exporter": "python",
   "pygments_lexer": "ipython3",
   "version": "3.7.4"
  }
 },
 "nbformat": 4,
 "nbformat_minor": 2
}
