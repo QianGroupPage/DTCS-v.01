{
 "cells": [
  {
   "cell_type": "code",
   "execution_count": 1,
   "metadata": {},
   "outputs": [],
   "source": [
    "%config InlineBackend.figure_format = 'retina'  # Prevent fuzziness for retina/3K screens, comment out on other screen types.\n",
    "\n",
    "from lblcrn.bulk_crn import *\n",
    "from lblcrn.crn_sym import *\n",
    "from lblcrn.experiments.xps_io import *\n",
    "from lblcrn.experiments.solution_system import *\n",
    "from lblcrn.surface_crn import Results\n",
    "import matplotlib.pyplot as plt\n",
    "import pickle\n",
    "import pandas as pd\n",
    "import numpy as np\n",
    "import seaborn as sb\n",
    "import scipy.signal as signal\n",
    "from mpl_toolkits.axes_grid1 import ImageGrid"
   ]
  },
  {
   "cell_type": "code",
   "execution_count": 2,
   "metadata": {},
   "outputs": [],
   "source": [
    "sm = SpeciesManager()\n",
    "\n",
    "h2o_ads = sm.sp(\"H2O*\", Orbital('1s', 532.2), color=\"orange\")\n",
    "h2o_multi = sm.sp(\"H2O_multi\", Orbital('1s', 533.2), size=1, color=\"pink\")\n",
    "h2o_o_hb = sm.sp(\"H2O_O_hb\", Orbital('1s', 531.6), color=\"teal\")\n",
    "h2o_oh_hb = sm.sp(\"H2O_OH_hb\", Orbital('1s', 531.6), color=\"navy\")\n",
    "sm.name_be(\"H2O_hb\", 531.6, color=\"blue\")\n",
    "o_ads = sm.sp(\"O*\", Orbital('1s', 530.0), color=\"red\")\n",
    "oh_ads = sm.sp(\"OH*\", Orbital('1s', 530.9), color=\"magenta\")\n",
    "\n",
    "o2_g = sm.sp(\"O2_gas\", Orbital('1s', 535.0), color=(137, 93, 109))\n",
    "h2o_g = sm.sp(\"H2O_gas\", Orbital('1s', 0), color=\"#008ECC\")\n",
    "\n",
    "def rsys_generator(scaled):\n",
    "    rsys = RxnSystem(\n",
    "        Rxn(o_ads + h2o_g, h2o_o_hb, scaled[0]), # 0\n",
    "        \n",
    "        Rxn(oh_ads + h2o_g, h2o_oh_hb, scaled[1]), # 1\n",
    "        \n",
    "        Rxn(h2o_o_hb, oh_ads + oh_ads, scaled[2]), # 2\n",
    "        \n",
    "        Rxn(oh_ads + oh_ads, h2o_o_hb, scaled[3]), # 3\n",
    "        \n",
    "        Rxn(h2o_oh_hb, h2o_ads + oh_ads, scaled[4]), # 4\n",
    "        \n",
    "        Rxn(h2o_o_hb, h2o_ads + o_ads, scaled[5]), # 5\n",
    "        \n",
    "        Rxn(h2o_ads, h2o_g, scaled[6]), # 6\n",
    "        \n",
    "        Rxn(h2o_g, h2o_ads, scaled[7]), # 7\n",
    "        \n",
    "        Rxn(h2o_oh_hb, h2o_g + oh_ads, scaled[8]), # 8\n",
    "        \n",
    "        Rxn(h2o_o_hb, o_ads + h2o_g, scaled[9]), # 9\n",
    "        \n",
    "        Rxn(h2o_oh_hb + h2o_g, h2o_multi, scaled[10]), # 10\n",
    "        \n",
    "        Rxn(h2o_multi, h2o_oh_hb + h2o_g, scaled[11]), # 11\n",
    "        \n",
    "        Rxn(o_ads + o_ads, o2_g, scaled[12]), # 12\n",
    "        \n",
    "        Rxn(o2_g, o_ads + o_ads, scaled[13]), # 13\n",
    "        \n",
    "        Conc(h2o_g, 1.0),\n",
    "        Conc(o_ads, 0.25),\n",
    "        sm\n",
    "    )\n",
    "    return rsys"
   ]
  },
  {
   "cell_type": "code",
   "execution_count": 3,
   "metadata": {},
   "outputs": [],
   "source": [
    "constants=[1.238045, 0.526204, 6.220646, 0.160755, 0.299507, 0.167130, 0.794455, \n",
    "           0.199022, 0.300480, 0.127713, 0.400796, 0.394500, 0.000960, 76.964514]"
   ]
  },
  {
   "cell_type": "code",
   "execution_count": 4,
   "metadata": {},
   "outputs": [
    {
     "ename": "TypeError",
     "evalue": "simulate_xps_with_cts() got an unexpected keyword argument 'time'",
     "output_type": "error",
     "traceback": [
      "\u001b[0;31m---------------------------------------------------------------------------\u001b[0m",
      "\u001b[0;31mTypeError\u001b[0m                                 Traceback (most recent call last)",
      "\u001b[0;32m<ipython-input-4-60504daaafc9>\u001b[0m in \u001b[0;36m<module>\u001b[0;34m\u001b[0m\n\u001b[1;32m      1\u001b[0m \u001b[0mrsys\u001b[0m \u001b[0;34m=\u001b[0m \u001b[0mrsys_generator\u001b[0m\u001b[0;34m(\u001b[0m\u001b[0mconstants\u001b[0m\u001b[0;34m)\u001b[0m\u001b[0;34m\u001b[0m\u001b[0;34m\u001b[0m\u001b[0m\n\u001b[0;32m----> 2\u001b[0;31m \u001b[0ms\u001b[0m\u001b[0;34m,\u001b[0m \u001b[0mts\u001b[0m \u001b[0;34m=\u001b[0m \u001b[0mxps\u001b[0m\u001b[0;34m.\u001b[0m\u001b[0msimulate_xps_with_cts\u001b[0m\u001b[0;34m(\u001b[0m\u001b[0mrsys\u001b[0m\u001b[0;34m,\u001b[0m \u001b[0mtime\u001b[0m\u001b[0;34m=\u001b[0m\u001b[0;36m20\u001b[0m\u001b[0;34m,\u001b[0m \u001b[0mtitle\u001b[0m\u001b[0;34m=\u001b[0m\u001b[0;34m\"H2O on Ag\"\u001b[0m\u001b[0;34m)\u001b[0m\u001b[0;34m\u001b[0m\u001b[0;34m\u001b[0m\u001b[0m\n\u001b[0m",
      "\u001b[0;31mTypeError\u001b[0m: simulate_xps_with_cts() got an unexpected keyword argument 'time'"
     ]
    }
   ],
   "source": [
    "rsys = rsys_generator(constants)\n",
    "s, ts = xps.simulate_xps_with_cts(rsys, time=20, title=\"H2O on Ag\")"
   ]
  },
  {
   "cell_type": "code",
   "execution_count": null,
   "metadata": {},
   "outputs": [],
   "source": [
    "r = Results(None, rsys, df=ts.df.rename(columns=lambda c: str(c)))"
   ]
  },
  {
   "cell_type": "code",
   "execution_count": 5,
   "metadata": {},
   "outputs": [
    {
     "ename": "NameError",
     "evalue": "name 'r' is not defined",
     "output_type": "error",
     "traceback": [
      "\u001b[0;31m---------------------------------------------------------------------------\u001b[0m",
      "\u001b[0;31mNameError\u001b[0m                                 Traceback (most recent call last)",
      "\u001b[0;32m<ipython-input-5-faa4b8595dbd>\u001b[0m in \u001b[0;36m<module>\u001b[0;34m\u001b[0m\n\u001b[0;32m----> 1\u001b[0;31m \u001b[0mr\u001b[0m\u001b[0;34m.\u001b[0m\u001b[0mplot_evolution\u001b[0m\u001b[0;34m(\u001b[0m\u001b[0mend_time\u001b[0m\u001b[0;34m=\u001b[0m\u001b[0;36m10\u001b[0m\u001b[0;34m,\u001b[0m \u001b[0muse_raw_data\u001b[0m\u001b[0;34m=\u001b[0m\u001b[0;32mTrue\u001b[0m\u001b[0;34m)\u001b[0m\u001b[0;34m\u001b[0m\u001b[0;34m\u001b[0m\u001b[0m\n\u001b[0m\u001b[1;32m      2\u001b[0m \u001b[0max\u001b[0m \u001b[0;34m=\u001b[0m \u001b[0mplt\u001b[0m\u001b[0;34m.\u001b[0m\u001b[0mgca\u001b[0m\u001b[0;34m(\u001b[0m\u001b[0;34m)\u001b[0m\u001b[0;34m\u001b[0m\u001b[0;34m\u001b[0m\u001b[0m\n\u001b[1;32m      3\u001b[0m \u001b[0max\u001b[0m\u001b[0;34m.\u001b[0m\u001b[0mset_ylabel\u001b[0m\u001b[0;34m(\u001b[0m\u001b[0;34m\"Coverage\"\u001b[0m\u001b[0;34m)\u001b[0m\u001b[0;34m\u001b[0m\u001b[0;34m\u001b[0m\u001b[0m\n\u001b[1;32m      4\u001b[0m \u001b[0max\u001b[0m\u001b[0;34m.\u001b[0m\u001b[0mset_title\u001b[0m\u001b[0;34m(\u001b[0m\u001b[0;34m\"Bulk CRN Trajectory till Equilibrium\"\u001b[0m\u001b[0;34m)\u001b[0m\u001b[0;34m\u001b[0m\u001b[0;34m\u001b[0m\u001b[0m\n",
      "\u001b[0;31mNameError\u001b[0m: name 'r' is not defined"
     ]
    }
   ],
   "source": [
    "r.plot_evolution(end_time=10, use_raw_data=True)\n",
    "ax = plt.gca()\n",
    "ax.set_ylabel(\"Coverage\")\n",
    "ax.set_title(\"Bulk CRN Trajectory till Equilibrium\")"
   ]
  },
  {
   "cell_type": "code",
   "execution_count": null,
   "metadata": {},
   "outputs": [],
   "source": []
  }
 ],
 "metadata": {
  "kernelspec": {
   "display_name": "Python 3",
   "language": "python",
   "name": "python3"
  },
  "language_info": {
   "codemirror_mode": {
    "name": "ipython",
    "version": 3
   },
   "file_extension": ".py",
   "mimetype": "text/x-python",
   "name": "python",
   "nbconvert_exporter": "python",
   "pygments_lexer": "ipython3",
   "version": "3.8.0"
  }
 },
 "nbformat": 4,
 "nbformat_minor": 2
}
