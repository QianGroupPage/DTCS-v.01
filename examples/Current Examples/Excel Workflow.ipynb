{
 "cells": [
  {
   "cell_type": "code",
   "execution_count": 1,
   "id": "9c65177c",
   "metadata": {},
   "outputs": [
    {
     "ename": "ModuleNotFoundError",
     "evalue": "No module named 'dash_cytoscape'",
     "output_type": "error",
     "traceback": [
      "\u001b[0;31m---------------------------------------------------------------------------\u001b[0m",
      "\u001b[0;31mModuleNotFoundError\u001b[0m                       Traceback (most recent call last)",
      "\u001b[0;32m<ipython-input-1-db2538f25cac>\u001b[0m in \u001b[0;36m<module>\u001b[0;34m\u001b[0m\n\u001b[1;32m      7\u001b[0m \u001b[0;32mimport\u001b[0m \u001b[0mdatetime\u001b[0m\u001b[0;34m\u001b[0m\u001b[0;34m\u001b[0m\u001b[0m\n\u001b[1;32m      8\u001b[0m \u001b[0;34m\u001b[0m\u001b[0m\n\u001b[0;32m----> 9\u001b[0;31m \u001b[0;32mfrom\u001b[0m \u001b[0mlblcrn\u001b[0m \u001b[0;32mimport\u001b[0m \u001b[0;34m*\u001b[0m\u001b[0;34m\u001b[0m\u001b[0;34m\u001b[0m\u001b[0m\n\u001b[0m",
      "\u001b[0;32m~/Desktop/current_git/lbl-crn/lblcrn/__init__.py\u001b[0m in \u001b[0;36m<module>\u001b[0;34m\u001b[0m\n\u001b[1;32m     32\u001b[0m \u001b[0;32mfrom\u001b[0m \u001b[0mlblcrn\u001b[0m\u001b[0;34m.\u001b[0m\u001b[0mbulk_crn\u001b[0m \u001b[0;32mimport\u001b[0m \u001b[0;34m*\u001b[0m\u001b[0;34m\u001b[0m\u001b[0;34m\u001b[0m\u001b[0m\n\u001b[1;32m     33\u001b[0m \u001b[0;32mfrom\u001b[0m \u001b[0mlblcrn\u001b[0m\u001b[0;34m.\u001b[0m\u001b[0mcommon\u001b[0m \u001b[0;32mimport\u001b[0m \u001b[0;34m*\u001b[0m\u001b[0;34m\u001b[0m\u001b[0;34m\u001b[0m\u001b[0m\n\u001b[0;32m---> 34\u001b[0;31m \u001b[0;32mfrom\u001b[0m \u001b[0mlblcrn\u001b[0m\u001b[0;34m.\u001b[0m\u001b[0mcrn_sym\u001b[0m \u001b[0;32mimport\u001b[0m \u001b[0;34m*\u001b[0m\u001b[0;34m\u001b[0m\u001b[0;34m\u001b[0m\u001b[0m\n\u001b[0m\u001b[1;32m     35\u001b[0m \u001b[0;32mfrom\u001b[0m \u001b[0mlblcrn\u001b[0m\u001b[0;34m.\u001b[0m\u001b[0mexperiments\u001b[0m \u001b[0;32mimport\u001b[0m \u001b[0;34m*\u001b[0m\u001b[0;34m\u001b[0m\u001b[0;34m\u001b[0m\u001b[0m\n\u001b[1;32m     36\u001b[0m \u001b[0;32mfrom\u001b[0m \u001b[0mlblcrn\u001b[0m\u001b[0;34m.\u001b[0m\u001b[0msurface_crn\u001b[0m \u001b[0;32mimport\u001b[0m \u001b[0;34m*\u001b[0m\u001b[0;34m\u001b[0m\u001b[0;34m\u001b[0m\u001b[0m\n",
      "\u001b[0;32m~/Desktop/current_git/lbl-crn/lblcrn/crn_sym/__init__.py\u001b[0m in \u001b[0;36m<module>\u001b[0;34m\u001b[0m\n\u001b[1;32m     16\u001b[0m \u001b[0;32mfrom\u001b[0m \u001b[0mlblcrn\u001b[0m\u001b[0;34m.\u001b[0m\u001b[0mcrn_sym\u001b[0m\u001b[0;34m.\u001b[0m\u001b[0mconditions\u001b[0m \u001b[0;32mimport\u001b[0m \u001b[0;34m*\u001b[0m\u001b[0;34m\u001b[0m\u001b[0;34m\u001b[0m\u001b[0m\n\u001b[1;32m     17\u001b[0m \u001b[0;32mfrom\u001b[0m \u001b[0mlblcrn\u001b[0m\u001b[0;34m.\u001b[0m\u001b[0mcrn_sym\u001b[0m\u001b[0;34m.\u001b[0m\u001b[0mreaction\u001b[0m \u001b[0;32mimport\u001b[0m \u001b[0;34m*\u001b[0m\u001b[0;34m\u001b[0m\u001b[0;34m\u001b[0m\u001b[0m\n\u001b[0;32m---> 18\u001b[0;31m \u001b[0;32mfrom\u001b[0m \u001b[0mlblcrn\u001b[0m\u001b[0;34m.\u001b[0m\u001b[0mcrn_sym\u001b[0m\u001b[0;34m.\u001b[0m\u001b[0mrxn_system\u001b[0m \u001b[0;32mimport\u001b[0m \u001b[0mRxnSystem\u001b[0m\u001b[0;34m\u001b[0m\u001b[0;34m\u001b[0m\u001b[0m\n\u001b[0m\u001b[1;32m     19\u001b[0m \u001b[0;32mfrom\u001b[0m \u001b[0mlblcrn\u001b[0m\u001b[0;34m.\u001b[0m\u001b[0mcrn_sym\u001b[0m\u001b[0;34m.\u001b[0m\u001b[0msurface\u001b[0m \u001b[0;32mimport\u001b[0m \u001b[0mSurface\u001b[0m\u001b[0;34m\u001b[0m\u001b[0;34m\u001b[0m\u001b[0m\n\u001b[1;32m     20\u001b[0m \u001b[0;32mfrom\u001b[0m \u001b[0mlblcrn\u001b[0m\u001b[0;34m.\u001b[0m\u001b[0mcrn_sym\u001b[0m\u001b[0;34m.\u001b[0m\u001b[0msurface_reaction\u001b[0m \u001b[0;32mimport\u001b[0m \u001b[0mSurfaceRxn\u001b[0m\u001b[0;34m,\u001b[0m \u001b[0mSurfaceRevRxn\u001b[0m\u001b[0;34m\u001b[0m\u001b[0;34m\u001b[0m\u001b[0m\n",
      "\u001b[0;32m~/Desktop/current_git/lbl-crn/lblcrn/crn_sym/rxn_system.py\u001b[0m in \u001b[0;36m<module>\u001b[0;34m\u001b[0m\n\u001b[1;32m      9\u001b[0m \u001b[0;34m\u001b[0m\u001b[0m\n\u001b[1;32m     10\u001b[0m \u001b[0;32mfrom\u001b[0m \u001b[0mjupyter_dash\u001b[0m \u001b[0;32mimport\u001b[0m \u001b[0mJupyterDash\u001b[0m\u001b[0;34m\u001b[0m\u001b[0;34m\u001b[0m\u001b[0m\n\u001b[0;32m---> 11\u001b[0;31m \u001b[0;32mimport\u001b[0m \u001b[0mdash_cytoscape\u001b[0m \u001b[0;32mas\u001b[0m \u001b[0mcyto\u001b[0m\u001b[0;34m\u001b[0m\u001b[0;34m\u001b[0m\u001b[0m\n\u001b[0m\u001b[1;32m     12\u001b[0m \u001b[0;32mimport\u001b[0m \u001b[0mdash_html_components\u001b[0m \u001b[0;32mas\u001b[0m \u001b[0mhtml\u001b[0m\u001b[0;34m\u001b[0m\u001b[0;34m\u001b[0m\u001b[0m\n\u001b[1;32m     13\u001b[0m \u001b[0;32mimport\u001b[0m \u001b[0mdash_core_components\u001b[0m \u001b[0;32mas\u001b[0m \u001b[0mdcc\u001b[0m\u001b[0;34m\u001b[0m\u001b[0;34m\u001b[0m\u001b[0m\n",
      "\u001b[0;31mModuleNotFoundError\u001b[0m: No module named 'dash_cytoscape'"
     ]
    }
   ],
   "source": [
    "import os\n",
    "# Make a variable to keep the location of input file.\n",
    "excel_path = \"/Users/ye/Desktop/lbl-crn/excel_rxns/WaterGasShift_v2.xlsx\"\n",
    "# Make a directory to keep all demo figures\n",
    "FIGURES_DIR = \"/Users/ye/Desktop/CRN paper/\"\n",
    "# Prepare to stamp date and time\n",
    "import datetime\n",
    "\n",
    "from lblcrn import *"
   ]
  },
  {
   "cell_type": "code",
   "execution_count": null,
   "id": "bfadee20",
   "metadata": {},
   "outputs": [],
   "source": [
    "rsys, tmax = excel_to_crn(excel_path)"
   ]
  },
  {
   "cell_type": "code",
   "execution_count": null,
   "id": "55991da5",
   "metadata": {},
   "outputs": [],
   "source": [
    "rsys.show_ode()"
   ]
  },
  {
   "cell_type": "code",
   "execution_count": null,
   "id": "2b539e94",
   "metadata": {},
   "outputs": [],
   "source": [
    "xps, ts = simulate(rsys, time=tmax, title=\"\")"
   ]
  },
  {
   "cell_type": "code",
   "execution_count": null,
   "id": "252468e0",
   "metadata": {},
   "outputs": [],
   "source": [
    "rsys.temperature.value"
   ]
  },
  {
   "cell_type": "markdown",
   "id": "5fe1b078",
   "metadata": {},
   "source": [
    "## Plot trajectory figure"
   ]
  },
  {
   "cell_type": "code",
   "execution_count": null,
   "id": "afb5ebfb",
   "metadata": {},
   "outputs": [],
   "source": [
    "ts.plot()"
   ]
  },
  {
   "cell_type": "markdown",
   "id": "bdfb5c8a",
   "metadata": {},
   "source": [
    "## Calculate TOF"
   ]
  },
  {
   "cell_type": "code",
   "execution_count": null,
   "id": "9d09f535",
   "metadata": {},
   "outputs": [],
   "source": [
    "x = ts.df.index\n",
    "y = [ts.df[colname] for colname in ts.df.columns if str(colname) == \"H2\"][0]"
   ]
  },
  {
   "cell_type": "code",
   "execution_count": null,
   "id": "478df15b",
   "metadata": {},
   "outputs": [],
   "source": [
    "ts.df"
   ]
  },
  {
   "cell_type": "code",
   "execution_count": null,
   "id": "df7153eb",
   "metadata": {},
   "outputs": [],
   "source": [
    "y.divide(other=tmax)"
   ]
  },
  {
   "cell_type": "code",
   "execution_count": null,
   "id": "295f6c9f",
   "metadata": {},
   "outputs": [],
   "source": [
    "y.iloc[-1] / y.index[-1]"
   ]
  },
  {
   "cell_type": "code",
   "execution_count": null,
   "id": "a7e7ed2a",
   "metadata": {},
   "outputs": [],
   "source": []
  }
 ],
 "metadata": {
  "kernelspec": {
   "display_name": "Python 3",
   "language": "python",
   "name": "python3"
  },
  "language_info": {
   "codemirror_mode": {
    "name": "ipython",
    "version": 3
   },
   "file_extension": ".py",
   "mimetype": "text/x-python",
   "name": "python",
   "nbconvert_exporter": "python",
   "pygments_lexer": "ipython3",
   "version": "3.8.10"
  }
 },
 "nbformat": 4,
 "nbformat_minor": 5
}
