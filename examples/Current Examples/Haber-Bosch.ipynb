{
 "cells": [
  {
   "cell_type": "code",
   "execution_count": 1,
   "metadata": {},
   "outputs": [],
   "source": [
    "from lblcrn.bulk_crn import *\n",
    "from lblcrn.crn_sym import *\n",
    "from lblcrn.experiments.xps_io import *\n",
    "from lblcrn.experiments.solution_system import *\n",
    "import matplotlib.pyplot as plt\n",
    "import pickle\n",
    "import pandas as pd\n",
    "import numpy as np\n",
    "import seaborn as sb\n",
    "import scipy.signal as signal\n",
    "from mpl_toolkits.axes_grid1 import ImageGrid"
   ]
  },
  {
   "cell_type": "code",
   "execution_count": 2,
   "metadata": {},
   "outputs": [],
   "source": [
    "sm = SpeciesManager()\n",
    "\n",
    "v_3n_nh2 = sm.sp('v_3n_nh2', Orbital('1s', 535.0))\n",
    "v_h2 = sm.sp('v_h2', Orbital('1s', 532.2))\n",
    "v_3n_nh2_2h = sm.sp('v_3n_nh2_2h', Orbital('1s', 530.9))\n",
    "v_3n_nh3_h = sm.sp('v_3n_nh3_h', Orbital('1s', 530.0))\n",
    "v_3n_h = sm.sp('v_3n_h', Orbital('1s', 530.0))\n",
    "v_nh3 = sm.sp('v_nh3', Orbital('1s', 530.0))\n",
    "v_2n_nh = sm.sp('v_2n_nh', Orbital('1s', 530.0))\n",
    "v_2n_nh_2h = sm.sp('v_2n_nh_2h', Orbital('1s', 530.0))\n",
    "v_2n_nh2_h = sm.sp('v_2n_nh2_h', Orbital('1s', 530.0))\n",
    "v_2n_nh3 = sm.sp('v_2n_nh3', Orbital('1s', 530.0))\n",
    "v_2n = sm.sp('v_2n', Orbital('1s', 530.0))\n",
    "v_n2 = sm.sp('v_n2', Orbital('1s', 530.0))\n",
    "v_2n_n2 = sm.sp('v_2n_n2', Orbital('1s', 530.0))\n",
    "v_4n = sm.sp('v_4n', Orbital('1s', 530.0))\n",
    "v_3n_nh_h = sm.sp('v_3nh_h', Orbital('1s', 530.0))\n",
    "v_3n_nh2 = sm.sp('v_3nh2', Orbital('1s', 530.0))\n",
    "v_2n_2h = sm.sp('v_2n_2h', Orbital('1s', 530.0))\n",
    "\n",
    "\n",
    "constants = [7.67e8, 1.41e13, 2.6e6, 2.48e4, 1.03e7, 6.66e2, 1.84e6, 7.2e9, 7.67e8, 3.04e9, 1.6e11, 1.1e6, 1.14e0, 7.79e5,\n",
    "            3.91e5, 3.14e3, 8.69e6, 4.1e7, 7.2e9, 1.35, 2.77e5, 6.45e8, 1.41e13, 7.67e8, 7.67e8, 1.48e4]\n",
    "constants = [10e-9 * c for c in constants]\n",
    "multipliers = [1]\n",
    "\n",
    "main = XPSInitializationData(\n",
    "                'High P, High T',\n",
    "                0,\n",
    "                0,\n",
    "                constants=constants\n",
    "            )\n",
    "\n",
    "init_data = [main]\n"
   ]
  },
  {
   "cell_type": "markdown",
   "metadata": {},
   "source": [
    "t=100\n",
    "- 5 15 2\n",
    "- 50, 150, 100\n",
    "- 50, 150, 50\n",
    "- 5 15 5\n",
    "- 5 15 20\n",
    "- 5 15 15\n",
    "- 5 15 10\n",
    "- 500 1500 500\n",
    "t=1000\n",
    "- 500 1500 500"
   ]
  },
  {
   "cell_type": "code",
   "execution_count": 3,
   "metadata": {},
   "outputs": [],
   "source": [
    "def rsys_generator(scaled):\n",
    "    rsys = RxnSystem(\n",
    "        RevRxn(v_3n_nh2 + v_h2, v_3n_nh2_2h, scaled[0], scaled[1]),\n",
    "        RevRxn(v_3n_nh2_2h, v_3n_nh3_h, scaled[2], scaled[3]),\n",
    "        RevRxn(v_3n_nh3_h, v_3n_h + v_nh3, scaled[4], scaled[5]),\n",
    "        RevRxn(v_3n_h, v_2n_nh, scaled[6], scaled[7]),\n",
    "        RevRxn(v_2n_nh + v_h2, v_2n_nh_2h, scaled[8], scaled[9]),\n",
    "        RevRxn(v_2n_nh_2h, v_2n_nh2_h, scaled[10], scaled[11]),\n",
    "        RevRxn(v_2n_nh2_h, v_2n_nh3, scaled[12], scaled[13]),\n",
    "        RevRxn(v_2n_nh3, v_2n + v_nh3, scaled[14], scaled[15]),\n",
    "        RevRxn(v_2n + v_n2, v_2n_n2, scaled[16], scaled[17]),\n",
    "        RevRxn(v_2n_n2, v_4n, scaled[18], scaled[19]),\n",
    "        RevRxn(v_4n + v_h2, v_3n_nh_h, scaled[20], scaled[21]),\n",
    "        RevRxn(v_3n_nh_h, v_3n_nh2, scaled[22], scaled[23]),\n",
    "        RevRxn(v_2n + v_h2, v_2n_2h, scaled[24], scaled[25]),\n",
    "\n",
    "        Conc(v_n2, 5),\n",
    "        Conc(v_h2, 15),\n",
    "        Conc(v_3n_nh2, 1), # 2-20 range\n",
    "        sm\n",
    "    )\n",
    "    return rsys"
   ]
  },
  {
   "cell_type": "code",
   "execution_count": 4,
   "metadata": {},
   "outputs": [],
   "source": [
    "runner = XPSSystemRunner(rsys_generator, 200, init_data, multipliers) #200 seconds"
   ]
  },
  {
   "cell_type": "code",
   "execution_count": 7,
   "metadata": {},
   "outputs": [
    {
     "name": "stdout",
     "output_type": "stream",
     "text": [
      "Solved for (0, 0)\n",
      "[7.67, 141000.0, 0.026000000000000002, 0.000248, 0.10300000000000001, 6.66e-06, 0.0184, 72.0, 7.67, 30.400000000000002, 1600.0, 0.011000000000000001, 1.14e-08, 0.00779, 0.00391, 3.14e-05, 0.0869, 0.41000000000000003, 72.0, 1.3500000000000002e-08, 0.00277, 6.45, 141000.0, 7.67, 7.67, 0.000148]\n",
      "\n",
      "\n",
      "Solved for (1, 0)\n",
      "[7.67, 141000.0, 0.026000000000000002, 0.000248, 0.10300000000000001, 6.66e-06, 0.0184, 72.0, 7.67, 30.400000000000002, 1600.0, 0.011000000000000001, 1.14e-08, 0.00779, 0.00391, 3.14e-05, 0.0869, 0.41000000000000003, 72.0, 1.3500000000000002e-08, 0.00277, 6.45, 141000.0, 7.67, 7.67, 0.000148]\n",
      "\n",
      "\n",
      "Solved for (2, 0)\n",
      "[7.67, 141000.0, 0.026000000000000002, 0.000248, 0.10300000000000001, 6.66e-06, 0.0184, 72.0, 7.67, 30.400000000000002, 1600.0, 0.011000000000000001, 1.14e-08, 0.00779, 0.00391, 3.14e-05, 0.0869, 0.41000000000000003, 72.0, 1.3500000000000002e-08, 0.00277, 6.45, 141000.0, 7.67, 7.67, 0.000148]\n",
      "\n",
      "\n",
      "Solved for (3, 0)\n",
      "[7.67, 141000.0, 0.026000000000000002, 0.000248, 0.10300000000000001, 6.66e-06, 0.0184, 72.0, 7.67, 30.400000000000002, 1600.0, 0.011000000000000001, 1.14e-08, 0.00779, 0.00391, 3.14e-05, 0.0869, 0.41000000000000003, 72.0, 1.3500000000000002e-08, 0.00277, 6.45, 141000.0, 7.67, 7.67, 0.000148]\n",
      "\n",
      "\n",
      "Solved for (4, 0)\n",
      "[7.67, 141000.0, 0.026000000000000002, 0.000248, 0.10300000000000001, 6.66e-06, 0.0184, 72.0, 7.67, 30.400000000000002, 1600.0, 0.011000000000000001, 1.14e-08, 0.00779, 0.00391, 3.14e-05, 0.0869, 0.41000000000000003, 72.0, 1.3500000000000002e-08, 0.00277, 6.45, 141000.0, 7.67, 7.67, 0.000148]\n",
      "\n",
      "\n",
      "Solved for (5, 0)\n",
      "[7.67, 141000.0, 0.026000000000000002, 0.000248, 0.10300000000000001, 6.66e-06, 0.0184, 72.0, 7.67, 30.400000000000002, 1600.0, 0.011000000000000001, 1.14e-08, 0.00779, 0.00391, 3.14e-05, 0.0869, 0.41000000000000003, 72.0, 1.3500000000000002e-08, 0.00277, 6.45, 141000.0, 7.67, 7.67, 0.000148]\n",
      "\n",
      "\n",
      "Solved for (6, 0)\n",
      "[7.67, 141000.0, 0.026000000000000002, 0.000248, 0.10300000000000001, 6.66e-06, 0.0184, 72.0, 7.67, 30.400000000000002, 1600.0, 0.011000000000000001, 1.14e-08, 0.00779, 0.00391, 3.14e-05, 0.0869, 0.41000000000000003, 72.0, 1.3500000000000002e-08, 0.00277, 6.45, 141000.0, 7.67, 7.67, 0.000148]\n",
      "\n",
      "\n",
      "Solved for (7, 0)\n",
      "[7.67, 141000.0, 0.026000000000000002, 0.000248, 0.10300000000000001, 6.66e-06, 0.0184, 72.0, 7.67, 30.400000000000002, 1600.0, 0.011000000000000001, 1.14e-08, 0.00779, 0.00391, 3.14e-05, 0.0869, 0.41000000000000003, 72.0, 1.3500000000000002e-08, 0.00277, 6.45, 141000.0, 7.67, 7.67, 0.000148]\n",
      "\n",
      "\n",
      "Solved for (8, 0)\n",
      "[7.67, 141000.0, 0.026000000000000002, 0.000248, 0.10300000000000001, 6.66e-06, 0.0184, 72.0, 7.67, 30.400000000000002, 1600.0, 0.011000000000000001, 1.14e-08, 0.00779, 0.00391, 3.14e-05, 0.0869, 0.41000000000000003, 72.0, 1.3500000000000002e-08, 0.00277, 6.45, 141000.0, 7.67, 7.67, 0.000148]\n",
      "\n",
      "\n",
      "Solved for (9, 0)\n",
      "[7.67, 141000.0, 0.026000000000000002, 0.000248, 0.10300000000000001, 6.66e-06, 0.0184, 72.0, 7.67, 30.400000000000002, 1600.0, 0.011000000000000001, 1.14e-08, 0.00779, 0.00391, 3.14e-05, 0.0869, 0.41000000000000003, 72.0, 1.3500000000000002e-08, 0.00277, 6.45, 141000.0, 7.67, 7.67, 0.000148]\n",
      "\n",
      "\n",
      "Solved for (10, 0)\n",
      "[7.67, 141000.0, 0.026000000000000002, 0.000248, 0.10300000000000001, 6.66e-06, 0.0184, 72.0, 7.67, 30.400000000000002, 1600.0, 0.011000000000000001, 1.14e-08, 0.00779, 0.00391, 3.14e-05, 0.0869, 0.41000000000000003, 72.0, 1.3500000000000002e-08, 0.00277, 6.45, 141000.0, 7.67, 7.67, 0.000148]\n",
      "\n",
      "\n",
      "Solved for (11, 0)\n",
      "[7.67, 141000.0, 0.026000000000000002, 0.000248, 0.10300000000000001, 6.66e-06, 0.0184, 72.0, 7.67, 30.400000000000002, 1600.0, 0.011000000000000001, 1.14e-08, 0.00779, 0.00391, 3.14e-05, 0.0869, 0.41000000000000003, 72.0, 1.3500000000000002e-08, 0.00277, 6.45, 141000.0, 7.67, 7.67, 0.000148]\n",
      "\n",
      "\n",
      "Solved for (12, 0)\n",
      "[7.67, 141000.0, 0.026000000000000002, 0.000248, 0.10300000000000001, 6.66e-06, 0.0184, 72.0, 7.67, 30.400000000000002, 1600.0, 0.011000000000000001, 1.14e-08, 0.00779, 0.00391, 3.14e-05, 0.0869, 0.41000000000000003, 72.0, 1.3500000000000002e-08, 0.00277, 6.45, 141000.0, 7.67, 7.67, 0.000148]\n",
      "\n",
      "\n",
      "Solved for (13, 0)\n",
      "[7.67, 141000.0, 0.026000000000000002, 0.000248, 0.10300000000000001, 6.66e-06, 0.0184, 72.0, 7.67, 30.400000000000002, 1600.0, 0.011000000000000001, 1.14e-08, 0.00779, 0.00391, 3.14e-05, 0.0869, 0.41000000000000003, 72.0, 1.3500000000000002e-08, 0.00277, 6.45, 141000.0, 7.67, 7.67, 0.000148]\n",
      "\n",
      "\n",
      "Solved for (14, 0)\n",
      "[7.67, 141000.0, 0.026000000000000002, 0.000248, 0.10300000000000001, 6.66e-06, 0.0184, 72.0, 7.67, 30.400000000000002, 1600.0, 0.011000000000000001, 1.14e-08, 0.00779, 0.00391, 3.14e-05, 0.0869, 0.41000000000000003, 72.0, 1.3500000000000002e-08, 0.00277, 6.45, 141000.0, 7.67, 7.67, 0.000148]\n",
      "\n",
      "\n",
      "Solved for (15, 0)\n",
      "[7.67, 141000.0, 0.026000000000000002, 0.000248, 0.10300000000000001, 6.66e-06, 0.0184, 72.0, 7.67, 30.400000000000002, 1600.0, 0.011000000000000001, 1.14e-08, 0.00779, 0.00391, 3.14e-05, 0.0869, 0.41000000000000003, 72.0, 1.3500000000000002e-08, 0.00277, 6.45, 141000.0, 7.67, 7.67, 0.000148]\n",
      "\n",
      "\n",
      "Solved for (16, 0)\n",
      "[7.67, 141000.0, 0.026000000000000002, 0.000248, 0.10300000000000001, 6.66e-06, 0.0184, 72.0, 7.67, 30.400000000000002, 1600.0, 0.011000000000000001, 1.14e-08, 0.00779, 0.00391, 3.14e-05, 0.0869, 0.41000000000000003, 72.0, 1.3500000000000002e-08, 0.00277, 6.45, 141000.0, 7.67, 7.67, 0.000148]\n",
      "\n",
      "\n",
      "Solved for (17, 0)\n",
      "[7.67, 141000.0, 0.026000000000000002, 0.000248, 0.10300000000000001, 6.66e-06, 0.0184, 72.0, 7.67, 30.400000000000002, 1600.0, 0.011000000000000001, 1.14e-08, 0.00779, 0.00391, 3.14e-05, 0.0869, 0.41000000000000003, 72.0, 1.3500000000000002e-08, 0.00277, 6.45, 141000.0, 7.67, 7.67, 0.000148]\n",
      "\n",
      "\n",
      "Solved for (18, 0)\n",
      "[7.67, 141000.0, 0.026000000000000002, 0.000248, 0.10300000000000001, 6.66e-06, 0.0184, 72.0, 7.67, 30.400000000000002, 1600.0, 0.011000000000000001, 1.14e-08, 0.00779, 0.00391, 3.14e-05, 0.0869, 0.41000000000000003, 72.0, 1.3500000000000002e-08, 0.00277, 6.45, 141000.0, 7.67, 7.67, 0.000148]\n",
      "\n",
      "\n",
      "Solved for (19, 0)\n",
      "[7.67, 141000.0, 0.026000000000000002, 0.000248, 0.10300000000000001, 6.66e-06, 0.0184, 72.0, 7.67, 30.400000000000002, 1600.0, 0.011000000000000001, 1.14e-08, 0.00779, 0.00391, 3.14e-05, 0.0869, 0.41000000000000003, 72.0, 1.3500000000000002e-08, 0.00277, 6.45, 141000.0, 7.67, 7.67, 0.000148]\n",
      "\n",
      "\n",
      "Solved for (20, 0)\n",
      "[7.67, 141000.0, 0.026000000000000002, 0.000248, 0.10300000000000001, 6.66e-06, 0.0184, 72.0, 7.67, 30.400000000000002, 1600.0, 0.011000000000000001, 1.14e-08, 0.00779, 0.00391, 3.14e-05, 0.0869, 0.41000000000000003, 72.0, 1.3500000000000002e-08, 0.00277, 6.45, 141000.0, 7.67, 7.67, 0.000148]\n",
      "\n",
      "\n",
      "Solved for (21, 0)\n",
      "[7.67, 141000.0, 0.026000000000000002, 0.000248, 0.10300000000000001, 6.66e-06, 0.0184, 72.0, 7.67, 30.400000000000002, 1600.0, 0.011000000000000001, 1.14e-08, 0.00779, 0.00391, 3.14e-05, 0.0869, 0.41000000000000003, 72.0, 1.3500000000000002e-08, 0.00277, 6.45, 141000.0, 7.67, 7.67, 0.000148]\n",
      "\n",
      "\n",
      "Solved for (22, 0)\n",
      "[7.67, 141000.0, 0.026000000000000002, 0.000248, 0.10300000000000001, 6.66e-06, 0.0184, 72.0, 7.67, 30.400000000000002, 1600.0, 0.011000000000000001, 1.14e-08, 0.00779, 0.00391, 3.14e-05, 0.0869, 0.41000000000000003, 72.0, 1.3500000000000002e-08, 0.00277, 6.45, 141000.0, 7.67, 7.67, 0.000148]\n",
      "\n",
      "\n",
      "Solved for (23, 0)\n",
      "[7.67, 141000.0, 0.026000000000000002, 0.000248, 0.10300000000000001, 6.66e-06, 0.0184, 72.0, 7.67, 30.400000000000002, 1600.0, 0.011000000000000001, 1.14e-08, 0.00779, 0.00391, 3.14e-05, 0.0869, 0.41000000000000003, 72.0, 1.3500000000000002e-08, 0.00277, 6.45, 141000.0, 7.67, 7.67, 0.000148]\n",
      "\n",
      "\n",
      "Solved for (24, 0)\n",
      "[7.67, 141000.0, 0.026000000000000002, 0.000248, 0.10300000000000001, 6.66e-06, 0.0184, 72.0, 7.67, 30.400000000000002, 1600.0, 0.011000000000000001, 1.14e-08, 0.00779, 0.00391, 3.14e-05, 0.0869, 0.41000000000000003, 72.0, 1.3500000000000002e-08, 0.00277, 6.45, 141000.0, 7.67, 7.67, 0.000148]\n",
      "\n",
      "\n",
      "Solved for (25, 0)\n",
      "[7.67, 141000.0, 0.026000000000000002, 0.000248, 0.10300000000000001, 6.66e-06, 0.0184, 72.0, 7.67, 30.400000000000002, 1600.0, 0.011000000000000001, 1.14e-08, 0.00779, 0.00391, 3.14e-05, 0.0869, 0.41000000000000003, 72.0, 1.3500000000000002e-08, 0.00277, 6.45, 141000.0, 7.67, 7.67, 0.000148]\n",
      "\n",
      "\n"
     ]
    }
   ],
   "source": [
    "runner.simulate(0)"
   ]
  },
  {
   "cell_type": "code",
   "execution_count": 11,
   "metadata": {},
   "outputs": [],
   "source": [
    "import pickle\n",
    "with open('../../haberbosch.pkl', 'wb') as f:\n",
    "    pickle.dump(runner, f)"
   ]
  },
  {
   "cell_type": "code",
   "execution_count": 5,
   "metadata": {},
   "outputs": [],
   "source": [
    "runner = pickle.load(open('../../data/haberbosch.pkl', 'rb'))"
   ]
  },
  {
   "cell_type": "code",
   "execution_count": 6,
   "metadata": {},
   "outputs": [
    {
     "name": "stdout",
     "output_type": "stream",
     "text": [
      "scaling factor: 1 \tmax index: 0\n"
     ]
    }
   ],
   "source": [
    "sys = runner.system()"
   ]
  },
  {
   "cell_type": "code",
   "execution_count": 7,
   "metadata": {},
   "outputs": [
    {
     "ename": "KeyboardInterrupt",
     "evalue": "",
     "output_type": "error",
     "traceback": [
      "\u001b[0;31m---------------------------------------------------------------------------\u001b[0m",
      "\u001b[0;31mKeyboardInterrupt\u001b[0m                         Traceback (most recent call last)",
      "\u001b[0;32m<ipython-input-7-985ae5632504>\u001b[0m in \u001b[0;36m<module>\u001b[0;34m\u001b[0m\n\u001b[0;32m----> 1\u001b[0;31m \u001b[0msys\u001b[0m\u001b[0;34m.\u001b[0m\u001b[0mplot\u001b[0m\u001b[0;34m(\u001b[0m\u001b[0;36m0\u001b[0m\u001b[0;34m)\u001b[0m\u001b[0;34m\u001b[0m\u001b[0;34m\u001b[0m\u001b[0m\n\u001b[0m",
      "\u001b[0;32m~/dev/lbl-crn/lblcrn/experiments/solution_system.py\u001b[0m in \u001b[0;36mplot\u001b[0;34m(self, index)\u001b[0m\n\u001b[1;32m    111\u001b[0m             \u001b[0;31m# TODO(Rithvik) I might have broken this line, sorry.\u001b[0m\u001b[0;34m\u001b[0m\u001b[0;34m\u001b[0m\u001b[0;34m\u001b[0m\u001b[0m\n\u001b[1;32m    112\u001b[0m             \u001b[0mplt\u001b[0m\u001b[0;34m.\u001b[0m\u001b[0mtitle\u001b[0m\u001b[0;34m(\u001b[0m\u001b[0;34mf'Eq: {str(int(j / rows))} Const: {str(j % cols)}'\u001b[0m\u001b[0;34m)\u001b[0m\u001b[0;34m\u001b[0m\u001b[0;34m\u001b[0m\u001b[0m\n\u001b[0;32m--> 113\u001b[0;31m         \u001b[0mplt\u001b[0m\u001b[0;34m.\u001b[0m\u001b[0mshow\u001b[0m\u001b[0;34m(\u001b[0m\u001b[0;34m)\u001b[0m\u001b[0;34m\u001b[0m\u001b[0;34m\u001b[0m\u001b[0m\n\u001b[0m\u001b[1;32m    114\u001b[0m \u001b[0;34m\u001b[0m\u001b[0m\n\u001b[1;32m    115\u001b[0m \u001b[0;32mclass\u001b[0m \u001b[0mXPSInitializationData\u001b[0m\u001b[0;34m:\u001b[0m\u001b[0;34m\u001b[0m\u001b[0;34m\u001b[0m\u001b[0m\n",
      "\u001b[0;32m~/dev/lbl-crn/venv/lib/python3.8/site-packages/matplotlib/pyplot.py\u001b[0m in \u001b[0;36mshow\u001b[0;34m(*args, **kw)\u001b[0m\n\u001b[1;32m    270\u001b[0m     \"\"\"\n\u001b[1;32m    271\u001b[0m     \u001b[0;32mglobal\u001b[0m \u001b[0m_show\u001b[0m\u001b[0;34m\u001b[0m\u001b[0;34m\u001b[0m\u001b[0m\n\u001b[0;32m--> 272\u001b[0;31m     \u001b[0;32mreturn\u001b[0m \u001b[0m_show\u001b[0m\u001b[0;34m(\u001b[0m\u001b[0;34m*\u001b[0m\u001b[0margs\u001b[0m\u001b[0;34m,\u001b[0m \u001b[0;34m**\u001b[0m\u001b[0mkw\u001b[0m\u001b[0;34m)\u001b[0m\u001b[0;34m\u001b[0m\u001b[0;34m\u001b[0m\u001b[0m\n\u001b[0m\u001b[1;32m    273\u001b[0m \u001b[0;34m\u001b[0m\u001b[0m\n\u001b[1;32m    274\u001b[0m \u001b[0;34m\u001b[0m\u001b[0m\n",
      "\u001b[0;32m~/dev/lbl-crn/venv/lib/python3.8/site-packages/ipykernel/pylab/backend_inline.py\u001b[0m in \u001b[0;36mshow\u001b[0;34m(close, block)\u001b[0m\n\u001b[1;32m     39\u001b[0m     \u001b[0;32mtry\u001b[0m\u001b[0;34m:\u001b[0m\u001b[0;34m\u001b[0m\u001b[0;34m\u001b[0m\u001b[0m\n\u001b[1;32m     40\u001b[0m         \u001b[0;32mfor\u001b[0m \u001b[0mfigure_manager\u001b[0m \u001b[0;32min\u001b[0m \u001b[0mGcf\u001b[0m\u001b[0;34m.\u001b[0m\u001b[0mget_all_fig_managers\u001b[0m\u001b[0;34m(\u001b[0m\u001b[0;34m)\u001b[0m\u001b[0;34m:\u001b[0m\u001b[0;34m\u001b[0m\u001b[0;34m\u001b[0m\u001b[0m\n\u001b[0;32m---> 41\u001b[0;31m             display(\n\u001b[0m\u001b[1;32m     42\u001b[0m                 \u001b[0mfigure_manager\u001b[0m\u001b[0;34m.\u001b[0m\u001b[0mcanvas\u001b[0m\u001b[0;34m.\u001b[0m\u001b[0mfigure\u001b[0m\u001b[0;34m,\u001b[0m\u001b[0;34m\u001b[0m\u001b[0;34m\u001b[0m\u001b[0m\n\u001b[1;32m     43\u001b[0m                 \u001b[0mmetadata\u001b[0m\u001b[0;34m=\u001b[0m\u001b[0m_fetch_figure_metadata\u001b[0m\u001b[0;34m(\u001b[0m\u001b[0mfigure_manager\u001b[0m\u001b[0;34m.\u001b[0m\u001b[0mcanvas\u001b[0m\u001b[0;34m.\u001b[0m\u001b[0mfigure\u001b[0m\u001b[0;34m)\u001b[0m\u001b[0;34m\u001b[0m\u001b[0;34m\u001b[0m\u001b[0m\n",
      "\u001b[0;32m~/dev/lbl-crn/venv/lib/python3.8/site-packages/IPython/core/display.py\u001b[0m in \u001b[0;36mdisplay\u001b[0;34m(include, exclude, metadata, transient, display_id, *objs, **kwargs)\u001b[0m\n\u001b[1;32m    311\u001b[0m             \u001b[0mpublish_display_data\u001b[0m\u001b[0;34m(\u001b[0m\u001b[0mdata\u001b[0m\u001b[0;34m=\u001b[0m\u001b[0mobj\u001b[0m\u001b[0;34m,\u001b[0m \u001b[0mmetadata\u001b[0m\u001b[0;34m=\u001b[0m\u001b[0mmetadata\u001b[0m\u001b[0;34m,\u001b[0m \u001b[0;34m**\u001b[0m\u001b[0mkwargs\u001b[0m\u001b[0;34m)\u001b[0m\u001b[0;34m\u001b[0m\u001b[0;34m\u001b[0m\u001b[0m\n\u001b[1;32m    312\u001b[0m         \u001b[0;32melse\u001b[0m\u001b[0;34m:\u001b[0m\u001b[0;34m\u001b[0m\u001b[0;34m\u001b[0m\u001b[0m\n\u001b[0;32m--> 313\u001b[0;31m             \u001b[0mformat_dict\u001b[0m\u001b[0;34m,\u001b[0m \u001b[0mmd_dict\u001b[0m \u001b[0;34m=\u001b[0m \u001b[0mformat\u001b[0m\u001b[0;34m(\u001b[0m\u001b[0mobj\u001b[0m\u001b[0;34m,\u001b[0m \u001b[0minclude\u001b[0m\u001b[0;34m=\u001b[0m\u001b[0minclude\u001b[0m\u001b[0;34m,\u001b[0m \u001b[0mexclude\u001b[0m\u001b[0;34m=\u001b[0m\u001b[0mexclude\u001b[0m\u001b[0;34m)\u001b[0m\u001b[0;34m\u001b[0m\u001b[0;34m\u001b[0m\u001b[0m\n\u001b[0m\u001b[1;32m    314\u001b[0m             \u001b[0;32mif\u001b[0m \u001b[0;32mnot\u001b[0m \u001b[0mformat_dict\u001b[0m\u001b[0;34m:\u001b[0m\u001b[0;34m\u001b[0m\u001b[0;34m\u001b[0m\u001b[0m\n\u001b[1;32m    315\u001b[0m                 \u001b[0;31m# nothing to display (e.g. _ipython_display_ took over)\u001b[0m\u001b[0;34m\u001b[0m\u001b[0;34m\u001b[0m\u001b[0;34m\u001b[0m\u001b[0m\n",
      "\u001b[0;32m~/dev/lbl-crn/venv/lib/python3.8/site-packages/IPython/core/formatters.py\u001b[0m in \u001b[0;36mformat\u001b[0;34m(self, obj, include, exclude)\u001b[0m\n\u001b[1;32m    178\u001b[0m             \u001b[0mmd\u001b[0m \u001b[0;34m=\u001b[0m \u001b[0;32mNone\u001b[0m\u001b[0;34m\u001b[0m\u001b[0;34m\u001b[0m\u001b[0m\n\u001b[1;32m    179\u001b[0m             \u001b[0;32mtry\u001b[0m\u001b[0;34m:\u001b[0m\u001b[0;34m\u001b[0m\u001b[0;34m\u001b[0m\u001b[0m\n\u001b[0;32m--> 180\u001b[0;31m                 \u001b[0mdata\u001b[0m \u001b[0;34m=\u001b[0m \u001b[0mformatter\u001b[0m\u001b[0;34m(\u001b[0m\u001b[0mobj\u001b[0m\u001b[0;34m)\u001b[0m\u001b[0;34m\u001b[0m\u001b[0;34m\u001b[0m\u001b[0m\n\u001b[0m\u001b[1;32m    181\u001b[0m             \u001b[0;32mexcept\u001b[0m\u001b[0;34m:\u001b[0m\u001b[0;34m\u001b[0m\u001b[0;34m\u001b[0m\u001b[0m\n\u001b[1;32m    182\u001b[0m                 \u001b[0;31m# FIXME: log the exception\u001b[0m\u001b[0;34m\u001b[0m\u001b[0;34m\u001b[0m\u001b[0;34m\u001b[0m\u001b[0m\n",
      "\u001b[0;32m<decorator-gen-9>\u001b[0m in \u001b[0;36m__call__\u001b[0;34m(self, obj)\u001b[0m\n",
      "\u001b[0;32m~/dev/lbl-crn/venv/lib/python3.8/site-packages/IPython/core/formatters.py\u001b[0m in \u001b[0;36mcatch_format_error\u001b[0;34m(method, self, *args, **kwargs)\u001b[0m\n\u001b[1;32m    222\u001b[0m     \u001b[0;34m\"\"\"show traceback on failed format call\"\"\"\u001b[0m\u001b[0;34m\u001b[0m\u001b[0;34m\u001b[0m\u001b[0m\n\u001b[1;32m    223\u001b[0m     \u001b[0;32mtry\u001b[0m\u001b[0;34m:\u001b[0m\u001b[0;34m\u001b[0m\u001b[0;34m\u001b[0m\u001b[0m\n\u001b[0;32m--> 224\u001b[0;31m         \u001b[0mr\u001b[0m \u001b[0;34m=\u001b[0m \u001b[0mmethod\u001b[0m\u001b[0;34m(\u001b[0m\u001b[0mself\u001b[0m\u001b[0;34m,\u001b[0m \u001b[0;34m*\u001b[0m\u001b[0margs\u001b[0m\u001b[0;34m,\u001b[0m \u001b[0;34m**\u001b[0m\u001b[0mkwargs\u001b[0m\u001b[0;34m)\u001b[0m\u001b[0;34m\u001b[0m\u001b[0;34m\u001b[0m\u001b[0m\n\u001b[0m\u001b[1;32m    225\u001b[0m     \u001b[0;32mexcept\u001b[0m \u001b[0mNotImplementedError\u001b[0m\u001b[0;34m:\u001b[0m\u001b[0;34m\u001b[0m\u001b[0;34m\u001b[0m\u001b[0m\n\u001b[1;32m    226\u001b[0m         \u001b[0;31m# don't warn on NotImplementedErrors\u001b[0m\u001b[0;34m\u001b[0m\u001b[0;34m\u001b[0m\u001b[0;34m\u001b[0m\u001b[0m\n",
      "\u001b[0;32m~/dev/lbl-crn/venv/lib/python3.8/site-packages/IPython/core/formatters.py\u001b[0m in \u001b[0;36m__call__\u001b[0;34m(self, obj)\u001b[0m\n\u001b[1;32m    339\u001b[0m                 \u001b[0;32mpass\u001b[0m\u001b[0;34m\u001b[0m\u001b[0;34m\u001b[0m\u001b[0m\n\u001b[1;32m    340\u001b[0m             \u001b[0;32melse\u001b[0m\u001b[0;34m:\u001b[0m\u001b[0;34m\u001b[0m\u001b[0;34m\u001b[0m\u001b[0m\n\u001b[0;32m--> 341\u001b[0;31m                 \u001b[0;32mreturn\u001b[0m \u001b[0mprinter\u001b[0m\u001b[0;34m(\u001b[0m\u001b[0mobj\u001b[0m\u001b[0;34m)\u001b[0m\u001b[0;34m\u001b[0m\u001b[0;34m\u001b[0m\u001b[0m\n\u001b[0m\u001b[1;32m    342\u001b[0m             \u001b[0;31m# Finally look for special method names\u001b[0m\u001b[0;34m\u001b[0m\u001b[0;34m\u001b[0m\u001b[0;34m\u001b[0m\u001b[0m\n\u001b[1;32m    343\u001b[0m             \u001b[0mmethod\u001b[0m \u001b[0;34m=\u001b[0m \u001b[0mget_real_method\u001b[0m\u001b[0;34m(\u001b[0m\u001b[0mobj\u001b[0m\u001b[0;34m,\u001b[0m \u001b[0mself\u001b[0m\u001b[0;34m.\u001b[0m\u001b[0mprint_method\u001b[0m\u001b[0;34m)\u001b[0m\u001b[0;34m\u001b[0m\u001b[0;34m\u001b[0m\u001b[0m\n",
      "\u001b[0;32m~/dev/lbl-crn/venv/lib/python3.8/site-packages/IPython/core/pylabtools.py\u001b[0m in \u001b[0;36m<lambda>\u001b[0;34m(fig)\u001b[0m\n\u001b[1;32m    246\u001b[0m \u001b[0;34m\u001b[0m\u001b[0m\n\u001b[1;32m    247\u001b[0m     \u001b[0;32mif\u001b[0m \u001b[0;34m'png'\u001b[0m \u001b[0;32min\u001b[0m \u001b[0mformats\u001b[0m\u001b[0;34m:\u001b[0m\u001b[0;34m\u001b[0m\u001b[0;34m\u001b[0m\u001b[0m\n\u001b[0;32m--> 248\u001b[0;31m         \u001b[0mpng_formatter\u001b[0m\u001b[0;34m.\u001b[0m\u001b[0mfor_type\u001b[0m\u001b[0;34m(\u001b[0m\u001b[0mFigure\u001b[0m\u001b[0;34m,\u001b[0m \u001b[0;32mlambda\u001b[0m \u001b[0mfig\u001b[0m\u001b[0;34m:\u001b[0m \u001b[0mprint_figure\u001b[0m\u001b[0;34m(\u001b[0m\u001b[0mfig\u001b[0m\u001b[0;34m,\u001b[0m \u001b[0;34m'png'\u001b[0m\u001b[0;34m,\u001b[0m \u001b[0;34m**\u001b[0m\u001b[0mkwargs\u001b[0m\u001b[0;34m)\u001b[0m\u001b[0;34m)\u001b[0m\u001b[0;34m\u001b[0m\u001b[0;34m\u001b[0m\u001b[0m\n\u001b[0m\u001b[1;32m    249\u001b[0m     \u001b[0;32mif\u001b[0m \u001b[0;34m'retina'\u001b[0m \u001b[0;32min\u001b[0m \u001b[0mformats\u001b[0m \u001b[0;32mor\u001b[0m \u001b[0;34m'png2x'\u001b[0m \u001b[0;32min\u001b[0m \u001b[0mformats\u001b[0m\u001b[0;34m:\u001b[0m\u001b[0;34m\u001b[0m\u001b[0;34m\u001b[0m\u001b[0m\n\u001b[1;32m    250\u001b[0m         \u001b[0mpng_formatter\u001b[0m\u001b[0;34m.\u001b[0m\u001b[0mfor_type\u001b[0m\u001b[0;34m(\u001b[0m\u001b[0mFigure\u001b[0m\u001b[0;34m,\u001b[0m \u001b[0;32mlambda\u001b[0m \u001b[0mfig\u001b[0m\u001b[0;34m:\u001b[0m \u001b[0mretina_figure\u001b[0m\u001b[0;34m(\u001b[0m\u001b[0mfig\u001b[0m\u001b[0;34m,\u001b[0m \u001b[0;34m**\u001b[0m\u001b[0mkwargs\u001b[0m\u001b[0;34m)\u001b[0m\u001b[0;34m)\u001b[0m\u001b[0;34m\u001b[0m\u001b[0;34m\u001b[0m\u001b[0m\n",
      "\u001b[0;32m~/dev/lbl-crn/venv/lib/python3.8/site-packages/IPython/core/pylabtools.py\u001b[0m in \u001b[0;36mprint_figure\u001b[0;34m(fig, fmt, bbox_inches, **kwargs)\u001b[0m\n\u001b[1;32m    130\u001b[0m         \u001b[0mFigureCanvasBase\u001b[0m\u001b[0;34m(\u001b[0m\u001b[0mfig\u001b[0m\u001b[0;34m)\u001b[0m\u001b[0;34m\u001b[0m\u001b[0;34m\u001b[0m\u001b[0m\n\u001b[1;32m    131\u001b[0m \u001b[0;34m\u001b[0m\u001b[0m\n\u001b[0;32m--> 132\u001b[0;31m     \u001b[0mfig\u001b[0m\u001b[0;34m.\u001b[0m\u001b[0mcanvas\u001b[0m\u001b[0;34m.\u001b[0m\u001b[0mprint_figure\u001b[0m\u001b[0;34m(\u001b[0m\u001b[0mbytes_io\u001b[0m\u001b[0;34m,\u001b[0m \u001b[0;34m**\u001b[0m\u001b[0mkw\u001b[0m\u001b[0;34m)\u001b[0m\u001b[0;34m\u001b[0m\u001b[0;34m\u001b[0m\u001b[0m\n\u001b[0m\u001b[1;32m    133\u001b[0m     \u001b[0mdata\u001b[0m \u001b[0;34m=\u001b[0m \u001b[0mbytes_io\u001b[0m\u001b[0;34m.\u001b[0m\u001b[0mgetvalue\u001b[0m\u001b[0;34m(\u001b[0m\u001b[0;34m)\u001b[0m\u001b[0;34m\u001b[0m\u001b[0;34m\u001b[0m\u001b[0m\n\u001b[1;32m    134\u001b[0m     \u001b[0;32mif\u001b[0m \u001b[0mfmt\u001b[0m \u001b[0;34m==\u001b[0m \u001b[0;34m'svg'\u001b[0m\u001b[0;34m:\u001b[0m\u001b[0;34m\u001b[0m\u001b[0;34m\u001b[0m\u001b[0m\n",
      "\u001b[0;32m~/dev/lbl-crn/venv/lib/python3.8/site-packages/matplotlib/backend_bases.py\u001b[0m in \u001b[0;36mprint_figure\u001b[0;34m(self, filename, dpi, facecolor, edgecolor, orientation, format, bbox_inches, **kwargs)\u001b[0m\n\u001b[1;32m   2096\u001b[0m \u001b[0;34m\u001b[0m\u001b[0m\n\u001b[1;32m   2097\u001b[0m             \u001b[0;32mtry\u001b[0m\u001b[0;34m:\u001b[0m\u001b[0;34m\u001b[0m\u001b[0;34m\u001b[0m\u001b[0m\n\u001b[0;32m-> 2098\u001b[0;31m                 result = print_method(\n\u001b[0m\u001b[1;32m   2099\u001b[0m                     \u001b[0mfilename\u001b[0m\u001b[0;34m,\u001b[0m\u001b[0;34m\u001b[0m\u001b[0;34m\u001b[0m\u001b[0m\n\u001b[1;32m   2100\u001b[0m                     \u001b[0mdpi\u001b[0m\u001b[0;34m=\u001b[0m\u001b[0mdpi\u001b[0m\u001b[0;34m,\u001b[0m\u001b[0;34m\u001b[0m\u001b[0;34m\u001b[0m\u001b[0m\n",
      "\u001b[0;32m~/dev/lbl-crn/venv/lib/python3.8/site-packages/matplotlib/backends/backend_agg.py\u001b[0m in \u001b[0;36mprint_png\u001b[0;34m(self, filename_or_obj, metadata, pil_kwargs, *args, **kwargs)\u001b[0m\n\u001b[1;32m    512\u001b[0m         }\n\u001b[1;32m    513\u001b[0m \u001b[0;34m\u001b[0m\u001b[0m\n\u001b[0;32m--> 514\u001b[0;31m         \u001b[0mFigureCanvasAgg\u001b[0m\u001b[0;34m.\u001b[0m\u001b[0mdraw\u001b[0m\u001b[0;34m(\u001b[0m\u001b[0mself\u001b[0m\u001b[0;34m)\u001b[0m\u001b[0;34m\u001b[0m\u001b[0;34m\u001b[0m\u001b[0m\n\u001b[0m\u001b[1;32m    515\u001b[0m         \u001b[0;32mif\u001b[0m \u001b[0mpil_kwargs\u001b[0m \u001b[0;32mis\u001b[0m \u001b[0;32mnot\u001b[0m \u001b[0;32mNone\u001b[0m\u001b[0;34m:\u001b[0m\u001b[0;34m\u001b[0m\u001b[0;34m\u001b[0m\u001b[0m\n\u001b[1;32m    516\u001b[0m             \u001b[0;32mfrom\u001b[0m \u001b[0mPIL\u001b[0m \u001b[0;32mimport\u001b[0m \u001b[0mImage\u001b[0m\u001b[0;34m\u001b[0m\u001b[0;34m\u001b[0m\u001b[0m\n",
      "\u001b[0;32m~/dev/lbl-crn/venv/lib/python3.8/site-packages/matplotlib/backends/backend_agg.py\u001b[0m in \u001b[0;36mdraw\u001b[0;34m(self)\u001b[0m\n\u001b[1;32m    391\u001b[0m              (self.toolbar._wait_cursor_for_draw_cm() if self.toolbar\n\u001b[1;32m    392\u001b[0m               else nullcontext()):\n\u001b[0;32m--> 393\u001b[0;31m             \u001b[0mself\u001b[0m\u001b[0;34m.\u001b[0m\u001b[0mfigure\u001b[0m\u001b[0;34m.\u001b[0m\u001b[0mdraw\u001b[0m\u001b[0;34m(\u001b[0m\u001b[0mself\u001b[0m\u001b[0;34m.\u001b[0m\u001b[0mrenderer\u001b[0m\u001b[0;34m)\u001b[0m\u001b[0;34m\u001b[0m\u001b[0;34m\u001b[0m\u001b[0m\n\u001b[0m\u001b[1;32m    394\u001b[0m             \u001b[0;31m# A GUI class may be need to update a window using this draw, so\u001b[0m\u001b[0;34m\u001b[0m\u001b[0;34m\u001b[0m\u001b[0;34m\u001b[0m\u001b[0m\n\u001b[1;32m    395\u001b[0m             \u001b[0;31m# don't forget to call the superclass.\u001b[0m\u001b[0;34m\u001b[0m\u001b[0;34m\u001b[0m\u001b[0;34m\u001b[0m\u001b[0m\n",
      "\u001b[0;32m~/dev/lbl-crn/venv/lib/python3.8/site-packages/matplotlib/artist.py\u001b[0m in \u001b[0;36mdraw_wrapper\u001b[0;34m(artist, renderer, *args, **kwargs)\u001b[0m\n\u001b[1;32m     36\u001b[0m                 \u001b[0mrenderer\u001b[0m\u001b[0;34m.\u001b[0m\u001b[0mstart_filter\u001b[0m\u001b[0;34m(\u001b[0m\u001b[0;34m)\u001b[0m\u001b[0;34m\u001b[0m\u001b[0;34m\u001b[0m\u001b[0m\n\u001b[1;32m     37\u001b[0m \u001b[0;34m\u001b[0m\u001b[0m\n\u001b[0;32m---> 38\u001b[0;31m             \u001b[0;32mreturn\u001b[0m \u001b[0mdraw\u001b[0m\u001b[0;34m(\u001b[0m\u001b[0martist\u001b[0m\u001b[0;34m,\u001b[0m \u001b[0mrenderer\u001b[0m\u001b[0;34m,\u001b[0m \u001b[0;34m*\u001b[0m\u001b[0margs\u001b[0m\u001b[0;34m,\u001b[0m \u001b[0;34m**\u001b[0m\u001b[0mkwargs\u001b[0m\u001b[0;34m)\u001b[0m\u001b[0;34m\u001b[0m\u001b[0;34m\u001b[0m\u001b[0m\n\u001b[0m\u001b[1;32m     39\u001b[0m         \u001b[0;32mfinally\u001b[0m\u001b[0;34m:\u001b[0m\u001b[0;34m\u001b[0m\u001b[0;34m\u001b[0m\u001b[0m\n\u001b[1;32m     40\u001b[0m             \u001b[0;32mif\u001b[0m \u001b[0martist\u001b[0m\u001b[0;34m.\u001b[0m\u001b[0mget_agg_filter\u001b[0m\u001b[0;34m(\u001b[0m\u001b[0;34m)\u001b[0m \u001b[0;32mis\u001b[0m \u001b[0;32mnot\u001b[0m \u001b[0;32mNone\u001b[0m\u001b[0;34m:\u001b[0m\u001b[0;34m\u001b[0m\u001b[0;34m\u001b[0m\u001b[0m\n",
      "\u001b[0;32m~/dev/lbl-crn/venv/lib/python3.8/site-packages/matplotlib/figure.py\u001b[0m in \u001b[0;36mdraw\u001b[0;34m(self, renderer)\u001b[0m\n\u001b[1;32m   1733\u001b[0m \u001b[0;34m\u001b[0m\u001b[0m\n\u001b[1;32m   1734\u001b[0m             \u001b[0mself\u001b[0m\u001b[0;34m.\u001b[0m\u001b[0mpatch\u001b[0m\u001b[0;34m.\u001b[0m\u001b[0mdraw\u001b[0m\u001b[0;34m(\u001b[0m\u001b[0mrenderer\u001b[0m\u001b[0;34m)\u001b[0m\u001b[0;34m\u001b[0m\u001b[0;34m\u001b[0m\u001b[0m\n\u001b[0;32m-> 1735\u001b[0;31m             mimage._draw_list_compositing_images(\n\u001b[0m\u001b[1;32m   1736\u001b[0m                 renderer, self, artists, self.suppressComposite)\n\u001b[1;32m   1737\u001b[0m \u001b[0;34m\u001b[0m\u001b[0m\n",
      "\u001b[0;32m~/dev/lbl-crn/venv/lib/python3.8/site-packages/matplotlib/image.py\u001b[0m in \u001b[0;36m_draw_list_compositing_images\u001b[0;34m(renderer, parent, artists, suppress_composite)\u001b[0m\n\u001b[1;32m    135\u001b[0m     \u001b[0;32mif\u001b[0m \u001b[0mnot_composite\u001b[0m \u001b[0;32mor\u001b[0m \u001b[0;32mnot\u001b[0m \u001b[0mhas_images\u001b[0m\u001b[0;34m:\u001b[0m\u001b[0;34m\u001b[0m\u001b[0;34m\u001b[0m\u001b[0m\n\u001b[1;32m    136\u001b[0m         \u001b[0;32mfor\u001b[0m \u001b[0ma\u001b[0m \u001b[0;32min\u001b[0m \u001b[0martists\u001b[0m\u001b[0;34m:\u001b[0m\u001b[0;34m\u001b[0m\u001b[0;34m\u001b[0m\u001b[0m\n\u001b[0;32m--> 137\u001b[0;31m             \u001b[0ma\u001b[0m\u001b[0;34m.\u001b[0m\u001b[0mdraw\u001b[0m\u001b[0;34m(\u001b[0m\u001b[0mrenderer\u001b[0m\u001b[0;34m)\u001b[0m\u001b[0;34m\u001b[0m\u001b[0;34m\u001b[0m\u001b[0m\n\u001b[0m\u001b[1;32m    138\u001b[0m     \u001b[0;32melse\u001b[0m\u001b[0;34m:\u001b[0m\u001b[0;34m\u001b[0m\u001b[0;34m\u001b[0m\u001b[0m\n\u001b[1;32m    139\u001b[0m         \u001b[0;31m# Composite any adjacent images together\u001b[0m\u001b[0;34m\u001b[0m\u001b[0;34m\u001b[0m\u001b[0;34m\u001b[0m\u001b[0m\n",
      "\u001b[0;32m~/dev/lbl-crn/venv/lib/python3.8/site-packages/matplotlib/artist.py\u001b[0m in \u001b[0;36mdraw_wrapper\u001b[0;34m(artist, renderer, *args, **kwargs)\u001b[0m\n\u001b[1;32m     36\u001b[0m                 \u001b[0mrenderer\u001b[0m\u001b[0;34m.\u001b[0m\u001b[0mstart_filter\u001b[0m\u001b[0;34m(\u001b[0m\u001b[0;34m)\u001b[0m\u001b[0;34m\u001b[0m\u001b[0;34m\u001b[0m\u001b[0m\n\u001b[1;32m     37\u001b[0m \u001b[0;34m\u001b[0m\u001b[0m\n\u001b[0;32m---> 38\u001b[0;31m             \u001b[0;32mreturn\u001b[0m \u001b[0mdraw\u001b[0m\u001b[0;34m(\u001b[0m\u001b[0martist\u001b[0m\u001b[0;34m,\u001b[0m \u001b[0mrenderer\u001b[0m\u001b[0;34m,\u001b[0m \u001b[0;34m*\u001b[0m\u001b[0margs\u001b[0m\u001b[0;34m,\u001b[0m \u001b[0;34m**\u001b[0m\u001b[0mkwargs\u001b[0m\u001b[0;34m)\u001b[0m\u001b[0;34m\u001b[0m\u001b[0;34m\u001b[0m\u001b[0m\n\u001b[0m\u001b[1;32m     39\u001b[0m         \u001b[0;32mfinally\u001b[0m\u001b[0;34m:\u001b[0m\u001b[0;34m\u001b[0m\u001b[0;34m\u001b[0m\u001b[0m\n\u001b[1;32m     40\u001b[0m             \u001b[0;32mif\u001b[0m \u001b[0martist\u001b[0m\u001b[0;34m.\u001b[0m\u001b[0mget_agg_filter\u001b[0m\u001b[0;34m(\u001b[0m\u001b[0;34m)\u001b[0m \u001b[0;32mis\u001b[0m \u001b[0;32mnot\u001b[0m \u001b[0;32mNone\u001b[0m\u001b[0;34m:\u001b[0m\u001b[0;34m\u001b[0m\u001b[0;34m\u001b[0m\u001b[0m\n",
      "\u001b[0;32m~/dev/lbl-crn/venv/lib/python3.8/site-packages/matplotlib/axes/_base.py\u001b[0m in \u001b[0;36mdraw\u001b[0;34m(self, renderer, inframe)\u001b[0m\n\u001b[1;32m   2628\u001b[0m             \u001b[0mrenderer\u001b[0m\u001b[0;34m.\u001b[0m\u001b[0mstop_rasterizing\u001b[0m\u001b[0;34m(\u001b[0m\u001b[0;34m)\u001b[0m\u001b[0;34m\u001b[0m\u001b[0;34m\u001b[0m\u001b[0m\n\u001b[1;32m   2629\u001b[0m \u001b[0;34m\u001b[0m\u001b[0m\n\u001b[0;32m-> 2630\u001b[0;31m         \u001b[0mmimage\u001b[0m\u001b[0;34m.\u001b[0m\u001b[0m_draw_list_compositing_images\u001b[0m\u001b[0;34m(\u001b[0m\u001b[0mrenderer\u001b[0m\u001b[0;34m,\u001b[0m \u001b[0mself\u001b[0m\u001b[0;34m,\u001b[0m \u001b[0martists\u001b[0m\u001b[0;34m)\u001b[0m\u001b[0;34m\u001b[0m\u001b[0;34m\u001b[0m\u001b[0m\n\u001b[0m\u001b[1;32m   2631\u001b[0m \u001b[0;34m\u001b[0m\u001b[0m\n\u001b[1;32m   2632\u001b[0m         \u001b[0mrenderer\u001b[0m\u001b[0;34m.\u001b[0m\u001b[0mclose_group\u001b[0m\u001b[0;34m(\u001b[0m\u001b[0;34m'axes'\u001b[0m\u001b[0;34m)\u001b[0m\u001b[0;34m\u001b[0m\u001b[0;34m\u001b[0m\u001b[0m\n",
      "\u001b[0;32m~/dev/lbl-crn/venv/lib/python3.8/site-packages/matplotlib/image.py\u001b[0m in \u001b[0;36m_draw_list_compositing_images\u001b[0;34m(renderer, parent, artists, suppress_composite)\u001b[0m\n\u001b[1;32m    135\u001b[0m     \u001b[0;32mif\u001b[0m \u001b[0mnot_composite\u001b[0m \u001b[0;32mor\u001b[0m \u001b[0;32mnot\u001b[0m \u001b[0mhas_images\u001b[0m\u001b[0;34m:\u001b[0m\u001b[0;34m\u001b[0m\u001b[0;34m\u001b[0m\u001b[0m\n\u001b[1;32m    136\u001b[0m         \u001b[0;32mfor\u001b[0m \u001b[0ma\u001b[0m \u001b[0;32min\u001b[0m \u001b[0martists\u001b[0m\u001b[0;34m:\u001b[0m\u001b[0;34m\u001b[0m\u001b[0;34m\u001b[0m\u001b[0m\n\u001b[0;32m--> 137\u001b[0;31m             \u001b[0ma\u001b[0m\u001b[0;34m.\u001b[0m\u001b[0mdraw\u001b[0m\u001b[0;34m(\u001b[0m\u001b[0mrenderer\u001b[0m\u001b[0;34m)\u001b[0m\u001b[0;34m\u001b[0m\u001b[0;34m\u001b[0m\u001b[0m\n\u001b[0m\u001b[1;32m    138\u001b[0m     \u001b[0;32melse\u001b[0m\u001b[0;34m:\u001b[0m\u001b[0;34m\u001b[0m\u001b[0;34m\u001b[0m\u001b[0m\n\u001b[1;32m    139\u001b[0m         \u001b[0;31m# Composite any adjacent images together\u001b[0m\u001b[0;34m\u001b[0m\u001b[0;34m\u001b[0m\u001b[0;34m\u001b[0m\u001b[0m\n",
      "\u001b[0;32m~/dev/lbl-crn/venv/lib/python3.8/site-packages/matplotlib/artist.py\u001b[0m in \u001b[0;36mdraw_wrapper\u001b[0;34m(artist, renderer, *args, **kwargs)\u001b[0m\n\u001b[1;32m     36\u001b[0m                 \u001b[0mrenderer\u001b[0m\u001b[0;34m.\u001b[0m\u001b[0mstart_filter\u001b[0m\u001b[0;34m(\u001b[0m\u001b[0;34m)\u001b[0m\u001b[0;34m\u001b[0m\u001b[0;34m\u001b[0m\u001b[0m\n\u001b[1;32m     37\u001b[0m \u001b[0;34m\u001b[0m\u001b[0m\n\u001b[0;32m---> 38\u001b[0;31m             \u001b[0;32mreturn\u001b[0m \u001b[0mdraw\u001b[0m\u001b[0;34m(\u001b[0m\u001b[0martist\u001b[0m\u001b[0;34m,\u001b[0m \u001b[0mrenderer\u001b[0m\u001b[0;34m,\u001b[0m \u001b[0;34m*\u001b[0m\u001b[0margs\u001b[0m\u001b[0;34m,\u001b[0m \u001b[0;34m**\u001b[0m\u001b[0mkwargs\u001b[0m\u001b[0;34m)\u001b[0m\u001b[0;34m\u001b[0m\u001b[0;34m\u001b[0m\u001b[0m\n\u001b[0m\u001b[1;32m     39\u001b[0m         \u001b[0;32mfinally\u001b[0m\u001b[0;34m:\u001b[0m\u001b[0;34m\u001b[0m\u001b[0;34m\u001b[0m\u001b[0m\n\u001b[1;32m     40\u001b[0m             \u001b[0;32mif\u001b[0m \u001b[0martist\u001b[0m\u001b[0;34m.\u001b[0m\u001b[0mget_agg_filter\u001b[0m\u001b[0;34m(\u001b[0m\u001b[0;34m)\u001b[0m \u001b[0;32mis\u001b[0m \u001b[0;32mnot\u001b[0m \u001b[0;32mNone\u001b[0m\u001b[0;34m:\u001b[0m\u001b[0;34m\u001b[0m\u001b[0;34m\u001b[0m\u001b[0m\n",
      "\u001b[0;32m~/dev/lbl-crn/venv/lib/python3.8/site-packages/matplotlib/patches.py\u001b[0m in \u001b[0;36mdraw\u001b[0;34m(self, renderer)\u001b[0m\n\u001b[1;32m    596\u001b[0m             \u001b[0mtpath\u001b[0m \u001b[0;34m=\u001b[0m \u001b[0mtransform\u001b[0m\u001b[0;34m.\u001b[0m\u001b[0mtransform_path_non_affine\u001b[0m\u001b[0;34m(\u001b[0m\u001b[0mpath\u001b[0m\u001b[0;34m)\u001b[0m\u001b[0;34m\u001b[0m\u001b[0;34m\u001b[0m\u001b[0m\n\u001b[1;32m    597\u001b[0m             \u001b[0maffine\u001b[0m \u001b[0;34m=\u001b[0m \u001b[0mtransform\u001b[0m\u001b[0;34m.\u001b[0m\u001b[0mget_affine\u001b[0m\u001b[0;34m(\u001b[0m\u001b[0;34m)\u001b[0m\u001b[0;34m\u001b[0m\u001b[0;34m\u001b[0m\u001b[0m\n\u001b[0;32m--> 598\u001b[0;31m             draw_path(tpath, affine,\n\u001b[0m\u001b[1;32m    599\u001b[0m                       \u001b[0;31m# Work around a bug in the PDF and SVG renderers, which\u001b[0m\u001b[0;34m\u001b[0m\u001b[0;34m\u001b[0m\u001b[0;34m\u001b[0m\u001b[0m\n\u001b[1;32m    600\u001b[0m                       \u001b[0;31m# do not draw the hatches if the facecolor is fully\u001b[0m\u001b[0;34m\u001b[0m\u001b[0;34m\u001b[0m\u001b[0;34m\u001b[0m\u001b[0m\n",
      "\u001b[0;32m~/dev/lbl-crn/venv/lib/python3.8/site-packages/matplotlib/backends/backend_agg.py\u001b[0m in \u001b[0;36mdraw_path\u001b[0;34m(self, gc, path, transform, rgbFace)\u001b[0m\n\u001b[1;32m    150\u001b[0m         \u001b[0;32melse\u001b[0m\u001b[0;34m:\u001b[0m\u001b[0;34m\u001b[0m\u001b[0;34m\u001b[0m\u001b[0m\n\u001b[1;32m    151\u001b[0m             \u001b[0;32mtry\u001b[0m\u001b[0;34m:\u001b[0m\u001b[0;34m\u001b[0m\u001b[0;34m\u001b[0m\u001b[0m\n\u001b[0;32m--> 152\u001b[0;31m                 \u001b[0mself\u001b[0m\u001b[0;34m.\u001b[0m\u001b[0m_renderer\u001b[0m\u001b[0;34m.\u001b[0m\u001b[0mdraw_path\u001b[0m\u001b[0;34m(\u001b[0m\u001b[0mgc\u001b[0m\u001b[0;34m,\u001b[0m \u001b[0mpath\u001b[0m\u001b[0;34m,\u001b[0m \u001b[0mtransform\u001b[0m\u001b[0;34m,\u001b[0m \u001b[0mrgbFace\u001b[0m\u001b[0;34m)\u001b[0m\u001b[0;34m\u001b[0m\u001b[0;34m\u001b[0m\u001b[0m\n\u001b[0m\u001b[1;32m    153\u001b[0m             \u001b[0;32mexcept\u001b[0m \u001b[0mOverflowError\u001b[0m\u001b[0;34m:\u001b[0m\u001b[0;34m\u001b[0m\u001b[0;34m\u001b[0m\u001b[0m\n\u001b[1;32m    154\u001b[0m                 raise OverflowError(\"Exceeded cell block limit (set \"\n",
      "\u001b[0;31mKeyboardInterrupt\u001b[0m: "
     ]
    }
   ],
   "source": [
    "sys.plot(0)"
   ]
  },
  {
   "cell_type": "code",
   "execution_count": null,
   "metadata": {},
   "outputs": [],
   "source": [
    "sys.time_series_at(0, 0).plot()"
   ]
  },
  {
   "cell_type": "code",
   "execution_count": 8,
   "metadata": {},
   "outputs": [],
   "source": [
    "ts = sys.time_series_at(0, 0)"
   ]
  },
  {
   "cell_type": "code",
   "execution_count": 55,
   "metadata": {},
   "outputs": [
    {
     "data": {
      "text/plain": [
       "species\n",
       "v_2n           1.250570e-14\n",
       "v_2n_2h        6.922144e-11\n",
       "v_2n_n2        1.533272e-12\n",
       "v_2n_nh        1.189575e-07\n",
       "v_2n_nh2_h     7.086804e-04\n",
       "v_2n_nh3       2.061298e-10\n",
       "v_2n_nh_2h     1.317812e-08\n",
       "v_3n_h         1.187791e-03\n",
       "v_3n_nh2_2h    8.043170e-04\n",
       "v_3n_nh3_h     2.032950e-04\n",
       "v_3nh2         9.888185e-01\n",
       "v_3nh_h        5.360636e-05\n",
       "v_4n           8.223685e-03\n",
       "v_h2           1.500461e+01\n",
       "v_n2           5.000000e+00\n",
       "v_nh3          1.896604e-03\n",
       "Name: 99.99998866205699, dtype: float64"
      ]
     },
     "execution_count": 55,
     "metadata": {},
     "output_type": "execute_result"
    }
   ],
   "source": [
    "ts.at(100)"
   ]
  },
  {
   "cell_type": "code",
   "execution_count": 56,
   "metadata": {},
   "outputs": [],
   "source": [
    "sampled = []\n",
    "x_range = []\n",
    "for i in range(len(ts.at(i))):\n",
    "    sampled.append([])\n",
    "for i in range(201):\n",
    "    i = i\n",
    "    x = ts.at(i)\n",
    "    x_range.append(i)\n",
    "    for j in range(len(x)):\n",
    "        sampled[j].append(x[j])\n",
    "        "
   ]
  },
  {
   "cell_type": "code",
   "execution_count": 57,
   "metadata": {},
   "outputs": [
    {
     "data": {
      "text/latex": [
       "$\\displaystyle v_{2n}$"
      ],
      "text/plain": [
       "v_2n"
      ]
     },
     "execution_count": 57,
     "metadata": {},
     "output_type": "execute_result"
    }
   ],
   "source": [
    "tt = ts.at(200)\n",
    "tt.keys()[0]"
   ]
  },
  {
   "cell_type": "code",
   "execution_count": 65,
   "metadata": {},
   "outputs": [
    {
     "data": {
      "image/png": "[encoded data removed]",
      "text/plain": [
       "<Figure size 432x288 with 1 Axes>"
      ]
     },
     "metadata": {
      "needs_background": "light"
     },
     "output_type": "display_data"
    }
   ],
   "source": [
    "start = ts.at(0)\n",
    "for i in range(len(start)):\n",
    "    if str(start.keys()[i]) in [\"v_h2\", \"v_n2\", \"v_3nh2\"]:\n",
    "        continue\n",
    "    plt.plot(x_range, sampled[i], label=start.keys()[i])\n",
    "plt.legend()\n",
    "plt.show()"
   ]
  },
  {
   "cell_type": "markdown",
   "metadata": {},
   "source": []
  }
 ],
 "metadata": {
  "kernelspec": {
   "display_name": "Python 3",
   "language": "python",
   "name": "python3"
  },
  "language_info": {
   "codemirror_mode": {
    "name": "ipython",
    "version": 3
   },
   "file_extension": ".py",
   "mimetype": "text/x-python",
   "name": "python",
   "nbconvert_exporter": "python",
   "pygments_lexer": "ipython3",
   "version": "3.8.0"
  }
 },
 "nbformat": 4,
 "nbformat_minor": 4
}
