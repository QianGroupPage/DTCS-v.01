{
 "cells": [
  {
   "cell_type": "code",
   "execution_count": 1,
   "metadata": {},
   "outputs": [],
   "source": [
    "from lblcrn.bulk_crn import *\n",
    "from lblcrn.crn_sym import *\n",
    "from lblcrn.experiments.xps_io import *\n",
    "from lblcrn.experiments.solution_system import *\n",
    "from lblcrn.experiments.tp_correlation import *\n",
    "\n",
    "import matplotlib.pyplot as plt\n",
    "import pickle\n",
    "import pandas as pd\n",
    "import numpy as np\n",
    "import seaborn as sb\n",
    "import scipy.signal as signal\n",
    "from mpl_toolkits.axes_grid1 import ImageGrid"
   ]
  },
  {
   "cell_type": "code",
   "execution_count": 2,
   "metadata": {},
   "outputs": [
    {
     "name": "stdout",
     "output_type": "stream",
     "text": [
      "ZPE: 11.583\n",
      "H: {298.15: 2.371, 323.15: 2.571, 348.15: 2.771, 373.15: 2.972, 398.15: 3.174, 423.15: 3.377, 448.15: 3.581, 473.15: 3.787, 498.15: 3.993, 523.15: 4.202, 548.15: 4.412, 573.15: 4.624, 598.15: 4.838, 623.15: 5.054, 648.15: 5.272, 673.15: 5.492, 698.15: 5.715, 723.15: 5.939, 748.15: 6.166, 773.15: 6.395, 798.15: 6.626}\n",
      "S: {298.15: 45.448, 323.15: 46.092, 348.15: 46.689, 373.15: 47.246, 398.15: 47.77, 423.15: 48.264, 448.15: 48.733, 473.15: 49.179, 498.15: 49.605, 523.15: 50.014, 548.15: 50.407, 573.15: 50.785, 598.15: 51.15, 623.15: 51.504, 648.15: 51.847, 673.15: 52.18, 698.15: 52.504, 723.15: 52.82, 748.15: 53.128, 773.15: 53.429, 798.15: 53.724}\n"
     ]
    }
   ],
   "source": [
    "sm = SpeciesManager()\n",
    "\n",
    "y1 = sm.sp('y1', Orbital('1s', 535.0))\n",
    "x2 = sm.sp('x2', Orbital('1s', 532.2))\n",
    "x3 = sm.sp('x3', Orbital('1s', 530.9))\n",
    "x4 = sm.sp('x4', Orbital('1s', 530.0))\n",
    "x53 = sm.sp('x53', Orbital('1s', 531.6))\n",
    "x54 = sm.sp('x54', Orbital('1s', 531.6))\n",
    "x6 = sm.sp('x6', Orbital('1s', 533.2))\n",
    "x7 = sm.sp('x7', Orbital('1s', 535.0))\n",
    "\n",
    "multipliers = [0.1, 0.5, 1, 5, 10]\n",
    "\n",
    "# constants=[0.236191, 0.169813, 2.023611, 0.494166, 0.628183, 0.501633, 4.283841, 0.116718, 2.944421, 2.116930, 0.152889, 3.270343, 0.329519, 1.111032]\n",
    "highp_hight = XPSInitializationData(\n",
    "                'High P, High T',\n",
    "                '../data/ag_100e-3_300.txt',\n",
    "                573.15,\n",
    "                100e-3\n",
    "            )\n",
    "\n",
    "# constants=[0.000039, 0.000017, 6.220646, 0.1607555, 0.299507, 0.167130, 0.794455, 0.000006, 0.300480, 0.127713, 0.000013, 0.394500, 0.000960, 76.964514]\n",
    "lowp_rt = XPSInitializationData(\n",
    "                'Low P,  RT',\n",
    "                '../data/ag_1e-5_25.txt',\n",
    "                298.15,\n",
    "                1e-5\n",
    "            )\n",
    "\n",
    "init_data = [highp_hight, lowp_rt]\n",
    "\n",
    "tp_correlator = XPSTPCorrelator(\n",
    "    '../../data/H2O.01.out',\n",
    "    573.15,\n",
    "    100e-3,\n",
    "    [],\n",
    "    [],\n",
    "    init_constants = [0.236191, 0.169813, 2.023611, 0.494166, 0.628183, 0.501633, 4.283841, 0.116718, 2.944421, 2.116930, 0.152889, 3.270343, 0.329519, 1.111032],\n",
    ")"
   ]
  },
  {
   "cell_type": "code",
   "execution_count": 3,
   "metadata": {},
   "outputs": [],
   "source": [
    "def rsys_generator(scaled):\n",
    "    rsys = RxnSystem(\n",
    "        Rxn(x4 + y1, x54, scaled[0]), # 0\n",
    "        Rxn(x3 + y1, x53, scaled[1]), # 1\n",
    "        Rxn(x54, x3 + x3, scaled[2]), # 2\n",
    "        Rxn(x3 + x3, x54, scaled[3]), # 3\n",
    "        Rxn(x53, x2 + x3, scaled[4]), # 4\n",
    "        Rxn(x54, x2 + x4, scaled[5]), # 5\n",
    "        Rxn(x2, y1, scaled[6]), # 6\n",
    "        Rxn(y1, x2, scaled[7]), # 7\n",
    "        Rxn(x53, y1 + x3, scaled[8]), # 8\n",
    "        Rxn(x54, x4 + y1, scaled[9]), # 9\n",
    "        Rxn(x53 + y1, x6, scaled[10]), # 10\n",
    "        Rxn(x6, x53 + y1, scaled[11]), # 11\n",
    "        Rxn(x4 + x4, x7, scaled[12]), # 12\n",
    "        Rxn(x7, x4 + x4, scaled[13]), # 13\n",
    "        Conc(y1, 1.0),\n",
    "        Conc(x4, 0.25),\n",
    "        sm\n",
    "    )\n",
    "    return rsys"
   ]
  },
  {
   "cell_type": "code",
   "execution_count": 4,
   "metadata": {},
   "outputs": [
    {
     "name": "stdout",
     "output_type": "stream",
     "text": [
      "[0.236191, 0.169813, 2.023611, 0.494166, 0.628183, 0.501633, 4.283841, 0.116718, 2.944421, 2.11693, 0.152889, 3.270343, 0.329519, 1.111032]\n",
      "[0.236191, 0.169813, 2.023611, 0.494166, 0.628183, 0.501633, 4.283841, 0.116718, 2.944421, 2.11693, 0.152889, 3.270343, 0.329519, 1.111032]\n"
     ]
    }
   ],
   "source": [
    "runner = XPSSystemRunner(rsys_generator, 10000, init_data, multipliers, tp_correlator=tp_correlator)"
   ]
  },
  {
   "cell_type": "code",
   "execution_count": null,
   "metadata": {},
   "outputs": [],
   "source": []
  }
 ],
 "metadata": {
  "kernelspec": {
   "display_name": "Python 3",
   "language": "python",
   "name": "python3"
  },
  "language_info": {
   "codemirror_mode": {
    "name": "ipython",
    "version": 3
   },
   "file_extension": ".py",
   "mimetype": "text/x-python",
   "name": "python",
   "nbconvert_exporter": "python",
   "pygments_lexer": "ipython3",
   "version": "3.8.0"
  }
 },
 "nbformat": 4,
 "nbformat_minor": 4
}
