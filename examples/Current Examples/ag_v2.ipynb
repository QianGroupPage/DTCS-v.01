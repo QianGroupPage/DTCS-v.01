{
 "cells": [
  {
   "cell_type": "code",
   "execution_count": 1,
   "metadata": {},
   "outputs": [],
   "source": [
    "from lblcrn.bulk_crn import *\n",
    "from lblcrn.crn_sym import *\n",
    "from lblcrn.experiments.xps_io import *\n",
    "from lblcrn.experiments.solution_system import *\n",
    "import matplotlib.pyplot as plt\n",
    "import pickle\n",
    "import pandas as pd\n",
    "import numpy as np\n",
    "import seaborn as sb\n",
    "import scipy.signal as signal\n",
    "from mpl_toolkits.axes_grid1 import ImageGrid"
   ]
  },
  {
   "cell_type": "code",
   "execution_count": 4,
   "metadata": {},
   "outputs": [],
   "source": [
    "sm = SpeciesManager()\n",
    "\n",
    "y1 = sm.sp('y1', Orbital('1s', 535.0))\n",
    "x2 = sm.sp('x2', Orbital('1s', 532.2))\n",
    "x3 = sm.sp('x3', Orbital('1s', 530.9))\n",
    "x4 = sm.sp('x4', Orbital('1s', 530.0))\n",
    "x53 = sm.sp('x53', Orbital('1s', 531.6))\n",
    "x54 = sm.sp('x54', Orbital('1s', 531.6))\n",
    "x6 = sm.sp('x6', Orbital('1s', 533.2))\n",
    "x7 = sm.sp('x7', Orbital('1s', 535.0))\n",
    "\n",
    "multipliers = [0.1, 0.5, 1, 5, 10]\n",
    "\n",
    "highp_hight = XPSInitializationData(\n",
    "                'High P, High T',\n",
    "                [0.236191, 0.169813, 2.023611, 0.494166, 0.628183, 0.501633, 4.283841, 0.116718, 2.944421, 2.116930, 0.152889, 3.270343, 0.329519, 1.111032],\n",
    "                '../data/ag_100e-3_300.txt'\n",
    "            )\n",
    "\n",
    "lowp_rt = XPSInitializationData(\n",
    "                'Low P,  RT',\n",
    "                [0.000039, 0.000017, 6.220646, 0.1607555, 0.299507, 0.167130, 0.794455, 0.000006, 0.300480, 0.127713, 0.000013, 0.394500, 0.000960, 76.964514],\n",
    "                '../data/ag_1e-5_25.txt'\n",
    "            )\n",
    "init_data = [highp_hight]"
   ]
  },
  {
   "cell_type": "code",
   "execution_count": null,
   "metadata": {},
   "outputs": [],
   "source": [
    "def rsys_generator(scaled):\n",
    "    rsys = RxnSystem(\n",
    "        Rxn(x4 + y1, x54, scaled[0]), # 0\n",
    "        Rxn(x3 + y1, x53, scaled[1]), # 1\n",
    "        Rxn(x54, x3 + x3, scaled[2]), # 2\n",
    "        Rxn(x3 + x3, x54, scaled[3]), # 3\n",
    "        Rxn(x53, x2 + x3, scaled[4]), # 4\n",
    "        Rxn(x54, x2 + x4, scaled[5]), # 5\n",
    "        Rxn(x2, y1, scaled[6]), # 6\n",
    "        Rxn(y1, x2, scaled[7]), # 7\n",
    "        Rxn(x53, y1 + x3, scaled[8]), # 8\n",
    "        Rxn(x54, x4 + y1, scaled[9]), # 9\n",
    "        Rxn(x53 + y1, x6, scaled[10]), # 10\n",
    "        Rxn(x6, x53 + y1, scaled[11]), # 11\n",
    "        Rxn(x4 + x4, x7, scaled[12]), # 12\n",
    "        Rxn(x7, x4 + x4, scaled[13]), # 13\n",
    "        Conc(y1, 1.0),\n",
    "        Conc(x4, 0.25),\n",
    "        sm\n",
    "    )\n",
    "    return rsys"
   ]
  },
  {
   "cell_type": "code",
   "execution_count": null,
   "metadata": {},
   "outputs": [],
   "source": [
    "runner = XPSSystemRunner(rsys_generator, 10000, init_data, multipliers)"
   ]
  },
  {
   "cell_type": "code",
   "execution_count": null,
   "metadata": {},
   "outputs": [],
   "source": [
    "runner.simulate(0)"
   ]
  },
  {
   "cell_type": "code",
   "execution_count": null,
   "metadata": {},
   "outputs": [],
   "source": [
    "import pickle\n",
    "with open('../ag_v2.pkl', 'wb') as f:\n",
    "    pickle.dump(runner, f)"
   ]
  },
  {
   "cell_type": "code",
   "execution_count": null,
   "metadata": {},
   "outputs": [],
   "source": [
    "runner = pickle.load(open('../data/ag_v2.pkl', 'rb'))"
   ]
  },
  {
   "cell_type": "code",
   "execution_count": null,
   "metadata": {},
   "outputs": [],
   "source": [
    "sys = runner.system()"
   ]
  },
  {
   "cell_type": "code",
   "execution_count": null,
   "metadata": {},
   "outputs": [],
   "source": [
    "sys.ignore = [y1]"
   ]
  },
  {
   "cell_type": "code",
   "execution_count": null,
   "metadata": {},
   "outputs": [],
   "source": [
    "sys.plot(0)"
   ]
  },
  {
   "cell_type": "code",
   "execution_count": null,
   "metadata": {},
   "outputs": [],
   "source": []
  }
 ],
 "metadata": {
  "kernelspec": {
   "display_name": "Python 3",
   "language": "python",
   "name": "python3"
  },
  "language_info": {
   "codemirror_mode": {
    "name": "ipython",
    "version": 3
   },
   "file_extension": ".py",
   "mimetype": "text/x-python",
   "name": "python",
   "nbconvert_exporter": "python",
   "pygments_lexer": "ipython3",
   "version": "3.7.7"
  }
 },
 "nbformat": 4,
 "nbformat_minor": 4
}
