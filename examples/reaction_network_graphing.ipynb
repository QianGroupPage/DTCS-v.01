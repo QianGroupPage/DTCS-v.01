{
 "cells": [
  {
   "cell_type": "code",
   "execution_count": 1,
   "metadata": {},
   "outputs": [],
   "source": [
    "from lblcrn.bulk_crn import *\n",
    "from lblcrn.experiments.xps_io import *\n",
    "from lblcrn.experiments.solution_system import *\n",
    "from lblcrn.crn_sym import *\n",
    "from lblcrn.experiments.simulate import simulate\n",
    "from lblcrn.experiments.xps_io import read_exp\n",
    "import pickle\n",
    "import pandas as pd\n",
    "import numpy as np\n",
    "import seaborn as sb\n",
    "import scipy.signal as signal\n",
    "from mpl_toolkits.axes_grid1 import ImageGrid"
   ]
  },
  {
   "cell_type": "code",
   "execution_count": 2,
   "metadata": {},
   "outputs": [],
   "source": [
    "sm = SpeciesManager()\n",
    "\n",
    "v_3n_nh2 = sm.sp('v_3n_nh2', Orbital('1s', 535.0))\n",
    "v_h2 = sm.sp('v_h2', Orbital('1s', 532.2))\n",
    "v_3n_nh2_2h = sm.sp('v_3n_nh2_2h', Orbital('1s', 530.9))\n",
    "v_3n_nh3_h = sm.sp('v_3n_nh3_h', Orbital('1s', 530.0))\n",
    "v_3n_h = sm.sp('v_3n_h', Orbital('1s', 530.0))\n",
    "v_nh3 = sm.sp('v_nh3', Orbital('1s', 530.0))\n",
    "v_2n_nh = sm.sp('v_2n_nh', Orbital('1s', 530.0))\n",
    "v_2n_nh_2h = sm.sp('v_2n_nh_2h', Orbital('1s', 530.0))\n",
    "v_2n_nh2_h = sm.sp('v_2n_nh2_h', Orbital('1s', 530.0))\n",
    "v_2n_nh3 = sm.sp('v_2n_nh3', Orbital('1s', 530.0))\n",
    "v_2n = sm.sp('v_2n', Orbital('1s', 530.0))\n",
    "v_n2 = sm.sp('v_n2', Orbital('1s', 530.0))\n",
    "v_2n_n2 = sm.sp('v_2n_n2', Orbital('1s', 530.0))\n",
    "v_4n = sm.sp('v_4n', Orbital('1s', 530.0))\n",
    "v_3n_nh_h = sm.sp('v_3nh_h', Orbital('1s', 530.0))\n",
    "v_3n_nh2 = sm.sp('v_3nh2', Orbital('1s', 530.0))\n",
    "v_2n_2h = sm.sp('v_2n_2h', Orbital('1s', 530.0))\n",
    "\n",
    "\n",
    "constants = [7.67e8, 1.41e13, 2.6e6, 2.48e4, 1.03e7, 6.66e2, 1.84e6, 7.2e9, 7.67e8, 3.04e9, 1.6e11, 1.1e6, 1.14e0, 7.79e5,\n",
    "            3.91e5, 3.14e3, 8.69e6, 4.1e7, 7.2e9, 1.35, 2.77e5, 6.45e8, 1.41e13, 7.67e8, 7.67e8, 1.48e4]\n",
    "constants = [10e-9 * c for c in constants]\n",
    "multipliers = [1]\n",
    "\n",
    "main = XPSInitializationData(\n",
    "                'High P, High T',\n",
    "                0,\n",
    "                0,\n",
    "                constants=constants\n",
    "            )\n",
    "\n",
    "init_data = [main]\n",
    "\n",
    "def rsys_generator(scaled):\n",
    "    rsys = RxnSystem(\n",
    "        RevRxn(v_3n_nh2 + v_h2, v_3n_nh2_2h, scaled[0], scaled[1]),\n",
    "        RevRxn(v_3n_nh2_2h, v_3n_nh3_h, scaled[2], scaled[3]),\n",
    "        RevRxn(v_3n_nh3_h, v_3n_h + v_nh3, scaled[4], scaled[5]),\n",
    "        RevRxn(v_3n_h, v_2n_nh, scaled[6], scaled[7]),\n",
    "        RevRxn(v_2n_nh + v_h2, v_2n_nh_2h, scaled[8], scaled[9]),\n",
    "        RevRxn(v_2n_nh_2h, v_2n_nh2_h, scaled[10], scaled[11]),\n",
    "        RevRxn(v_2n_nh2_h, v_2n_nh3, scaled[12], scaled[13]),\n",
    "        RevRxn(v_2n_nh3, v_2n + v_nh3, scaled[14], scaled[15]),\n",
    "        RevRxn(v_2n + v_n2, v_2n_n2, scaled[16], scaled[17]),\n",
    "        RevRxn(v_2n_n2, v_4n, scaled[18], scaled[19]),\n",
    "        RevRxn(v_4n + v_h2, v_3n_nh_h, scaled[20], scaled[21]),\n",
    "        RevRxn(v_3n_nh_h, v_3n_nh2, scaled[22], scaled[23]),\n",
    "        RevRxn(v_2n + v_h2, v_2n_2h, scaled[24], scaled[25]),\n",
    "\n",
    "        Conc(v_n2, 5),\n",
    "        Conc(v_h2, 15),\n",
    "        Conc(v_3n_nh2, 1), # 2-20 range\n",
    "        sm\n",
    "    )\n",
    "    return rsys"
   ]
  },
  {
   "cell_type": "code",
   "execution_count": 3,
   "metadata": {},
   "outputs": [
    {
     "data": {
      "text/html": [
       "\n",
       "        <iframe\n",
       "            width=\"100%\"\n",
       "            height=\"650\"\n",
       "            src=\"http://127.0.0.1:8050/\"\n",
       "            frameborder=\"0\"\n",
       "            allowfullscreen\n",
       "        ></iframe>\n",
       "        "
      ],
      "text/plain": [
       "<IPython.lib.display.IFrame at 0x134a338e0>"
      ]
     },
     "metadata": {},
     "output_type": "display_data"
    }
   ],
   "source": [
    "constants = [1]*26\n",
    "constants[1] = 10\n",
    "constants[2] = 3\n",
    "#constants = [7.67e8, 1.41e13, 2.6e6, 2.48e4, 1.03e7, 6.66e2, 1.84e6, 7.2e9, 7.67e8, 3.04e9, 1.6e11, 1.1e6, 1.14e0, 7.79e5,\n",
    "            #3.91e5, 3.14e3, 8.69e6, 4.1e7, 7.2e9, 1.35, 2.77e5, 6.45e8, 1.41e13, 7.67e8, 7.67e8, 1.48e4]\n",
    "rsys = rsys_generator(constants)\n",
    "rsys.plot()"
   ]
  },
  {
   "cell_type": "code",
   "execution_count": 4,
   "metadata": {},
   "outputs": [
    {
     "data": {
      "text/plain": [
       "'1 unit of v_3nh2 and 1 unit of v_h2 are converted to 1 unit of v_3n_nh2_2h at a rate of 1. 1 unit of v_3n_nh2_2h is converted to 1 unit of v_3n_nh3_h at a rate of 3. 1 unit of v_3n_nh3_h is converted to 1 unit of v_3n_h and 1 unit of v_nh3 at a rate of 1. 1 unit of v_3n_h is converted to 1 unit of v_2n_nh at a rate of 1. 1 unit of v_2n_nh and 1 unit of v_h2 are converted to 1 unit of v_2n_nh_2h at a rate of 1. 1 unit of v_2n_nh_2h is converted to 1 unit of v_2n_nh2_h at a rate of 1. 1 unit of v_2n_nh2_h is converted to 1 unit of v_2n_nh3 at a rate of 1. 1 unit of v_2n_nh3 is converted to 1 unit of v_2n and 1 unit of v_nh3 at a rate of 1. 1 unit of v_2n and 1 unit of v_n2 are converted to 1 unit of v_2n_n2 at a rate of 1. 1 unit of v_2n_n2 is converted to 1 unit of v_4n at a rate of 1. 1 unit of v_4n and 1 unit of v_h2 are converted to 1 unit of v_3nh_h at a rate of 1. 1 unit of v_3nh_h is converted to 1 unit of v_3nh2 at a rate of 1. 1 unit of v_2n and 1 unit of v_h2 are converted to 1 unit of v_2n_2h at a rate of 1.'"
      ]
     },
     "execution_count": 4,
     "metadata": {},
     "output_type": "execute_result"
    }
   ],
   "source": [
    "\n",
    "rsys.text()"
   ]
  },
  {
   "cell_type": "code",
   "execution_count": 5,
   "metadata": {},
   "outputs": [],
   "source": [
    "sm = SpeciesManager()\n",
    "v = sm.sp('virus')\n",
    "h = sm.sp('healthy')\n",
    "inf = sm.sp('infected')\n",
    "\n",
    "rsys = RxnSystem(\n",
    "    sm,\n",
    "    Rxn(h + v, inf , 2e-7), \n",
    "    Rxn(inf, None, 0.5),\n",
    "    Rxn(h, None, 0.2),\n",
    "    Rxn(v, None, 5),\n",
    "    Rxn(None, h, 1e5),\n",
    "    Rxn(inf, v + inf, 100),\n",
    "    \n",
    "    Conc(h, 1000000),\n",
    "    Conc(v, 100),\n",
    ")"
   ]
  },
  {
   "cell_type": "code",
   "execution_count": 6,
   "metadata": {},
   "outputs": [
    {
     "data": {
      "text/html": [
       "\n",
       "        <iframe\n",
       "            width=\"100%\"\n",
       "            height=\"650\"\n",
       "            src=\"http://127.0.0.1:8050/\"\n",
       "            frameborder=\"0\"\n",
       "            allowfullscreen\n",
       "        ></iframe>\n",
       "        "
      ],
      "text/plain": [
       "<IPython.lib.display.IFrame at 0x1349f2dc0>"
      ]
     },
     "metadata": {},
     "output_type": "display_data"
    }
   ],
   "source": [
    "rsys.plot()"
   ]
  },
  {
   "cell_type": "code",
   "execution_count": null,
   "metadata": {},
   "outputs": [],
   "source": []
  },
  {
   "cell_type": "code",
   "execution_count": null,
   "metadata": {},
   "outputs": [],
   "source": []
  }
 ],
 "metadata": {
  "kernelspec": {
   "display_name": "Python 3",
   "language": "python",
   "name": "python3"
  },
  "language_info": {
   "codemirror_mode": {
    "name": "ipython",
    "version": 3
   },
   "file_extension": ".py",
   "mimetype": "text/x-python",
   "name": "python",
   "nbconvert_exporter": "python",
   "pygments_lexer": "ipython3",
   "version": "3.8.0"
  }
 },
 "nbformat": 4,
 "nbformat_minor": 4
}
