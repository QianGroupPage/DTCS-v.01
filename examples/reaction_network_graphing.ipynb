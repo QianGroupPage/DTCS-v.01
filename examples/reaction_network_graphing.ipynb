{
 "cells": [
  {
   "cell_type": "code",
   "execution_count": 16,
   "metadata": {},
   "outputs": [],
   "source": [
    "from lblcrn.bulk_crn import *\n",
    "from lblcrn.crn_sym import *\n",
    "from lblcrn.experiments.xps_io import *\n",
    "from lblcrn.experiments.solution_system import *\n",
    "import bqplot.pyplot as plt\n",
    "import pickle\n",
    "import pandas as pd\n",
    "import numpy as np\n",
    "import seaborn as sb\n",
    "import scipy.signal as signal\n",
    "from mpl_toolkits.axes_grid1 import ImageGrid"
   ]
  },
  {
   "cell_type": "code",
   "execution_count": 17,
   "metadata": {},
   "outputs": [],
   "source": [
    "sm = SpeciesManager()\n",
    "\n",
    "v_3n_nh2 = sm.sp('v_3n_nh2', Orbital('1s', 535.0))\n",
    "v_h2 = sm.sp('v_h2', Orbital('1s', 532.2))\n",
    "v_3n_nh2_2h = sm.sp('v_3n_nh2_2h', Orbital('1s', 530.9))\n",
    "v_3n_nh3_h = sm.sp('v_3n_nh3_h', Orbital('1s', 530.0))\n",
    "v_3n_h = sm.sp('v_3n_h', Orbital('1s', 530.0))\n",
    "v_nh3 = sm.sp('v_nh3', Orbital('1s', 530.0))\n",
    "v_2n_nh = sm.sp('v_2n_nh', Orbital('1s', 530.0))\n",
    "v_2n_nh_2h = sm.sp('v_2n_nh_2h', Orbital('1s', 530.0))\n",
    "v_2n_nh2_h = sm.sp('v_2n_nh2_h', Orbital('1s', 530.0))\n",
    "v_2n_nh3 = sm.sp('v_2n_nh3', Orbital('1s', 530.0))\n",
    "v_2n = sm.sp('v_2n', Orbital('1s', 530.0))\n",
    "v_n2 = sm.sp('v_n2', Orbital('1s', 530.0))\n",
    "v_2n_n2 = sm.sp('v_2n_n2', Orbital('1s', 530.0))\n",
    "v_4n = sm.sp('v_4n', Orbital('1s', 530.0))\n",
    "v_3n_nh_h = sm.sp('v_3nh_h', Orbital('1s', 530.0))\n",
    "v_3n_nh2 = sm.sp('v_3nh2', Orbital('1s', 530.0))\n",
    "v_2n_2h = sm.sp('v_2n_2h', Orbital('1s', 530.0))\n",
    "\n",
    "\n",
    "constants = [7.67e8, 1.41e13, 2.6e6, 2.48e4, 1.03e7, 6.66e2, 1.84e6, 7.2e9, 7.67e8, 3.04e9, 1.6e11, 1.1e6, 1.14e0, 7.79e5,\n",
    "            3.91e5, 3.14e3, 8.69e6, 4.1e7, 7.2e9, 1.35, 2.77e5, 6.45e8, 1.41e13, 7.67e8, 7.67e8, 1.48e4]\n",
    "constants = [10e-9 * c for c in constants]\n",
    "multipliers = [1]\n",
    "\n",
    "main = XPSInitializationData(\n",
    "                'High P, High T',\n",
    "                0,\n",
    "                0,\n",
    "                constants=constants\n",
    "            )\n",
    "\n",
    "init_data = [main]\n",
    "\n",
    "def rsys_generator(scaled):\n",
    "    rsys = RxnSystem(\n",
    "        RevRxn(v_3n_nh2 + v_h2, v_3n_nh2_2h, scaled[0], scaled[1]),\n",
    "        RevRxn(v_3n_nh2_2h, v_3n_nh3_h, scaled[2], scaled[3]),\n",
    "        RevRxn(v_3n_nh3_h, v_3n_h + v_nh3, scaled[4], scaled[5]),\n",
    "        RevRxn(v_3n_h, v_2n_nh, scaled[6], scaled[7]),\n",
    "        RevRxn(v_2n_nh + v_h2, v_2n_nh_2h, scaled[8], scaled[9]),\n",
    "        RevRxn(v_2n_nh_2h, v_2n_nh2_h, scaled[10], scaled[11]),\n",
    "        RevRxn(v_2n_nh2_h, v_2n_nh3, scaled[12], scaled[13]),\n",
    "        RevRxn(v_2n_nh3, v_2n + v_nh3, scaled[14], scaled[15]),\n",
    "        RevRxn(v_2n + v_n2, v_2n_n2, scaled[16], scaled[17]),\n",
    "        RevRxn(v_2n_n2, v_4n, scaled[18], scaled[19]),\n",
    "        RevRxn(v_4n + v_h2, v_3n_nh_h, scaled[20], scaled[21]),\n",
    "        RevRxn(v_3n_nh_h, v_3n_nh2, scaled[22], scaled[23]),\n",
    "        RevRxn(v_2n + v_h2, v_2n_2h, scaled[24], scaled[25]),\n",
    "\n",
    "        Conc(v_n2, 5),\n",
    "        Conc(v_h2, 15),\n",
    "        Conc(v_3n_nh2, 1), # 2-20 range\n",
    "        sm\n",
    "    )\n",
    "    return rsys"
   ]
  },
  {
   "cell_type": "code",
   "execution_count": 21,
   "metadata": {},
   "outputs": [
    {
     "data": {
      "application/vnd.jupyter.widget-view+json": {
       "model_id": "24d8326e467146c6843e90f1cc44f218",
       "version_major": 2,
       "version_minor": 0
      },
      "text/plain": [
       "VBox(children=(Figure(fig_margin={'top': 60, 'bottom': 60, 'left': 60, 'right': 60}, scale_x=LinearScale(allow…"
      ]
     },
     "metadata": {},
     "output_type": "display_data"
    }
   ],
   "source": [
    "import networkx as nx\n",
    "import bqplot\n",
    "\n",
    "%matplotlib inline\n",
    "rsys = rsys_generator([0]*26)\n",
    "rsys.plot()\n",
    "plt.show()"
   ]
  },
  {
   "cell_type": "code",
   "execution_count": 5,
   "metadata": {},
   "outputs": [
    {
     "data": {
      "text/plain": [
       "'1 unit of v_3nh2 and 1 unit of v_h2 are converted to 1 unit of v_3n_nh2_2h at a rate of 0. 1 unit of v_3n_nh2_2h is converted to 1 unit of v_3n_nh3_h at a rate of 0. 1 unit of v_3n_nh3_h is converted to 1 unit of v_3n_h and 1 unit of v_nh3 at a rate of 0. 1 unit of v_3n_h is converted to 1 unit of v_2n_nh at a rate of 0. 1 unit of v_2n_nh and 1 unit of v_h2 are converted to 1 unit of v_2n_nh_2h at a rate of 0. 1 unit of v_2n_nh_2h is converted to 1 unit of v_2n_nh2_h at a rate of 0. 1 unit of v_2n_nh2_h is converted to 1 unit of v_2n_nh3 at a rate of 0. 1 unit of v_2n_nh3 is converted to 1 unit of v_2n and 1 unit of v_nh3 at a rate of 0. 1 unit of v_2n and 1 unit of v_n2 are converted to 1 unit of v_2n_n2 at a rate of 0. 1 unit of v_2n_n2 is converted to 1 unit of v_4n at a rate of 0. 1 unit of v_4n and 1 unit of v_h2 are converted to 1 unit of v_3nh_h at a rate of 0. 1 unit of v_3nh_h is converted to 1 unit of v_3nh2 at a rate of 0. 1 unit of v_2n and 1 unit of v_h2 are converted to 1 unit of v_2n_2h at a rate of 0.'"
      ]
     },
     "execution_count": 5,
     "metadata": {},
     "output_type": "execute_result"
    }
   ],
   "source": [
    "rsys.text()"
   ]
  },
  {
   "cell_type": "code",
   "execution_count": null,
   "metadata": {},
   "outputs": [],
   "source": []
  }
 ],
 "metadata": {
  "kernelspec": {
   "display_name": "Python 3",
   "language": "python",
   "name": "python3"
  },
  "language_info": {
   "codemirror_mode": {
    "name": "ipython",
    "version": 3
   },
   "file_extension": ".py",
   "mimetype": "text/x-python",
   "name": "python",
   "nbconvert_exporter": "python",
   "pygments_lexer": "ipython3",
   "version": "3.8.0"
  }
 },
 "nbformat": 4,
 "nbformat_minor": 4
}
