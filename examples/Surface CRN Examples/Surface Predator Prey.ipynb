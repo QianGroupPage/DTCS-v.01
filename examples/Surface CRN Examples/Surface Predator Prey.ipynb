{
 "cells": [
  {
   "cell_type": "code",
   "execution_count": 17,
   "metadata": {},
   "outputs": [
    {
     "ename": "SyntaxError",
     "evalue": "invalid syntax (<ipython-input-17-4cce78efa81d>, line 8)",
     "output_type": "error",
     "traceback": [
      "\u001b[0;36m  File \u001b[0;32m\"<ipython-input-17-4cce78efa81d>\"\u001b[0;36m, line \u001b[0;32m8\u001b[0m\n\u001b[0;31m    from ././lblcrn import *\u001b[0m\n\u001b[0m          ^\u001b[0m\n\u001b[0;31mSyntaxError\u001b[0m\u001b[0;31m:\u001b[0m invalid syntax\n"
     ]
    }
   ],
   "source": [
    "%%capture\n",
    "# The above line blocks annoying comments from Pygame. It has to stay at the very top of this block.\n",
    "\n",
    "# Initial Setup\n",
    "%matplotlib inline\n",
    "import warnings\n",
    "warnings.filterwarnings(\"ignore\")\n",
    "\n",
    "from lblcrn import *\n",
    "\n",
    "import os\n",
    "import numpy as np\n",
    "import matplotlib.pyplot as plt\n",
    "plt.style.use('seaborn-white')\n",
    "\n",
    "import pandas as pd"
   ]
  },
  {
   "cell_type": "markdown",
   "metadata": {},
   "source": [
    "## Step 1 Name this Run of the Simulator\n",
    "\n",
    "First, make sure you've run the code block above.\n",
    "\n",
    "Define the name of the directory to store the results by changing `RESULTS_PATH` and `RUN_NUM`. `RESULTS_PATH` will store things you have on the machine. `RUN_NUM` part of the directory name differentiates the different runs of the same simulation.\n",
    "\n",
    "Set `DEV_MODE` to `True` till you're satisfied with the figures. Then set it to `False`, take a rest, and wait for much smoother graphs.\n",
    "\n",
    "If `DEV_MODE` is set to `False`, the Surface CRN will use a 20 by 20 grid."
   ]
  },
  {
   "cell_type": "code",
   "execution_count": 4,
   "metadata": {},
   "outputs": [
    {
     "name": "stdout",
     "output_type": "stream",
     "text": [
      "Creation of the directory Simple Examples/Test Two Types of Diffusion Rules More Surface Species Move Wolves failed\n"
     ]
    }
   ],
   "source": [
    "RESULTS_PATH = \"Simple Examples/Test Two Types of Diffusion Rules More Surface Species Move Wolves\"\n",
    "\n",
    "RUN_NUM = 0\n",
    "\n",
    "DEV_MODE = True\n",
    "\n",
    "if DEV_MODE:\n",
    "    grid_annotation = \"10 by 10\"\n",
    "else:\n",
    "    grid_annotation = \"20 by 20\"\n",
    "    \n",
    "if RUN_NUM:    \n",
    "    RESULTS_PATH = \"{} {}st Run - {} Grid\".format(RESULTS_PATH, RUN_NUM, grid_annotation)\n",
    "\n",
    "try:\n",
    "    os.mkdir(RESULTS_PATH)\n",
    "except OSError:\n",
    "    print (\"Creation of the directory {} failed\".format(RESULTS_PATH))    "
   ]
  },
  {
   "cell_type": "markdown",
   "metadata": {},
   "source": [
    "## Step 2 Define the Reaction System\n",
    "\n",
    "Supply the reaction rules. Be sure to double check that the rates are correct.\n",
    "\n",
    "You may change random number seed `rng_seed` once in a while. The Surface CRN is probabilistic; changing the random number seed may have some effect on the final results."
   ]
  },
  {
   "cell_type": "code",
   "execution_count": 3,
   "metadata": {},
   "outputs": [],
   "source": [
    "rules = \"\"\"\n",
    "# Run settings\n",
    "pixels_per_node    = 100\n",
    "speedup_factor     = 0.5\n",
    "debug              = True\n",
    "rng_seed           = 923123122\n",
    "max_duration       = 100\n",
    "fps                = 1\n",
    "node_display       = text\n",
    "wrap               = false\n",
    "capture_directory  = {}\n",
    "movie_title = Predator Prey\n",
    "\n",
    "\"\"\".format(RESULTS_PATH) + \"\"\"\n",
    "!START_TRANSITION_RULES\n",
    "#(1.5) wolf + rabbit -> wolf + wolf\n",
    "\n",
    "# Dominates if\n",
    "# 3: rabbits dominate\n",
    "# 2: rabbits dominate\n",
    "# 1: rabbits dominate\n",
    "# 0.5: you see a rough cycle in rabbit population\n",
    "# 0.1: both die off\n",
    "# 0.01: both die off\n",
    "# Since there is large forest, this constant has a large weight, and shall not be evaluated\n",
    "# on a similar scale as the wolf profileration function.\n",
    "#(1) forest + rabbit -> rabbit + rabbit\n",
    "\n",
    "# This, also, has a different relationship to the first term\n",
    "# It can die any time with this term. \n",
    "# With first term, it doesn't die.\n",
    "#(1) wolf -> forest\n",
    "# rabbit -> forest\n",
    "\n",
    "# Diffusion rules\n",
    "(1) rabbit + forest -> forest + rabbit\n",
    "(1) wolf + forest -> forest + wolf\n",
    "#(1) forest + rabbit -> forest + rabbit\n",
    "#(1) forest + wolf -> forest + wolf\n",
    "!END_TRANSITION_RULES\n",
    "\n",
    "# Initial state\n",
    "!START_INIT_STATE\n",
    "# TO BE HARD CODED AND RETURNED BY CODE\n",
    "forest forest wolf forest forest forest forest forest forest forest\n",
    "forest forest forest forest forest forest forest forest forest forest\n",
    "forest rabbit forest forest forest wolf forest forest forest forest\n",
    "forest forest forest forest forest forest wolf forest forest forest\n",
    "forest forest forest forest wolf forest forest forest forest forest\n",
    "forest forest forest rabbit forest forest forest forest forest forest\n",
    "forest forest forest forest forest wolf forest forest forest forest\n",
    "forest forest forest forest forest forest rabbit forest forest forest\n",
    "forest forest forest forest forest forest forest forest forest forest\n",
    "forest forest forest forest forest forest forest forest forest forest\n",
    "!END_INIT_STATE\n",
    "\n",
    "# Colormap\n",
    "!START_COLORMAP\n",
    "wolf: (160,160,160)\n",
    "# rabbit pink\n",
    "rabbit: (247, 225, 218)\n",
    "# forest green\n",
    "forest: (34,139,34)\n",
    "!END_COLORMAP\n",
    "\"\"\""
   ]
  },
  {
   "cell_type": "code",
   "execution_count": 10,
   "metadata": {},
   "outputs": [],
   "source": [
    "sm = SpeciesManager()\n",
    "prey = sm.sp('rabbit', Orbital('1s', 1.0))\n",
    "pred = sm.sp('wolf', Orbital('1s', 2))\n",
    "\n",
    "rsys = RxnSystem(\n",
    "    sm,\n",
    "\n",
    "    Rxn(prey + pred, 2 * pred, 2),\n",
    "    Rxn(prey, 2 * prey, 1),\n",
    "    Rxn(pred, None, 1),\n",
    "\n",
    "    Conc(pred, 1),\n",
    "    Conc(prey, 1),\n",
    ")"
   ]
  },
  {
   "cell_type": "markdown",
   "metadata": {},
   "source": [
    "Feel free to edit the reaction rules elsewhere. In that case, we need only the filename here."
   ]
  },
  {
   "cell_type": "code",
   "execution_count": 5,
   "metadata": {},
   "outputs": [],
   "source": [
    "# rules_file = \"low_pressure_reaction_rules.txt\""
   ]
  },
  {
   "cell_type": "markdown",
   "metadata": {},
   "source": [
    "## Step 3 the Secret Sausage\n",
    "\n",
    "Run the Surface CRN. You need to give it a list of species to track."
   ]
  },
  {
   "cell_type": "code",
   "execution_count": 11,
   "metadata": {},
   "outputs": [],
   "source": [
    "species = [\"rabbit\", \"wolf\"]"
   ]
  },
  {
   "cell_type": "code",
   "execution_count": 12,
   "metadata": {},
   "outputs": [
    {
     "ename": "NameError",
     "evalue": "name 'scrn_simulate' is not defined",
     "output_type": "error",
     "traceback": [
      "\u001b[0;31m---------------------------------------------------------------------------\u001b[0m",
      "\u001b[0;31mNameError\u001b[0m                                 Traceback (most recent call last)",
      "\u001b[0;32m<ipython-input-12-763629bd4ef1>\u001b[0m in \u001b[0;36m<module>\u001b[0;34m\u001b[0m\n\u001b[1;32m      2\u001b[0m \u001b[0;31m# be the very first line of this block.\u001b[0m\u001b[0;34m\u001b[0m\u001b[0;34m\u001b[0m\u001b[0;34m\u001b[0m\u001b[0m\n\u001b[1;32m      3\u001b[0m \u001b[0;31m# These messages may come of use if you suspect the Surface CRN is incorrectly understanding your input.\u001b[0m\u001b[0;34m\u001b[0m\u001b[0;34m\u001b[0m\u001b[0;34m\u001b[0m\u001b[0m\n\u001b[0;32m----> 4\u001b[0;31m \u001b[0mscrn_simulate\u001b[0m\u001b[0;34m(\u001b[0m\u001b[0mrules_file\u001b[0m\u001b[0;34m,\u001b[0m \u001b[0mrsys\u001b[0m\u001b[0;34m)\u001b[0m\u001b[0;34m\u001b[0m\u001b[0;34m\u001b[0m\u001b[0m\n\u001b[0m",
      "\u001b[0;31mNameError\u001b[0m: name 'scrn_simulate' is not defined"
     ]
    }
   ],
   "source": [
    "%%capture\n",
    "# The above line suppresses the Surface CRN's printing of the initial setup as it understands it. It has to\n",
    "# be the very first line of this block.\n",
    "# These messages may come of use if you suspect the Surface CRN is incorrectly understanding your input.\n",
    "scrn_simulate(rules_file, rsys)"
   ]
  },
  {
   "cell_type": "code",
   "execution_count": null,
   "metadata": {},
   "outputs": [],
   "source": [
    "%%capture\n",
    "results = scrn_simulate(rules_file, rsys, species_tracked=species)"
   ]
  }
 ],
 "metadata": {
  "kernelspec": {
   "display_name": "Python 3",
   "language": "python",
   "name": "python3"
  },
  "language_info": {
   "codemirror_mode": {
    "name": "ipython",
    "version": 3
   },
   "file_extension": ".py",
   "mimetype": "text/x-python",
   "name": "python",
   "nbconvert_exporter": "python",
   "pygments_lexer": "ipython3",
   "version": "3.7.7"
  },
  "pycharm": {
   "stem_cell": {
    "cell_type": "raw",
    "metadata": {
     "collapsed": false
    },
    "source": []
   }
  }
 },
 "nbformat": 4,
 "nbformat_minor": 2
}
