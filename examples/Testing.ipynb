{
 "cells": [
  {
   "cell_type": "markdown",
   "metadata": {},
   "source": [
    "### Examples & Tests"
   ]
  },
  {
   "cell_type": "code",
   "execution_count": 1,
   "metadata": {},
   "outputs": [],
   "source": [
    "from crn_sym import *\n",
    "from solution import *\n",
    "from species import *\n",
    "import matplotlib.pyplot as plt"
   ]
  },
  {
   "cell_type": "code",
   "execution_count": 2,
   "metadata": {},
   "outputs": [],
   "source": [
    "sm = SpeciesManager()\n",
    "\n",
    "x1 = sm.sp('X #1', Orbital('1s', 531), 0, {0: 10})\n",
    "x2 = sm.sp('X #2', Orbital('1s', 532), 0, {0: 5})\n",
    "\n",
    "rsys = RxnSystem(\n",
    "    Rxn(x1 + x2, 2 * x2, 1.5),\n",
    "    Rxn(x1, 2 * x1, 1),\n",
    "    Rxn(x2, 1, 1),\n",
    "    \n",
    "    ConcEq(x1, 2),\n",
    "    ConcEq(x2, 1),\n",
    "    sm\n",
    ")\n",
    "\n",
    "tmax = 45"
   ]
  },
  {
   "cell_type": "code",
   "execution_count": 6,
   "metadata": {},
   "outputs": [
    {
     "data": {
      "image/png": "[encoded data removed]",
      "text/plain": [
       "<Figure size 432x288 with 1 Axes>"
      ]
     },
     "metadata": {
      "needs_background": "light"
     },
     "output_type": "display_data"
    }
   ],
   "source": [
    "solution = solve(rsys, time=tmax)\n",
    "\n",
    "try:\n",
    "    solution.plot_gaussian()\n",
    "except ValueError:\n",
    "    pass"
   ]
  },
  {
   "cell_type": "code",
   "execution_count": null,
   "metadata": {},
   "outputs": [],
   "source": []
  },
  {
   "cell_type": "code",
   "execution_count": null,
   "metadata": {},
   "outputs": [],
   "source": []
  }
 ],
 "metadata": {
  "kernelspec": {
   "display_name": "Python 3",
   "language": "python",
   "name": "python3"
  },
  "language_info": {
   "codemirror_mode": {
    "name": "ipython",
    "version": 3
   },
   "file_extension": ".py",
   "mimetype": "text/x-python",
   "name": "python",
   "nbconvert_exporter": "python",
   "pygments_lexer": "ipython3",
   "version": "3.7.0"
  }
 },
 "nbformat": 4,
 "nbformat_minor": 2
}
