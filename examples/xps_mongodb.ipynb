{
 "cells": [
  {
   "cell_type": "code",
   "execution_count": 1,
   "metadata": {},
   "outputs": [],
   "source": [
    "from lblcrn.crn_sym import *\n",
    "from lblcrn.experiments.simulate import simulate\n",
    "from lblcrn.experiments.xps_io import read_exp"
   ]
  },
  {
   "cell_type": "code",
   "execution_count": 2,
   "metadata": {},
   "outputs": [],
   "source": [
    "sm = SpeciesManager()\n",
    "\n",
    "y1 = sm.sp('H2Og', Orbital('1s', 535.0))\n",
    "x2 = sm.sp('H2O*', Orbital('1s', 532.2))\n",
    "x3 = sm.sp('OH*', Orbital('1s', 530.9))\n",
    "x4 = sm.sp('O*', Orbital('1s', 530.0))\n",
    "x53 = sm.sp('OH.H2O_hb', Orbital('1s', 531.6))\n",
    "x54 = sm.sp('O.H2O_hb', Orbital('1s', 531.6))\n",
    "x6 = sm.sp('multiH2O', Orbital('1s', 533.2))\n",
    "x7 = sm.sp('O2g', Orbital('1s', 535.0))\n",
    "\n",
    "rsys = RxnSystem(\n",
    "    Rxn(x4 + y1, x54, 3.207654),\n",
    "    Rxn(x3 + y1, x53, 1.363342),\n",
    "    RevRxn(x54, x3 + x3, 6.220646,0.160755),\n",
    "    Rxn(x53, x2 + x3, 0.299507),\n",
    "    Rxn(x54, x2 + x4, 0.167130),\n",
    "    Rxn(x2, y1, 1.939313),\n",
    "    Rxn(y1, x2, 0.515646),\n",
    "    Rxn(x53, y1 + x3, 0.733491),\n",
    "    Rxn(x54, x4 + y1, 0.311754),\n",
    "    Rxn(x53 + y1, x6, 1.038423),\n",
    "    Rxn(x6, x53 + y1, 0.962999),\n",
    "    RevRxn(x4 + x4, x7, 0.002342,426.922895),\n",
    "    Conc(y1,1),\n",
    "    Conc(x4,0.25),\n",
    "    sm\n",
    ")"
   ]
  },
  {
   "cell_type": "code",
   "execution_count": 3,
   "metadata": {},
   "outputs": [
    {
     "name": "stdout",
     "output_type": "stream",
     "text": [
      "[Orbital(name='1s', binding_energy=532.2)]\n",
      "[Orbital(name='1s', binding_energy=530.0)]\n",
      "[Orbital(name='1s', binding_energy=531.6)]\n",
      "[Orbital(name='1s', binding_energy=535.0)]\n",
      "[Orbital(name='1s', binding_energy=530.9)]\n",
      "[Orbital(name='1s', binding_energy=531.6)]\n",
      "[Orbital(name='1s', binding_energy=533.2)]\n"
     ]
    }
   ],
   "source": [
    "xps, ts = simulate(rsys, 500, max_step=1, ignore=[y1])"
   ]
  },
  {
   "cell_type": "code",
   "execution_count": 4,
   "metadata": {},
   "outputs": [
    {
     "name": "stdout",
     "output_type": "stream",
     "text": [
      "[Orbital(name='1s', binding_energy=532.2)]\n",
      "[Orbital(name='1s', binding_energy=530.0)]\n",
      "[Orbital(name='1s', binding_energy=531.6)]\n",
      "[Orbital(name='1s', binding_energy=535.0)]\n",
      "[Orbital(name='1s', binding_energy=530.9)]\n",
      "[Orbital(name='1s', binding_energy=531.6)]\n",
      "[Orbital(name='1s', binding_energy=533.2)]\n"
     ]
    },
    {
     "data": {
      "text/plain": [
       "<matplotlib.axes._subplots.AxesSubplot at 0x12f049b20>"
      ]
     },
     "execution_count": 4,
     "metadata": {},
     "output_type": "execute_result"
    },
    {
     "data": {
      "image/png": "[encoded data removed]",
      "text/plain": [
       "<Figure size 432x288 with 1 Axes>"
      ]
     },
     "metadata": {
      "needs_background": "light"
     },
     "output_type": "display_data"
    }
   ],
   "source": [
    "xps.plot(augment=True)"
   ]
  },
  {
   "cell_type": "code",
   "execution_count": null,
   "metadata": {},
   "outputs": [],
   "source": []
  }
 ],
 "metadata": {
  "kernelspec": {
   "display_name": "Python 3",
   "language": "python",
   "name": "python3"
  },
  "language_info": {
   "codemirror_mode": {
    "name": "ipython",
    "version": 3
   },
   "file_extension": ".py",
   "mimetype": "text/x-python",
   "name": "python",
   "nbconvert_exporter": "python",
   "pygments_lexer": "ipython3",
   "version": "3.8.0"
  }
 },
 "nbformat": 4,
 "nbformat_minor": 4
}
